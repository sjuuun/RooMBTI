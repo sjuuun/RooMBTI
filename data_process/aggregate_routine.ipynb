{
 "cells": [
  {
   "cell_type": "markdown",
   "source": [
    "# Data Process to aggregate routines\n",
    "\n",
    "This is guide to aggregate routines\n",
    "\n",
    "---\n",
    "\n",
    "In location.ipynb, we analyze location data and derive routines from location data.\n",
    "Here, we are going to aggregate those routines to visualize routines.\n",
    "\n",
    "Please, run location.ipynb first."
   ],
   "metadata": {
    "collapsed": false
   }
  },
  {
   "cell_type": "markdown",
   "source": [
    "## Aggregate daily\n",
    "\n",
    "aggregate for daily routine\n",
    "\n",
    "DataFrame schema\n",
    "- start_at\n",
    "- end_at\n",
    "- routine\n",
    "- user_id\n"
   ],
   "metadata": {
    "collapsed": false
   }
  },
  {
   "cell_type": "code",
   "execution_count": 8,
   "outputs": [],
   "source": [
    "# Please change USER_ID\n",
    "USER_ID = 'P3029'\n",
    "LOCATION_DATASET_DIRECTORY = f'../csv/routines_raw/{USER_ID}-location.csv'\n",
    "SLEEP_DATASET_DIRECTORY = f'../csv/routines_raw/{USER_ID}-sleep.csv'"
   ],
   "metadata": {
    "collapsed": false,
    "ExecuteTime": {
     "end_time": "2023-05-21T13:17:52.198920Z",
     "start_time": "2023-05-21T13:17:52.195636Z"
    }
   }
  },
  {
   "cell_type": "code",
   "execution_count": 16,
   "outputs": [
    {
     "data": {
      "text/plain": "   user_id                  start_at                    end_at  weekday   \n0    P3029 2019-04-30 09:00:00+09:00 2019-04-30 09:15:00+09:00        1  \\\n1    P3029 2019-04-30 09:45:00+09:00 2019-04-30 10:00:00+09:00        1   \n2    P3029 2019-04-30 10:00:00+09:00 2019-04-30 10:15:00+09:00        1   \n3    P3029 2019-04-30 10:15:00+09:00 2019-04-30 10:30:00+09:00        1   \n4    P3029 2019-04-30 11:00:00+09:00 2019-04-30 11:15:00+09:00        1   \n..     ...                       ...                       ...      ...   \n1    P3029 2019-05-02 03:45:00+09:00 2019-05-02 08:15:00+09:00        3   \n2    P3029 2019-05-03 02:45:00+09:00 2019-05-03 08:45:00+09:00        4   \n3    P3029 2019-05-04 03:45:00+09:00 2019-05-04 09:15:00+09:00        5   \n4    P3029 2019-05-05 03:00:00+09:00 2019-05-05 07:30:00+09:00        6   \n5    P3029 2019-05-06 03:45:00+09:00 2019-05-06 12:00:00+09:00        0   \n\n   routine  \n0    CLASS  \n1    CLASS  \n2    CLASS  \n3    CLASS  \n4    CLASS  \n..     ...  \n1    SLEEP  \n2    SLEEP  \n3    SLEEP  \n4    SLEEP  \n5    SLEEP  \n\n[98 rows x 5 columns]",
      "text/html": "<div>\n<style scoped>\n    .dataframe tbody tr th:only-of-type {\n        vertical-align: middle;\n    }\n\n    .dataframe tbody tr th {\n        vertical-align: top;\n    }\n\n    .dataframe thead th {\n        text-align: right;\n    }\n</style>\n<table border=\"1\" class=\"dataframe\">\n  <thead>\n    <tr style=\"text-align: right;\">\n      <th></th>\n      <th>user_id</th>\n      <th>start_at</th>\n      <th>end_at</th>\n      <th>weekday</th>\n      <th>routine</th>\n    </tr>\n  </thead>\n  <tbody>\n    <tr>\n      <th>0</th>\n      <td>P3029</td>\n      <td>2019-04-30 09:00:00+09:00</td>\n      <td>2019-04-30 09:15:00+09:00</td>\n      <td>1</td>\n      <td>CLASS</td>\n    </tr>\n    <tr>\n      <th>1</th>\n      <td>P3029</td>\n      <td>2019-04-30 09:45:00+09:00</td>\n      <td>2019-04-30 10:00:00+09:00</td>\n      <td>1</td>\n      <td>CLASS</td>\n    </tr>\n    <tr>\n      <th>2</th>\n      <td>P3029</td>\n      <td>2019-04-30 10:00:00+09:00</td>\n      <td>2019-04-30 10:15:00+09:00</td>\n      <td>1</td>\n      <td>CLASS</td>\n    </tr>\n    <tr>\n      <th>3</th>\n      <td>P3029</td>\n      <td>2019-04-30 10:15:00+09:00</td>\n      <td>2019-04-30 10:30:00+09:00</td>\n      <td>1</td>\n      <td>CLASS</td>\n    </tr>\n    <tr>\n      <th>4</th>\n      <td>P3029</td>\n      <td>2019-04-30 11:00:00+09:00</td>\n      <td>2019-04-30 11:15:00+09:00</td>\n      <td>1</td>\n      <td>CLASS</td>\n    </tr>\n    <tr>\n      <th>...</th>\n      <td>...</td>\n      <td>...</td>\n      <td>...</td>\n      <td>...</td>\n      <td>...</td>\n    </tr>\n    <tr>\n      <th>1</th>\n      <td>P3029</td>\n      <td>2019-05-02 03:45:00+09:00</td>\n      <td>2019-05-02 08:15:00+09:00</td>\n      <td>3</td>\n      <td>SLEEP</td>\n    </tr>\n    <tr>\n      <th>2</th>\n      <td>P3029</td>\n      <td>2019-05-03 02:45:00+09:00</td>\n      <td>2019-05-03 08:45:00+09:00</td>\n      <td>4</td>\n      <td>SLEEP</td>\n    </tr>\n    <tr>\n      <th>3</th>\n      <td>P3029</td>\n      <td>2019-05-04 03:45:00+09:00</td>\n      <td>2019-05-04 09:15:00+09:00</td>\n      <td>5</td>\n      <td>SLEEP</td>\n    </tr>\n    <tr>\n      <th>4</th>\n      <td>P3029</td>\n      <td>2019-05-05 03:00:00+09:00</td>\n      <td>2019-05-05 07:30:00+09:00</td>\n      <td>6</td>\n      <td>SLEEP</td>\n    </tr>\n    <tr>\n      <th>5</th>\n      <td>P3029</td>\n      <td>2019-05-06 03:45:00+09:00</td>\n      <td>2019-05-06 12:00:00+09:00</td>\n      <td>0</td>\n      <td>SLEEP</td>\n    </tr>\n  </tbody>\n</table>\n<p>98 rows × 5 columns</p>\n</div>"
     },
     "execution_count": 16,
     "metadata": {},
     "output_type": "execute_result"
    }
   ],
   "source": [
    "import pandas as pd\n",
    "\n",
    "raw_df = pd.concat([\n",
    "    pd.read_csv(LOCATION_DATASET_DIRECTORY)[['user_id', 'start_at', 'end_at', 'weekday', 'routine']],\n",
    "    pd.read_csv(SLEEP_DATASET_DIRECTORY)[['user_id', 'start_at', 'end_at', 'weekday', 'routine']]\n",
    "])\n",
    "raw_df['start_at'] = pd.to_datetime(raw_df['start_at'])\n",
    "raw_df['end_at'] = pd.to_datetime(raw_df['end_at'])\n",
    "\n",
    "raw_df"
   ],
   "metadata": {
    "collapsed": false,
    "ExecuteTime": {
     "end_time": "2023-05-21T13:19:13.917385Z",
     "start_time": "2023-05-21T13:19:13.894756Z"
    }
   }
  },
  {
   "cell_type": "code",
   "execution_count": 14,
   "outputs": [
    {
     "name": "stdout",
     "output_type": "stream",
     "text": [
      "<class 'pandas.core.frame.DataFrame'>\n",
      "Index: 98 entries, 0 to 5\n",
      "Data columns (total 5 columns):\n",
      " #   Column    Non-Null Count  Dtype                    \n",
      "---  ------    --------------  -----                    \n",
      " 0   user_id   98 non-null     object                   \n",
      " 1   start_at  98 non-null     datetime64[ns, UTC+09:00]\n",
      " 2   end_at    98 non-null     datetime64[ns, UTC+09:00]\n",
      " 3   weekday   98 non-null     int64                    \n",
      " 4   routine   98 non-null     object                   \n",
      "dtypes: datetime64[ns, UTC+09:00](2), int64(1), object(2)\n",
      "memory usage: 4.6+ KB\n"
     ]
    }
   ],
   "source": [
    "raw_df.info()"
   ],
   "metadata": {
    "collapsed": false,
    "ExecuteTime": {
     "end_time": "2023-05-21T13:18:53.069792Z",
     "start_time": "2023-05-21T13:18:53.047380Z"
    }
   }
  },
  {
   "cell_type": "code",
   "execution_count": 17,
   "outputs": [
    {
     "data": {
      "text/plain": "   user_id  start_at    end_at   routine\n0    P3029  00:00:00  00:15:00    INDOOR\n1    P3029  00:15:00  00:30:00    INDOOR\n2    P3029  00:30:00  00:45:00    INDOOR\n3    P3029  00:45:00  01:00:00     STUDY\n4    P3029  02:00:00  02:15:00     STUDY\n5    P3029  02:45:00  08:45:00     SLEEP\n6    P3029  03:00:00  07:30:00     SLEEP\n7    P3029  03:00:00  08:15:00     SLEEP\n8    P3029  03:45:00  08:15:00     SLEEP\n9    P3029  03:45:00  09:15:00     SLEEP\n10   P3029  03:45:00  12:00:00     SLEEP\n11   P3029  09:00:00  09:15:00     CLASS\n12   P3029  09:45:00  10:00:00     CLASS\n13   P3029  10:00:00  10:15:00     CLASS\n14   P3029  10:15:00  10:30:00     CLASS\n15   P3029  10:45:00  11:00:00    INDOOR\n16   P3029  11:00:00  11:15:00     CLASS\n17   P3029  11:15:00  11:30:00    INDOOR\n18   P3029  11:30:00  11:45:00     CLASS\n19   P3029  11:45:00  12:00:00    INDOOR\n20   P3029  12:00:00  12:15:00     CLASS\n21   P3029  12:15:00  12:30:00      MEAL\n22   P3029  12:30:00  12:45:00      MEAL\n23   P3029  12:45:00  13:00:00    INDOOR\n24   P3029  13:00:00  13:15:00    INDOOR\n25   P3029  13:15:00  13:30:00     CLASS\n26   P3029  13:30:00  13:45:00     CLASS\n27   P3029  13:45:00  14:00:00     CLASS\n28   P3029  14:00:00  14:15:00     CLASS\n29   P3029  14:15:00  14:30:00      MEAL\n30   P3029  14:30:00  14:45:00    INDOOR\n31   P3029  14:45:00  15:00:00     CLASS\n32   P3029  15:00:00  15:15:00    INDOOR\n33   P3029  15:30:00  15:45:00    INDOOR\n34   P3029  15:45:00  16:00:00     STUDY\n35   P3029  16:00:00  16:15:00    INDOOR\n36   P3029  17:15:00  17:30:00    INDOOR\n37   P3029  17:30:00  17:45:00    INDOOR\n38   P3029  17:45:00  18:00:00  EXERCISE\n39   P3029  18:00:00  18:15:00  EXERCISE\n40   P3029  18:15:00  18:30:00    INDOOR\n41   P3029  18:30:00  18:45:00    INDOOR\n42   P3029  18:45:00  19:00:00    INDOOR\n43   P3029  19:00:00  19:15:00    INDOOR\n44   P3029  19:15:00  19:30:00    INDOOR\n45   P3029  19:30:00  19:45:00    INDOOR\n46   P3029  19:45:00  20:00:00    INDOOR\n47   P3029  20:00:00  20:15:00    INDOOR\n48   P3029  20:15:00  20:30:00    INDOOR\n49   P3029  20:30:00  20:45:00    INDOOR\n50   P3029  20:45:00  21:00:00    INDOOR\n51   P3029  21:00:00  21:15:00    INDOOR\n52   P3029  21:15:00  21:30:00    INDOOR\n53   P3029  21:30:00  21:45:00     STUDY\n54   P3029  21:45:00  22:00:00    INDOOR\n55   P3029  22:45:00  23:00:00     STUDY\n56   P3029  23:15:00  23:30:00     STUDY\n57   P3029  23:45:00  00:00:00     STUDY",
      "text/html": "<div>\n<style scoped>\n    .dataframe tbody tr th:only-of-type {\n        vertical-align: middle;\n    }\n\n    .dataframe tbody tr th {\n        vertical-align: top;\n    }\n\n    .dataframe thead th {\n        text-align: right;\n    }\n</style>\n<table border=\"1\" class=\"dataframe\">\n  <thead>\n    <tr style=\"text-align: right;\">\n      <th></th>\n      <th>user_id</th>\n      <th>start_at</th>\n      <th>end_at</th>\n      <th>routine</th>\n    </tr>\n  </thead>\n  <tbody>\n    <tr>\n      <th>0</th>\n      <td>P3029</td>\n      <td>00:00:00</td>\n      <td>00:15:00</td>\n      <td>INDOOR</td>\n    </tr>\n    <tr>\n      <th>1</th>\n      <td>P3029</td>\n      <td>00:15:00</td>\n      <td>00:30:00</td>\n      <td>INDOOR</td>\n    </tr>\n    <tr>\n      <th>2</th>\n      <td>P3029</td>\n      <td>00:30:00</td>\n      <td>00:45:00</td>\n      <td>INDOOR</td>\n    </tr>\n    <tr>\n      <th>3</th>\n      <td>P3029</td>\n      <td>00:45:00</td>\n      <td>01:00:00</td>\n      <td>STUDY</td>\n    </tr>\n    <tr>\n      <th>4</th>\n      <td>P3029</td>\n      <td>02:00:00</td>\n      <td>02:15:00</td>\n      <td>STUDY</td>\n    </tr>\n    <tr>\n      <th>5</th>\n      <td>P3029</td>\n      <td>02:45:00</td>\n      <td>08:45:00</td>\n      <td>SLEEP</td>\n    </tr>\n    <tr>\n      <th>6</th>\n      <td>P3029</td>\n      <td>03:00:00</td>\n      <td>07:30:00</td>\n      <td>SLEEP</td>\n    </tr>\n    <tr>\n      <th>7</th>\n      <td>P3029</td>\n      <td>03:00:00</td>\n      <td>08:15:00</td>\n      <td>SLEEP</td>\n    </tr>\n    <tr>\n      <th>8</th>\n      <td>P3029</td>\n      <td>03:45:00</td>\n      <td>08:15:00</td>\n      <td>SLEEP</td>\n    </tr>\n    <tr>\n      <th>9</th>\n      <td>P3029</td>\n      <td>03:45:00</td>\n      <td>09:15:00</td>\n      <td>SLEEP</td>\n    </tr>\n    <tr>\n      <th>10</th>\n      <td>P3029</td>\n      <td>03:45:00</td>\n      <td>12:00:00</td>\n      <td>SLEEP</td>\n    </tr>\n    <tr>\n      <th>11</th>\n      <td>P3029</td>\n      <td>09:00:00</td>\n      <td>09:15:00</td>\n      <td>CLASS</td>\n    </tr>\n    <tr>\n      <th>12</th>\n      <td>P3029</td>\n      <td>09:45:00</td>\n      <td>10:00:00</td>\n      <td>CLASS</td>\n    </tr>\n    <tr>\n      <th>13</th>\n      <td>P3029</td>\n      <td>10:00:00</td>\n      <td>10:15:00</td>\n      <td>CLASS</td>\n    </tr>\n    <tr>\n      <th>14</th>\n      <td>P3029</td>\n      <td>10:15:00</td>\n      <td>10:30:00</td>\n      <td>CLASS</td>\n    </tr>\n    <tr>\n      <th>15</th>\n      <td>P3029</td>\n      <td>10:45:00</td>\n      <td>11:00:00</td>\n      <td>INDOOR</td>\n    </tr>\n    <tr>\n      <th>16</th>\n      <td>P3029</td>\n      <td>11:00:00</td>\n      <td>11:15:00</td>\n      <td>CLASS</td>\n    </tr>\n    <tr>\n      <th>17</th>\n      <td>P3029</td>\n      <td>11:15:00</td>\n      <td>11:30:00</td>\n      <td>INDOOR</td>\n    </tr>\n    <tr>\n      <th>18</th>\n      <td>P3029</td>\n      <td>11:30:00</td>\n      <td>11:45:00</td>\n      <td>CLASS</td>\n    </tr>\n    <tr>\n      <th>19</th>\n      <td>P3029</td>\n      <td>11:45:00</td>\n      <td>12:00:00</td>\n      <td>INDOOR</td>\n    </tr>\n    <tr>\n      <th>20</th>\n      <td>P3029</td>\n      <td>12:00:00</td>\n      <td>12:15:00</td>\n      <td>CLASS</td>\n    </tr>\n    <tr>\n      <th>21</th>\n      <td>P3029</td>\n      <td>12:15:00</td>\n      <td>12:30:00</td>\n      <td>MEAL</td>\n    </tr>\n    <tr>\n      <th>22</th>\n      <td>P3029</td>\n      <td>12:30:00</td>\n      <td>12:45:00</td>\n      <td>MEAL</td>\n    </tr>\n    <tr>\n      <th>23</th>\n      <td>P3029</td>\n      <td>12:45:00</td>\n      <td>13:00:00</td>\n      <td>INDOOR</td>\n    </tr>\n    <tr>\n      <th>24</th>\n      <td>P3029</td>\n      <td>13:00:00</td>\n      <td>13:15:00</td>\n      <td>INDOOR</td>\n    </tr>\n    <tr>\n      <th>25</th>\n      <td>P3029</td>\n      <td>13:15:00</td>\n      <td>13:30:00</td>\n      <td>CLASS</td>\n    </tr>\n    <tr>\n      <th>26</th>\n      <td>P3029</td>\n      <td>13:30:00</td>\n      <td>13:45:00</td>\n      <td>CLASS</td>\n    </tr>\n    <tr>\n      <th>27</th>\n      <td>P3029</td>\n      <td>13:45:00</td>\n      <td>14:00:00</td>\n      <td>CLASS</td>\n    </tr>\n    <tr>\n      <th>28</th>\n      <td>P3029</td>\n      <td>14:00:00</td>\n      <td>14:15:00</td>\n      <td>CLASS</td>\n    </tr>\n    <tr>\n      <th>29</th>\n      <td>P3029</td>\n      <td>14:15:00</td>\n      <td>14:30:00</td>\n      <td>MEAL</td>\n    </tr>\n    <tr>\n      <th>30</th>\n      <td>P3029</td>\n      <td>14:30:00</td>\n      <td>14:45:00</td>\n      <td>INDOOR</td>\n    </tr>\n    <tr>\n      <th>31</th>\n      <td>P3029</td>\n      <td>14:45:00</td>\n      <td>15:00:00</td>\n      <td>CLASS</td>\n    </tr>\n    <tr>\n      <th>32</th>\n      <td>P3029</td>\n      <td>15:00:00</td>\n      <td>15:15:00</td>\n      <td>INDOOR</td>\n    </tr>\n    <tr>\n      <th>33</th>\n      <td>P3029</td>\n      <td>15:30:00</td>\n      <td>15:45:00</td>\n      <td>INDOOR</td>\n    </tr>\n    <tr>\n      <th>34</th>\n      <td>P3029</td>\n      <td>15:45:00</td>\n      <td>16:00:00</td>\n      <td>STUDY</td>\n    </tr>\n    <tr>\n      <th>35</th>\n      <td>P3029</td>\n      <td>16:00:00</td>\n      <td>16:15:00</td>\n      <td>INDOOR</td>\n    </tr>\n    <tr>\n      <th>36</th>\n      <td>P3029</td>\n      <td>17:15:00</td>\n      <td>17:30:00</td>\n      <td>INDOOR</td>\n    </tr>\n    <tr>\n      <th>37</th>\n      <td>P3029</td>\n      <td>17:30:00</td>\n      <td>17:45:00</td>\n      <td>INDOOR</td>\n    </tr>\n    <tr>\n      <th>38</th>\n      <td>P3029</td>\n      <td>17:45:00</td>\n      <td>18:00:00</td>\n      <td>EXERCISE</td>\n    </tr>\n    <tr>\n      <th>39</th>\n      <td>P3029</td>\n      <td>18:00:00</td>\n      <td>18:15:00</td>\n      <td>EXERCISE</td>\n    </tr>\n    <tr>\n      <th>40</th>\n      <td>P3029</td>\n      <td>18:15:00</td>\n      <td>18:30:00</td>\n      <td>INDOOR</td>\n    </tr>\n    <tr>\n      <th>41</th>\n      <td>P3029</td>\n      <td>18:30:00</td>\n      <td>18:45:00</td>\n      <td>INDOOR</td>\n    </tr>\n    <tr>\n      <th>42</th>\n      <td>P3029</td>\n      <td>18:45:00</td>\n      <td>19:00:00</td>\n      <td>INDOOR</td>\n    </tr>\n    <tr>\n      <th>43</th>\n      <td>P3029</td>\n      <td>19:00:00</td>\n      <td>19:15:00</td>\n      <td>INDOOR</td>\n    </tr>\n    <tr>\n      <th>44</th>\n      <td>P3029</td>\n      <td>19:15:00</td>\n      <td>19:30:00</td>\n      <td>INDOOR</td>\n    </tr>\n    <tr>\n      <th>45</th>\n      <td>P3029</td>\n      <td>19:30:00</td>\n      <td>19:45:00</td>\n      <td>INDOOR</td>\n    </tr>\n    <tr>\n      <th>46</th>\n      <td>P3029</td>\n      <td>19:45:00</td>\n      <td>20:00:00</td>\n      <td>INDOOR</td>\n    </tr>\n    <tr>\n      <th>47</th>\n      <td>P3029</td>\n      <td>20:00:00</td>\n      <td>20:15:00</td>\n      <td>INDOOR</td>\n    </tr>\n    <tr>\n      <th>48</th>\n      <td>P3029</td>\n      <td>20:15:00</td>\n      <td>20:30:00</td>\n      <td>INDOOR</td>\n    </tr>\n    <tr>\n      <th>49</th>\n      <td>P3029</td>\n      <td>20:30:00</td>\n      <td>20:45:00</td>\n      <td>INDOOR</td>\n    </tr>\n    <tr>\n      <th>50</th>\n      <td>P3029</td>\n      <td>20:45:00</td>\n      <td>21:00:00</td>\n      <td>INDOOR</td>\n    </tr>\n    <tr>\n      <th>51</th>\n      <td>P3029</td>\n      <td>21:00:00</td>\n      <td>21:15:00</td>\n      <td>INDOOR</td>\n    </tr>\n    <tr>\n      <th>52</th>\n      <td>P3029</td>\n      <td>21:15:00</td>\n      <td>21:30:00</td>\n      <td>INDOOR</td>\n    </tr>\n    <tr>\n      <th>53</th>\n      <td>P3029</td>\n      <td>21:30:00</td>\n      <td>21:45:00</td>\n      <td>STUDY</td>\n    </tr>\n    <tr>\n      <th>54</th>\n      <td>P3029</td>\n      <td>21:45:00</td>\n      <td>22:00:00</td>\n      <td>INDOOR</td>\n    </tr>\n    <tr>\n      <th>55</th>\n      <td>P3029</td>\n      <td>22:45:00</td>\n      <td>23:00:00</td>\n      <td>STUDY</td>\n    </tr>\n    <tr>\n      <th>56</th>\n      <td>P3029</td>\n      <td>23:15:00</td>\n      <td>23:30:00</td>\n      <td>STUDY</td>\n    </tr>\n    <tr>\n      <th>57</th>\n      <td>P3029</td>\n      <td>23:45:00</td>\n      <td>00:00:00</td>\n      <td>STUDY</td>\n    </tr>\n  </tbody>\n</table>\n</div>"
     },
     "execution_count": 17,
     "metadata": {},
     "output_type": "execute_result"
    }
   ],
   "source": [
    "daily_df = raw_df.copy()\n",
    "daily_df['start_at'] = daily_df['start_at'].dt.time\n",
    "daily_df['end_at'] = daily_df['end_at'].dt.time\n",
    "\n",
    "daily_df = daily_df.groupby(['user_id', 'start_at', 'end_at']) \\\n",
    "                   .agg(routine=('routine', lambda x: pd.Series.mode(x)[0])) \\\n",
    "                   .reset_index()\n",
    "\n",
    "daily_df"
   ],
   "metadata": {
    "collapsed": false,
    "ExecuteTime": {
     "end_time": "2023-05-21T13:19:28.778493Z",
     "start_time": "2023-05-21T13:19:28.776071Z"
    }
   }
  },
  {
   "cell_type": "code",
   "execution_count": 18,
   "outputs": [
    {
     "name": "stdout",
     "output_type": "stream",
     "text": [
      "<class 'pandas.core.frame.DataFrame'>\n",
      "RangeIndex: 58 entries, 0 to 57\n",
      "Data columns (total 4 columns):\n",
      " #   Column    Non-Null Count  Dtype \n",
      "---  ------    --------------  ----- \n",
      " 0   user_id   58 non-null     object\n",
      " 1   start_at  58 non-null     object\n",
      " 2   end_at    58 non-null     object\n",
      " 3   routine   58 non-null     object\n",
      "dtypes: object(4)\n",
      "memory usage: 1.9+ KB\n"
     ]
    }
   ],
   "source": [
    "daily_df.info()"
   ],
   "metadata": {
    "collapsed": false,
    "ExecuteTime": {
     "end_time": "2023-05-21T13:19:30.940957Z",
     "start_time": "2023-05-21T13:19:30.928716Z"
    }
   }
  },
  {
   "cell_type": "markdown",
   "source": [
    "### Check with Daily Routine"
   ],
   "metadata": {
    "collapsed": false
   }
  },
  {
   "cell_type": "code",
   "execution_count": 19,
   "outputs": [
    {
     "name": "stderr",
     "output_type": "stream",
     "text": [
      "/var/folders/lc/t81_pjvs3pz1c1xf8_vn53sc0000gn/T/ipykernel_85067/1894013341.py:4: SettingWithCopyWarning:\n",
      "\n",
      "\n",
      "A value is trying to be set on a copy of a slice from a DataFrame.\n",
      "Try using .loc[row_indexer,col_indexer] = value instead\n",
      "\n",
      "See the caveats in the documentation: https://pandas.pydata.org/pandas-docs/stable/user_guide/indexing.html#returning-a-view-versus-a-copy\n",
      "\n",
      "/var/folders/lc/t81_pjvs3pz1c1xf8_vn53sc0000gn/T/ipykernel_85067/1894013341.py:5: SettingWithCopyWarning:\n",
      "\n",
      "\n",
      "A value is trying to be set on a copy of a slice from a DataFrame.\n",
      "Try using .loc[row_indexer,col_indexer] = value instead\n",
      "\n",
      "See the caveats in the documentation: https://pandas.pydata.org/pandas-docs/stable/user_guide/indexing.html#returning-a-view-versus-a-copy\n",
      "\n"
     ]
    },
    {
     "data": {
      "application/vnd.plotly.v1+json": {
       "data": [
        {
         "alignmentgroup": "True",
         "base": [
          "1900-01-01T00:45:00",
          "1900-01-01T02:00:00",
          "1900-01-01T15:45:00",
          "1900-01-01T21:30:00",
          "1900-01-01T22:45:00",
          "1900-01-01T23:15:00",
          "1900-01-01T23:45:00"
         ],
         "hovertemplate": "routine=STUDY<br>start_at=%{base}<br>end_at=%{x}<br>user_id=%{y}<extra></extra>",
         "legendgroup": "STUDY",
         "marker": {
          "color": "#636efa",
          "pattern": {
           "shape": ""
          }
         },
         "name": "STUDY",
         "offsetgroup": "STUDY",
         "orientation": "h",
         "showlegend": true,
         "textposition": "auto",
         "x": [
          900000.0,
          900000.0,
          900000.0,
          900000.0,
          900000.0,
          900000.0,
          900000.0
         ],
         "xaxis": "x",
         "y": [
          "P3029",
          "P3029",
          "P3029",
          "P3029",
          "P3029",
          "P3029",
          "P3029"
         ],
         "yaxis": "y",
         "type": "bar"
        },
        {
         "alignmentgroup": "True",
         "base": [
          "1900-01-01T02:45:00",
          "1900-01-01T03:00:00",
          "1900-01-01T03:00:00",
          "1900-01-01T03:45:00",
          "1900-01-01T03:45:00",
          "1900-01-01T03:45:00"
         ],
         "hovertemplate": "routine=SLEEP<br>start_at=%{base}<br>end_at=%{x}<br>user_id=%{y}<extra></extra>",
         "legendgroup": "SLEEP",
         "marker": {
          "color": "#EF553B",
          "pattern": {
           "shape": ""
          }
         },
         "name": "SLEEP",
         "offsetgroup": "SLEEP",
         "orientation": "h",
         "showlegend": true,
         "textposition": "auto",
         "x": [
          900000.0,
          900000.0,
          900000.0,
          900000.0,
          900000.0,
          900000.0
         ],
         "xaxis": "x",
         "y": [
          "P3029",
          "P3029",
          "P3029",
          "P3029",
          "P3029",
          "P3029"
         ],
         "yaxis": "y",
         "type": "bar"
        },
        {
         "alignmentgroup": "True",
         "base": [
          "1900-01-01T09:00:00",
          "1900-01-01T09:45:00",
          "1900-01-01T10:00:00",
          "1900-01-01T10:15:00",
          "1900-01-01T11:00:00",
          "1900-01-01T11:30:00",
          "1900-01-01T12:00:00",
          "1900-01-01T13:15:00",
          "1900-01-01T13:30:00",
          "1900-01-01T13:45:00",
          "1900-01-01T14:00:00",
          "1900-01-01T14:45:00"
         ],
         "hovertemplate": "routine=CLASS<br>start_at=%{base}<br>end_at=%{x}<br>user_id=%{y}<extra></extra>",
         "legendgroup": "CLASS",
         "marker": {
          "color": "#00cc96",
          "pattern": {
           "shape": ""
          }
         },
         "name": "CLASS",
         "offsetgroup": "CLASS",
         "orientation": "h",
         "showlegend": true,
         "textposition": "auto",
         "x": [
          900000.0,
          900000.0,
          900000.0,
          900000.0,
          900000.0,
          900000.0,
          900000.0,
          900000.0,
          900000.0,
          900000.0,
          900000.0,
          900000.0
         ],
         "xaxis": "x",
         "y": [
          "P3029",
          "P3029",
          "P3029",
          "P3029",
          "P3029",
          "P3029",
          "P3029",
          "P3029",
          "P3029",
          "P3029",
          "P3029",
          "P3029"
         ],
         "yaxis": "y",
         "type": "bar"
        },
        {
         "alignmentgroup": "True",
         "base": [
          "1900-01-01T12:15:00",
          "1900-01-01T12:30:00",
          "1900-01-01T14:15:00"
         ],
         "hovertemplate": "routine=MEAL<br>start_at=%{base}<br>end_at=%{x}<br>user_id=%{y}<extra></extra>",
         "legendgroup": "MEAL",
         "marker": {
          "color": "#ab63fa",
          "pattern": {
           "shape": ""
          }
         },
         "name": "MEAL",
         "offsetgroup": "MEAL",
         "orientation": "h",
         "showlegend": true,
         "textposition": "auto",
         "x": [
          900000.0,
          900000.0,
          900000.0
         ],
         "xaxis": "x",
         "y": [
          "P3029",
          "P3029",
          "P3029"
         ],
         "yaxis": "y",
         "type": "bar"
        },
        {
         "alignmentgroup": "True",
         "base": [
          "1900-01-01T17:45:00",
          "1900-01-01T18:00:00"
         ],
         "hovertemplate": "routine=EXERCISE<br>start_at=%{base}<br>end_at=%{x}<br>user_id=%{y}<extra></extra>",
         "legendgroup": "EXERCISE",
         "marker": {
          "color": "#FFA15A",
          "pattern": {
           "shape": ""
          }
         },
         "name": "EXERCISE",
         "offsetgroup": "EXERCISE",
         "orientation": "h",
         "showlegend": true,
         "textposition": "auto",
         "x": [
          900000.0,
          900000.0
         ],
         "xaxis": "x",
         "y": [
          "P3029",
          "P3029"
         ],
         "yaxis": "y",
         "type": "bar"
        }
       ],
       "layout": {
        "template": {
         "data": {
          "histogram2dcontour": [
           {
            "type": "histogram2dcontour",
            "colorbar": {
             "outlinewidth": 0,
             "ticks": ""
            },
            "colorscale": [
             [
              0.0,
              "#0d0887"
             ],
             [
              0.1111111111111111,
              "#46039f"
             ],
             [
              0.2222222222222222,
              "#7201a8"
             ],
             [
              0.3333333333333333,
              "#9c179e"
             ],
             [
              0.4444444444444444,
              "#bd3786"
             ],
             [
              0.5555555555555556,
              "#d8576b"
             ],
             [
              0.6666666666666666,
              "#ed7953"
             ],
             [
              0.7777777777777778,
              "#fb9f3a"
             ],
             [
              0.8888888888888888,
              "#fdca26"
             ],
             [
              1.0,
              "#f0f921"
             ]
            ]
           }
          ],
          "choropleth": [
           {
            "type": "choropleth",
            "colorbar": {
             "outlinewidth": 0,
             "ticks": ""
            }
           }
          ],
          "histogram2d": [
           {
            "type": "histogram2d",
            "colorbar": {
             "outlinewidth": 0,
             "ticks": ""
            },
            "colorscale": [
             [
              0.0,
              "#0d0887"
             ],
             [
              0.1111111111111111,
              "#46039f"
             ],
             [
              0.2222222222222222,
              "#7201a8"
             ],
             [
              0.3333333333333333,
              "#9c179e"
             ],
             [
              0.4444444444444444,
              "#bd3786"
             ],
             [
              0.5555555555555556,
              "#d8576b"
             ],
             [
              0.6666666666666666,
              "#ed7953"
             ],
             [
              0.7777777777777778,
              "#fb9f3a"
             ],
             [
              0.8888888888888888,
              "#fdca26"
             ],
             [
              1.0,
              "#f0f921"
             ]
            ]
           }
          ],
          "heatmap": [
           {
            "type": "heatmap",
            "colorbar": {
             "outlinewidth": 0,
             "ticks": ""
            },
            "colorscale": [
             [
              0.0,
              "#0d0887"
             ],
             [
              0.1111111111111111,
              "#46039f"
             ],
             [
              0.2222222222222222,
              "#7201a8"
             ],
             [
              0.3333333333333333,
              "#9c179e"
             ],
             [
              0.4444444444444444,
              "#bd3786"
             ],
             [
              0.5555555555555556,
              "#d8576b"
             ],
             [
              0.6666666666666666,
              "#ed7953"
             ],
             [
              0.7777777777777778,
              "#fb9f3a"
             ],
             [
              0.8888888888888888,
              "#fdca26"
             ],
             [
              1.0,
              "#f0f921"
             ]
            ]
           }
          ],
          "heatmapgl": [
           {
            "type": "heatmapgl",
            "colorbar": {
             "outlinewidth": 0,
             "ticks": ""
            },
            "colorscale": [
             [
              0.0,
              "#0d0887"
             ],
             [
              0.1111111111111111,
              "#46039f"
             ],
             [
              0.2222222222222222,
              "#7201a8"
             ],
             [
              0.3333333333333333,
              "#9c179e"
             ],
             [
              0.4444444444444444,
              "#bd3786"
             ],
             [
              0.5555555555555556,
              "#d8576b"
             ],
             [
              0.6666666666666666,
              "#ed7953"
             ],
             [
              0.7777777777777778,
              "#fb9f3a"
             ],
             [
              0.8888888888888888,
              "#fdca26"
             ],
             [
              1.0,
              "#f0f921"
             ]
            ]
           }
          ],
          "contourcarpet": [
           {
            "type": "contourcarpet",
            "colorbar": {
             "outlinewidth": 0,
             "ticks": ""
            }
           }
          ],
          "contour": [
           {
            "type": "contour",
            "colorbar": {
             "outlinewidth": 0,
             "ticks": ""
            },
            "colorscale": [
             [
              0.0,
              "#0d0887"
             ],
             [
              0.1111111111111111,
              "#46039f"
             ],
             [
              0.2222222222222222,
              "#7201a8"
             ],
             [
              0.3333333333333333,
              "#9c179e"
             ],
             [
              0.4444444444444444,
              "#bd3786"
             ],
             [
              0.5555555555555556,
              "#d8576b"
             ],
             [
              0.6666666666666666,
              "#ed7953"
             ],
             [
              0.7777777777777778,
              "#fb9f3a"
             ],
             [
              0.8888888888888888,
              "#fdca26"
             ],
             [
              1.0,
              "#f0f921"
             ]
            ]
           }
          ],
          "surface": [
           {
            "type": "surface",
            "colorbar": {
             "outlinewidth": 0,
             "ticks": ""
            },
            "colorscale": [
             [
              0.0,
              "#0d0887"
             ],
             [
              0.1111111111111111,
              "#46039f"
             ],
             [
              0.2222222222222222,
              "#7201a8"
             ],
             [
              0.3333333333333333,
              "#9c179e"
             ],
             [
              0.4444444444444444,
              "#bd3786"
             ],
             [
              0.5555555555555556,
              "#d8576b"
             ],
             [
              0.6666666666666666,
              "#ed7953"
             ],
             [
              0.7777777777777778,
              "#fb9f3a"
             ],
             [
              0.8888888888888888,
              "#fdca26"
             ],
             [
              1.0,
              "#f0f921"
             ]
            ]
           }
          ],
          "mesh3d": [
           {
            "type": "mesh3d",
            "colorbar": {
             "outlinewidth": 0,
             "ticks": ""
            }
           }
          ],
          "scatter": [
           {
            "marker": {
             "line": {
              "color": "#283442"
             }
            },
            "type": "scatter"
           }
          ],
          "parcoords": [
           {
            "type": "parcoords",
            "line": {
             "colorbar": {
              "outlinewidth": 0,
              "ticks": ""
             }
            }
           }
          ],
          "scatterpolargl": [
           {
            "type": "scatterpolargl",
            "marker": {
             "colorbar": {
              "outlinewidth": 0,
              "ticks": ""
             }
            }
           }
          ],
          "bar": [
           {
            "error_x": {
             "color": "#f2f5fa"
            },
            "error_y": {
             "color": "#f2f5fa"
            },
            "marker": {
             "line": {
              "color": "rgb(17,17,17)",
              "width": 0.5
             },
             "pattern": {
              "fillmode": "overlay",
              "size": 10,
              "solidity": 0.2
             }
            },
            "type": "bar"
           }
          ],
          "scattergeo": [
           {
            "type": "scattergeo",
            "marker": {
             "colorbar": {
              "outlinewidth": 0,
              "ticks": ""
             }
            }
           }
          ],
          "scatterpolar": [
           {
            "type": "scatterpolar",
            "marker": {
             "colorbar": {
              "outlinewidth": 0,
              "ticks": ""
             }
            }
           }
          ],
          "histogram": [
           {
            "marker": {
             "pattern": {
              "fillmode": "overlay",
              "size": 10,
              "solidity": 0.2
             }
            },
            "type": "histogram"
           }
          ],
          "scattergl": [
           {
            "marker": {
             "line": {
              "color": "#283442"
             }
            },
            "type": "scattergl"
           }
          ],
          "scatter3d": [
           {
            "type": "scatter3d",
            "line": {
             "colorbar": {
              "outlinewidth": 0,
              "ticks": ""
             }
            },
            "marker": {
             "colorbar": {
              "outlinewidth": 0,
              "ticks": ""
             }
            }
           }
          ],
          "scattermapbox": [
           {
            "type": "scattermapbox",
            "marker": {
             "colorbar": {
              "outlinewidth": 0,
              "ticks": ""
             }
            }
           }
          ],
          "scatterternary": [
           {
            "type": "scatterternary",
            "marker": {
             "colorbar": {
              "outlinewidth": 0,
              "ticks": ""
             }
            }
           }
          ],
          "scattercarpet": [
           {
            "type": "scattercarpet",
            "marker": {
             "colorbar": {
              "outlinewidth": 0,
              "ticks": ""
             }
            }
           }
          ],
          "carpet": [
           {
            "aaxis": {
             "endlinecolor": "#A2B1C6",
             "gridcolor": "#506784",
             "linecolor": "#506784",
             "minorgridcolor": "#506784",
             "startlinecolor": "#A2B1C6"
            },
            "baxis": {
             "endlinecolor": "#A2B1C6",
             "gridcolor": "#506784",
             "linecolor": "#506784",
             "minorgridcolor": "#506784",
             "startlinecolor": "#A2B1C6"
            },
            "type": "carpet"
           }
          ],
          "table": [
           {
            "cells": {
             "fill": {
              "color": "#506784"
             },
             "line": {
              "color": "rgb(17,17,17)"
             }
            },
            "header": {
             "fill": {
              "color": "#2a3f5f"
             },
             "line": {
              "color": "rgb(17,17,17)"
             }
            },
            "type": "table"
           }
          ],
          "barpolar": [
           {
            "marker": {
             "line": {
              "color": "rgb(17,17,17)",
              "width": 0.5
             },
             "pattern": {
              "fillmode": "overlay",
              "size": 10,
              "solidity": 0.2
             }
            },
            "type": "barpolar"
           }
          ],
          "pie": [
           {
            "automargin": true,
            "type": "pie"
           }
          ]
         },
         "layout": {
          "autotypenumbers": "strict",
          "colorway": [
           "#636efa",
           "#EF553B",
           "#00cc96",
           "#ab63fa",
           "#FFA15A",
           "#19d3f3",
           "#FF6692",
           "#B6E880",
           "#FF97FF",
           "#FECB52"
          ],
          "font": {
           "color": "#f2f5fa"
          },
          "hovermode": "closest",
          "hoverlabel": {
           "align": "left"
          },
          "paper_bgcolor": "rgb(17,17,17)",
          "plot_bgcolor": "rgb(17,17,17)",
          "polar": {
           "bgcolor": "rgb(17,17,17)",
           "angularaxis": {
            "gridcolor": "#506784",
            "linecolor": "#506784",
            "ticks": ""
           },
           "radialaxis": {
            "gridcolor": "#506784",
            "linecolor": "#506784",
            "ticks": ""
           }
          },
          "ternary": {
           "bgcolor": "rgb(17,17,17)",
           "aaxis": {
            "gridcolor": "#506784",
            "linecolor": "#506784",
            "ticks": ""
           },
           "baxis": {
            "gridcolor": "#506784",
            "linecolor": "#506784",
            "ticks": ""
           },
           "caxis": {
            "gridcolor": "#506784",
            "linecolor": "#506784",
            "ticks": ""
           }
          },
          "coloraxis": {
           "colorbar": {
            "outlinewidth": 0,
            "ticks": ""
           }
          },
          "colorscale": {
           "sequential": [
            [
             0.0,
             "#0d0887"
            ],
            [
             0.1111111111111111,
             "#46039f"
            ],
            [
             0.2222222222222222,
             "#7201a8"
            ],
            [
             0.3333333333333333,
             "#9c179e"
            ],
            [
             0.4444444444444444,
             "#bd3786"
            ],
            [
             0.5555555555555556,
             "#d8576b"
            ],
            [
             0.6666666666666666,
             "#ed7953"
            ],
            [
             0.7777777777777778,
             "#fb9f3a"
            ],
            [
             0.8888888888888888,
             "#fdca26"
            ],
            [
             1.0,
             "#f0f921"
            ]
           ],
           "sequentialminus": [
            [
             0.0,
             "#0d0887"
            ],
            [
             0.1111111111111111,
             "#46039f"
            ],
            [
             0.2222222222222222,
             "#7201a8"
            ],
            [
             0.3333333333333333,
             "#9c179e"
            ],
            [
             0.4444444444444444,
             "#bd3786"
            ],
            [
             0.5555555555555556,
             "#d8576b"
            ],
            [
             0.6666666666666666,
             "#ed7953"
            ],
            [
             0.7777777777777778,
             "#fb9f3a"
            ],
            [
             0.8888888888888888,
             "#fdca26"
            ],
            [
             1.0,
             "#f0f921"
            ]
           ],
           "diverging": [
            [
             0,
             "#8e0152"
            ],
            [
             0.1,
             "#c51b7d"
            ],
            [
             0.2,
             "#de77ae"
            ],
            [
             0.3,
             "#f1b6da"
            ],
            [
             0.4,
             "#fde0ef"
            ],
            [
             0.5,
             "#f7f7f7"
            ],
            [
             0.6,
             "#e6f5d0"
            ],
            [
             0.7,
             "#b8e186"
            ],
            [
             0.8,
             "#7fbc41"
            ],
            [
             0.9,
             "#4d9221"
            ],
            [
             1,
             "#276419"
            ]
           ]
          },
          "xaxis": {
           "gridcolor": "#283442",
           "linecolor": "#506784",
           "ticks": "",
           "title": {
            "standoff": 15
           },
           "zerolinecolor": "#283442",
           "automargin": true,
           "zerolinewidth": 2
          },
          "yaxis": {
           "gridcolor": "#283442",
           "linecolor": "#506784",
           "ticks": "",
           "title": {
            "standoff": 15
           },
           "zerolinecolor": "#283442",
           "automargin": true,
           "zerolinewidth": 2
          },
          "scene": {
           "xaxis": {
            "backgroundcolor": "rgb(17,17,17)",
            "gridcolor": "#506784",
            "linecolor": "#506784",
            "showbackground": true,
            "ticks": "",
            "zerolinecolor": "#C8D4E3",
            "gridwidth": 2
           },
           "yaxis": {
            "backgroundcolor": "rgb(17,17,17)",
            "gridcolor": "#506784",
            "linecolor": "#506784",
            "showbackground": true,
            "ticks": "",
            "zerolinecolor": "#C8D4E3",
            "gridwidth": 2
           },
           "zaxis": {
            "backgroundcolor": "rgb(17,17,17)",
            "gridcolor": "#506784",
            "linecolor": "#506784",
            "showbackground": true,
            "ticks": "",
            "zerolinecolor": "#C8D4E3",
            "gridwidth": 2
           }
          },
          "shapedefaults": {
           "line": {
            "color": "#f2f5fa"
           }
          },
          "annotationdefaults": {
           "arrowcolor": "#f2f5fa",
           "arrowhead": 0,
           "arrowwidth": 1
          },
          "geo": {
           "bgcolor": "rgb(17,17,17)",
           "landcolor": "rgb(17,17,17)",
           "subunitcolor": "#506784",
           "showland": true,
           "showlakes": true,
           "lakecolor": "rgb(17,17,17)"
          },
          "title": {
           "x": 0.05
          },
          "updatemenudefaults": {
           "bgcolor": "#506784",
           "borderwidth": 0
          },
          "sliderdefaults": {
           "bgcolor": "#C8D4E3",
           "borderwidth": 1,
           "bordercolor": "rgb(17,17,17)",
           "tickwidth": 0
          },
          "mapbox": {
           "style": "dark"
          }
         }
        },
        "xaxis": {
         "anchor": "y",
         "domain": [
          0.0,
          1.0
         ],
         "type": "date",
         "tickformat": "%H:%M"
        },
        "yaxis": {
         "anchor": "x",
         "domain": [
          0.0,
          1.0
         ],
         "title": {
          "text": "user_id"
         }
        },
        "legend": {
         "title": {
          "text": "routine"
         },
         "tracegroupgap": 0
        },
        "margin": {
         "t": 60
        },
        "barmode": "overlay",
        "height": 400,
        "width": 1200
       },
       "config": {
        "plotlyServerURL": "https://plot.ly"
       }
      },
      "text/html": "<div>                            <div id=\"7fa158b5-3d2d-4a90-b46c-61929fc76680\" class=\"plotly-graph-div\" style=\"height:400px; width:1200px;\"></div>            <script type=\"text/javascript\">                require([\"plotly\"], function(Plotly) {                    window.PLOTLYENV=window.PLOTLYENV || {};                                    if (document.getElementById(\"7fa158b5-3d2d-4a90-b46c-61929fc76680\")) {                    Plotly.newPlot(                        \"7fa158b5-3d2d-4a90-b46c-61929fc76680\",                        [{\"alignmentgroup\":\"True\",\"base\":[\"1900-01-01T00:45:00\",\"1900-01-01T02:00:00\",\"1900-01-01T15:45:00\",\"1900-01-01T21:30:00\",\"1900-01-01T22:45:00\",\"1900-01-01T23:15:00\",\"1900-01-01T23:45:00\"],\"hovertemplate\":\"routine=STUDY<br>start_at=%{base}<br>end_at=%{x}<br>user_id=%{y}<extra></extra>\",\"legendgroup\":\"STUDY\",\"marker\":{\"color\":\"#636efa\",\"pattern\":{\"shape\":\"\"}},\"name\":\"STUDY\",\"offsetgroup\":\"STUDY\",\"orientation\":\"h\",\"showlegend\":true,\"textposition\":\"auto\",\"x\":[900000.0,900000.0,900000.0,900000.0,900000.0,900000.0,900000.0],\"xaxis\":\"x\",\"y\":[\"P3029\",\"P3029\",\"P3029\",\"P3029\",\"P3029\",\"P3029\",\"P3029\"],\"yaxis\":\"y\",\"type\":\"bar\"},{\"alignmentgroup\":\"True\",\"base\":[\"1900-01-01T02:45:00\",\"1900-01-01T03:00:00\",\"1900-01-01T03:00:00\",\"1900-01-01T03:45:00\",\"1900-01-01T03:45:00\",\"1900-01-01T03:45:00\"],\"hovertemplate\":\"routine=SLEEP<br>start_at=%{base}<br>end_at=%{x}<br>user_id=%{y}<extra></extra>\",\"legendgroup\":\"SLEEP\",\"marker\":{\"color\":\"#EF553B\",\"pattern\":{\"shape\":\"\"}},\"name\":\"SLEEP\",\"offsetgroup\":\"SLEEP\",\"orientation\":\"h\",\"showlegend\":true,\"textposition\":\"auto\",\"x\":[900000.0,900000.0,900000.0,900000.0,900000.0,900000.0],\"xaxis\":\"x\",\"y\":[\"P3029\",\"P3029\",\"P3029\",\"P3029\",\"P3029\",\"P3029\"],\"yaxis\":\"y\",\"type\":\"bar\"},{\"alignmentgroup\":\"True\",\"base\":[\"1900-01-01T09:00:00\",\"1900-01-01T09:45:00\",\"1900-01-01T10:00:00\",\"1900-01-01T10:15:00\",\"1900-01-01T11:00:00\",\"1900-01-01T11:30:00\",\"1900-01-01T12:00:00\",\"1900-01-01T13:15:00\",\"1900-01-01T13:30:00\",\"1900-01-01T13:45:00\",\"1900-01-01T14:00:00\",\"1900-01-01T14:45:00\"],\"hovertemplate\":\"routine=CLASS<br>start_at=%{base}<br>end_at=%{x}<br>user_id=%{y}<extra></extra>\",\"legendgroup\":\"CLASS\",\"marker\":{\"color\":\"#00cc96\",\"pattern\":{\"shape\":\"\"}},\"name\":\"CLASS\",\"offsetgroup\":\"CLASS\",\"orientation\":\"h\",\"showlegend\":true,\"textposition\":\"auto\",\"x\":[900000.0,900000.0,900000.0,900000.0,900000.0,900000.0,900000.0,900000.0,900000.0,900000.0,900000.0,900000.0],\"xaxis\":\"x\",\"y\":[\"P3029\",\"P3029\",\"P3029\",\"P3029\",\"P3029\",\"P3029\",\"P3029\",\"P3029\",\"P3029\",\"P3029\",\"P3029\",\"P3029\"],\"yaxis\":\"y\",\"type\":\"bar\"},{\"alignmentgroup\":\"True\",\"base\":[\"1900-01-01T12:15:00\",\"1900-01-01T12:30:00\",\"1900-01-01T14:15:00\"],\"hovertemplate\":\"routine=MEAL<br>start_at=%{base}<br>end_at=%{x}<br>user_id=%{y}<extra></extra>\",\"legendgroup\":\"MEAL\",\"marker\":{\"color\":\"#ab63fa\",\"pattern\":{\"shape\":\"\"}},\"name\":\"MEAL\",\"offsetgroup\":\"MEAL\",\"orientation\":\"h\",\"showlegend\":true,\"textposition\":\"auto\",\"x\":[900000.0,900000.0,900000.0],\"xaxis\":\"x\",\"y\":[\"P3029\",\"P3029\",\"P3029\"],\"yaxis\":\"y\",\"type\":\"bar\"},{\"alignmentgroup\":\"True\",\"base\":[\"1900-01-01T17:45:00\",\"1900-01-01T18:00:00\"],\"hovertemplate\":\"routine=EXERCISE<br>start_at=%{base}<br>end_at=%{x}<br>user_id=%{y}<extra></extra>\",\"legendgroup\":\"EXERCISE\",\"marker\":{\"color\":\"#FFA15A\",\"pattern\":{\"shape\":\"\"}},\"name\":\"EXERCISE\",\"offsetgroup\":\"EXERCISE\",\"orientation\":\"h\",\"showlegend\":true,\"textposition\":\"auto\",\"x\":[900000.0,900000.0],\"xaxis\":\"x\",\"y\":[\"P3029\",\"P3029\"],\"yaxis\":\"y\",\"type\":\"bar\"}],                        {\"template\":{\"data\":{\"histogram2dcontour\":[{\"type\":\"histogram2dcontour\",\"colorbar\":{\"outlinewidth\":0,\"ticks\":\"\"},\"colorscale\":[[0.0,\"#0d0887\"],[0.1111111111111111,\"#46039f\"],[0.2222222222222222,\"#7201a8\"],[0.3333333333333333,\"#9c179e\"],[0.4444444444444444,\"#bd3786\"],[0.5555555555555556,\"#d8576b\"],[0.6666666666666666,\"#ed7953\"],[0.7777777777777778,\"#fb9f3a\"],[0.8888888888888888,\"#fdca26\"],[1.0,\"#f0f921\"]]}],\"choropleth\":[{\"type\":\"choropleth\",\"colorbar\":{\"outlinewidth\":0,\"ticks\":\"\"}}],\"histogram2d\":[{\"type\":\"histogram2d\",\"colorbar\":{\"outlinewidth\":0,\"ticks\":\"\"},\"colorscale\":[[0.0,\"#0d0887\"],[0.1111111111111111,\"#46039f\"],[0.2222222222222222,\"#7201a8\"],[0.3333333333333333,\"#9c179e\"],[0.4444444444444444,\"#bd3786\"],[0.5555555555555556,\"#d8576b\"],[0.6666666666666666,\"#ed7953\"],[0.7777777777777778,\"#fb9f3a\"],[0.8888888888888888,\"#fdca26\"],[1.0,\"#f0f921\"]]}],\"heatmap\":[{\"type\":\"heatmap\",\"colorbar\":{\"outlinewidth\":0,\"ticks\":\"\"},\"colorscale\":[[0.0,\"#0d0887\"],[0.1111111111111111,\"#46039f\"],[0.2222222222222222,\"#7201a8\"],[0.3333333333333333,\"#9c179e\"],[0.4444444444444444,\"#bd3786\"],[0.5555555555555556,\"#d8576b\"],[0.6666666666666666,\"#ed7953\"],[0.7777777777777778,\"#fb9f3a\"],[0.8888888888888888,\"#fdca26\"],[1.0,\"#f0f921\"]]}],\"heatmapgl\":[{\"type\":\"heatmapgl\",\"colorbar\":{\"outlinewidth\":0,\"ticks\":\"\"},\"colorscale\":[[0.0,\"#0d0887\"],[0.1111111111111111,\"#46039f\"],[0.2222222222222222,\"#7201a8\"],[0.3333333333333333,\"#9c179e\"],[0.4444444444444444,\"#bd3786\"],[0.5555555555555556,\"#d8576b\"],[0.6666666666666666,\"#ed7953\"],[0.7777777777777778,\"#fb9f3a\"],[0.8888888888888888,\"#fdca26\"],[1.0,\"#f0f921\"]]}],\"contourcarpet\":[{\"type\":\"contourcarpet\",\"colorbar\":{\"outlinewidth\":0,\"ticks\":\"\"}}],\"contour\":[{\"type\":\"contour\",\"colorbar\":{\"outlinewidth\":0,\"ticks\":\"\"},\"colorscale\":[[0.0,\"#0d0887\"],[0.1111111111111111,\"#46039f\"],[0.2222222222222222,\"#7201a8\"],[0.3333333333333333,\"#9c179e\"],[0.4444444444444444,\"#bd3786\"],[0.5555555555555556,\"#d8576b\"],[0.6666666666666666,\"#ed7953\"],[0.7777777777777778,\"#fb9f3a\"],[0.8888888888888888,\"#fdca26\"],[1.0,\"#f0f921\"]]}],\"surface\":[{\"type\":\"surface\",\"colorbar\":{\"outlinewidth\":0,\"ticks\":\"\"},\"colorscale\":[[0.0,\"#0d0887\"],[0.1111111111111111,\"#46039f\"],[0.2222222222222222,\"#7201a8\"],[0.3333333333333333,\"#9c179e\"],[0.4444444444444444,\"#bd3786\"],[0.5555555555555556,\"#d8576b\"],[0.6666666666666666,\"#ed7953\"],[0.7777777777777778,\"#fb9f3a\"],[0.8888888888888888,\"#fdca26\"],[1.0,\"#f0f921\"]]}],\"mesh3d\":[{\"type\":\"mesh3d\",\"colorbar\":{\"outlinewidth\":0,\"ticks\":\"\"}}],\"scatter\":[{\"marker\":{\"line\":{\"color\":\"#283442\"}},\"type\":\"scatter\"}],\"parcoords\":[{\"type\":\"parcoords\",\"line\":{\"colorbar\":{\"outlinewidth\":0,\"ticks\":\"\"}}}],\"scatterpolargl\":[{\"type\":\"scatterpolargl\",\"marker\":{\"colorbar\":{\"outlinewidth\":0,\"ticks\":\"\"}}}],\"bar\":[{\"error_x\":{\"color\":\"#f2f5fa\"},\"error_y\":{\"color\":\"#f2f5fa\"},\"marker\":{\"line\":{\"color\":\"rgb(17,17,17)\",\"width\":0.5},\"pattern\":{\"fillmode\":\"overlay\",\"size\":10,\"solidity\":0.2}},\"type\":\"bar\"}],\"scattergeo\":[{\"type\":\"scattergeo\",\"marker\":{\"colorbar\":{\"outlinewidth\":0,\"ticks\":\"\"}}}],\"scatterpolar\":[{\"type\":\"scatterpolar\",\"marker\":{\"colorbar\":{\"outlinewidth\":0,\"ticks\":\"\"}}}],\"histogram\":[{\"marker\":{\"pattern\":{\"fillmode\":\"overlay\",\"size\":10,\"solidity\":0.2}},\"type\":\"histogram\"}],\"scattergl\":[{\"marker\":{\"line\":{\"color\":\"#283442\"}},\"type\":\"scattergl\"}],\"scatter3d\":[{\"type\":\"scatter3d\",\"line\":{\"colorbar\":{\"outlinewidth\":0,\"ticks\":\"\"}},\"marker\":{\"colorbar\":{\"outlinewidth\":0,\"ticks\":\"\"}}}],\"scattermapbox\":[{\"type\":\"scattermapbox\",\"marker\":{\"colorbar\":{\"outlinewidth\":0,\"ticks\":\"\"}}}],\"scatterternary\":[{\"type\":\"scatterternary\",\"marker\":{\"colorbar\":{\"outlinewidth\":0,\"ticks\":\"\"}}}],\"scattercarpet\":[{\"type\":\"scattercarpet\",\"marker\":{\"colorbar\":{\"outlinewidth\":0,\"ticks\":\"\"}}}],\"carpet\":[{\"aaxis\":{\"endlinecolor\":\"#A2B1C6\",\"gridcolor\":\"#506784\",\"linecolor\":\"#506784\",\"minorgridcolor\":\"#506784\",\"startlinecolor\":\"#A2B1C6\"},\"baxis\":{\"endlinecolor\":\"#A2B1C6\",\"gridcolor\":\"#506784\",\"linecolor\":\"#506784\",\"minorgridcolor\":\"#506784\",\"startlinecolor\":\"#A2B1C6\"},\"type\":\"carpet\"}],\"table\":[{\"cells\":{\"fill\":{\"color\":\"#506784\"},\"line\":{\"color\":\"rgb(17,17,17)\"}},\"header\":{\"fill\":{\"color\":\"#2a3f5f\"},\"line\":{\"color\":\"rgb(17,17,17)\"}},\"type\":\"table\"}],\"barpolar\":[{\"marker\":{\"line\":{\"color\":\"rgb(17,17,17)\",\"width\":0.5},\"pattern\":{\"fillmode\":\"overlay\",\"size\":10,\"solidity\":0.2}},\"type\":\"barpolar\"}],\"pie\":[{\"automargin\":true,\"type\":\"pie\"}]},\"layout\":{\"autotypenumbers\":\"strict\",\"colorway\":[\"#636efa\",\"#EF553B\",\"#00cc96\",\"#ab63fa\",\"#FFA15A\",\"#19d3f3\",\"#FF6692\",\"#B6E880\",\"#FF97FF\",\"#FECB52\"],\"font\":{\"color\":\"#f2f5fa\"},\"hovermode\":\"closest\",\"hoverlabel\":{\"align\":\"left\"},\"paper_bgcolor\":\"rgb(17,17,17)\",\"plot_bgcolor\":\"rgb(17,17,17)\",\"polar\":{\"bgcolor\":\"rgb(17,17,17)\",\"angularaxis\":{\"gridcolor\":\"#506784\",\"linecolor\":\"#506784\",\"ticks\":\"\"},\"radialaxis\":{\"gridcolor\":\"#506784\",\"linecolor\":\"#506784\",\"ticks\":\"\"}},\"ternary\":{\"bgcolor\":\"rgb(17,17,17)\",\"aaxis\":{\"gridcolor\":\"#506784\",\"linecolor\":\"#506784\",\"ticks\":\"\"},\"baxis\":{\"gridcolor\":\"#506784\",\"linecolor\":\"#506784\",\"ticks\":\"\"},\"caxis\":{\"gridcolor\":\"#506784\",\"linecolor\":\"#506784\",\"ticks\":\"\"}},\"coloraxis\":{\"colorbar\":{\"outlinewidth\":0,\"ticks\":\"\"}},\"colorscale\":{\"sequential\":[[0.0,\"#0d0887\"],[0.1111111111111111,\"#46039f\"],[0.2222222222222222,\"#7201a8\"],[0.3333333333333333,\"#9c179e\"],[0.4444444444444444,\"#bd3786\"],[0.5555555555555556,\"#d8576b\"],[0.6666666666666666,\"#ed7953\"],[0.7777777777777778,\"#fb9f3a\"],[0.8888888888888888,\"#fdca26\"],[1.0,\"#f0f921\"]],\"sequentialminus\":[[0.0,\"#0d0887\"],[0.1111111111111111,\"#46039f\"],[0.2222222222222222,\"#7201a8\"],[0.3333333333333333,\"#9c179e\"],[0.4444444444444444,\"#bd3786\"],[0.5555555555555556,\"#d8576b\"],[0.6666666666666666,\"#ed7953\"],[0.7777777777777778,\"#fb9f3a\"],[0.8888888888888888,\"#fdca26\"],[1.0,\"#f0f921\"]],\"diverging\":[[0,\"#8e0152\"],[0.1,\"#c51b7d\"],[0.2,\"#de77ae\"],[0.3,\"#f1b6da\"],[0.4,\"#fde0ef\"],[0.5,\"#f7f7f7\"],[0.6,\"#e6f5d0\"],[0.7,\"#b8e186\"],[0.8,\"#7fbc41\"],[0.9,\"#4d9221\"],[1,\"#276419\"]]},\"xaxis\":{\"gridcolor\":\"#283442\",\"linecolor\":\"#506784\",\"ticks\":\"\",\"title\":{\"standoff\":15},\"zerolinecolor\":\"#283442\",\"automargin\":true,\"zerolinewidth\":2},\"yaxis\":{\"gridcolor\":\"#283442\",\"linecolor\":\"#506784\",\"ticks\":\"\",\"title\":{\"standoff\":15},\"zerolinecolor\":\"#283442\",\"automargin\":true,\"zerolinewidth\":2},\"scene\":{\"xaxis\":{\"backgroundcolor\":\"rgb(17,17,17)\",\"gridcolor\":\"#506784\",\"linecolor\":\"#506784\",\"showbackground\":true,\"ticks\":\"\",\"zerolinecolor\":\"#C8D4E3\",\"gridwidth\":2},\"yaxis\":{\"backgroundcolor\":\"rgb(17,17,17)\",\"gridcolor\":\"#506784\",\"linecolor\":\"#506784\",\"showbackground\":true,\"ticks\":\"\",\"zerolinecolor\":\"#C8D4E3\",\"gridwidth\":2},\"zaxis\":{\"backgroundcolor\":\"rgb(17,17,17)\",\"gridcolor\":\"#506784\",\"linecolor\":\"#506784\",\"showbackground\":true,\"ticks\":\"\",\"zerolinecolor\":\"#C8D4E3\",\"gridwidth\":2}},\"shapedefaults\":{\"line\":{\"color\":\"#f2f5fa\"}},\"annotationdefaults\":{\"arrowcolor\":\"#f2f5fa\",\"arrowhead\":0,\"arrowwidth\":1},\"geo\":{\"bgcolor\":\"rgb(17,17,17)\",\"landcolor\":\"rgb(17,17,17)\",\"subunitcolor\":\"#506784\",\"showland\":true,\"showlakes\":true,\"lakecolor\":\"rgb(17,17,17)\"},\"title\":{\"x\":0.05},\"updatemenudefaults\":{\"bgcolor\":\"#506784\",\"borderwidth\":0},\"sliderdefaults\":{\"bgcolor\":\"#C8D4E3\",\"borderwidth\":1,\"bordercolor\":\"rgb(17,17,17)\",\"tickwidth\":0},\"mapbox\":{\"style\":\"dark\"}}},\"xaxis\":{\"anchor\":\"y\",\"domain\":[0.0,1.0],\"type\":\"date\",\"tickformat\":\"%H:%M\"},\"yaxis\":{\"anchor\":\"x\",\"domain\":[0.0,1.0],\"title\":{\"text\":\"user_id\"}},\"legend\":{\"title\":{\"text\":\"routine\"},\"tracegroupgap\":0},\"margin\":{\"t\":60},\"barmode\":\"overlay\",\"height\":400,\"width\":1200},                        {\"responsive\": true}                    ).then(function(){\n                            \nvar gd = document.getElementById('7fa158b5-3d2d-4a90-b46c-61929fc76680');\nvar x = new MutationObserver(function (mutations, observer) {{\n        var display = window.getComputedStyle(gd).display;\n        if (!display || display === 'none') {{\n            console.log([gd, 'removed!']);\n            Plotly.purge(gd);\n            observer.disconnect();\n        }}\n}});\n\n// Listen for the removal of the full notebook cells\nvar notebookContainer = gd.closest('#notebook-container');\nif (notebookContainer) {{\n    x.observe(notebookContainer, {childList: true});\n}}\n\n// Listen for the clearing of the current output cell\nvar outputEl = gd.closest('.output');\nif (outputEl) {{\n    x.observe(outputEl, {childList: true});\n}}\n\n                        })                };                });            </script>        </div>"
     },
     "metadata": {},
     "output_type": "display_data"
    }
   ],
   "source": [
    "import plotly.express as px\n",
    "\n",
    "daily_fig_df = daily_df[daily_df['routine'] != 'INDOOR']\n",
    "daily_fig_df['start_at'] = pd.to_datetime(daily_df['start_at'], format='%H:%M:%S')\n",
    "daily_fig_df['end_at'] = daily_fig_df['start_at'] + pd.Timedelta(minutes=15)\n",
    "\n",
    "fig = px.timeline(\n",
    "    daily_fig_df,\n",
    "    x_start='start_at',\n",
    "    x_end='end_at',\n",
    "    y='user_id',\n",
    "    color='routine',\n",
    "    height=400,\n",
    "    width=1200,\n",
    ")\n",
    "fig.update_xaxes(tickformat=\"%H:%M\")\n",
    "\n",
    "fig.show()"
   ],
   "metadata": {
    "collapsed": false,
    "ExecuteTime": {
     "end_time": "2023-05-21T13:19:32.619605Z",
     "start_time": "2023-05-21T13:19:32.550702Z"
    }
   }
  },
  {
   "cell_type": "markdown",
   "source": [
    "### Export daily routine"
   ],
   "metadata": {
    "collapsed": false
   }
  },
  {
   "cell_type": "code",
   "execution_count": 73,
   "outputs": [],
   "source": [
    "daily_df.to_csv(f'../csv/routines/{USER_ID}-daily.csv')"
   ],
   "metadata": {
    "collapsed": false
   }
  },
  {
   "cell_type": "markdown",
   "source": [
    "-----"
   ],
   "metadata": {
    "collapsed": false
   }
  },
  {
   "cell_type": "markdown",
   "source": [
    "## Aggregate weekly"
   ],
   "metadata": {
    "collapsed": false
   }
  },
  {
   "cell_type": "code",
   "execution_count": 75,
   "outputs": [
    {
     "data": {
      "text/plain": "   user_id  start_at    end_at  weekday routine\n0    P3029  00:00:00  00:15:00        4  INDOOR\n1    P3029  00:15:00  00:30:00        2  INDOOR\n2    P3029  00:15:00  00:30:00        4  INDOOR\n3    P3029  00:30:00  00:45:00        4  INDOOR\n4    P3029  00:45:00  01:00:00        4   STUDY\n..     ...       ...       ...      ...     ...\n87   P3029  21:45:00  22:00:00        3   STUDY\n88   P3029  21:45:00  22:00:00        4  INDOOR\n89   P3029  22:45:00  23:00:00        3   STUDY\n90   P3029  23:15:00  23:30:00        3   STUDY\n91   P3029  23:45:00  00:00:00        3   STUDY\n\n[92 rows x 5 columns]",
      "text/html": "<div>\n<style scoped>\n    .dataframe tbody tr th:only-of-type {\n        vertical-align: middle;\n    }\n\n    .dataframe tbody tr th {\n        vertical-align: top;\n    }\n\n    .dataframe thead th {\n        text-align: right;\n    }\n</style>\n<table border=\"1\" class=\"dataframe\">\n  <thead>\n    <tr style=\"text-align: right;\">\n      <th></th>\n      <th>user_id</th>\n      <th>start_at</th>\n      <th>end_at</th>\n      <th>weekday</th>\n      <th>routine</th>\n    </tr>\n  </thead>\n  <tbody>\n    <tr>\n      <th>0</th>\n      <td>P3029</td>\n      <td>00:00:00</td>\n      <td>00:15:00</td>\n      <td>4</td>\n      <td>INDOOR</td>\n    </tr>\n    <tr>\n      <th>1</th>\n      <td>P3029</td>\n      <td>00:15:00</td>\n      <td>00:30:00</td>\n      <td>2</td>\n      <td>INDOOR</td>\n    </tr>\n    <tr>\n      <th>2</th>\n      <td>P3029</td>\n      <td>00:15:00</td>\n      <td>00:30:00</td>\n      <td>4</td>\n      <td>INDOOR</td>\n    </tr>\n    <tr>\n      <th>3</th>\n      <td>P3029</td>\n      <td>00:30:00</td>\n      <td>00:45:00</td>\n      <td>4</td>\n      <td>INDOOR</td>\n    </tr>\n    <tr>\n      <th>4</th>\n      <td>P3029</td>\n      <td>00:45:00</td>\n      <td>01:00:00</td>\n      <td>4</td>\n      <td>STUDY</td>\n    </tr>\n    <tr>\n      <th>...</th>\n      <td>...</td>\n      <td>...</td>\n      <td>...</td>\n      <td>...</td>\n      <td>...</td>\n    </tr>\n    <tr>\n      <th>87</th>\n      <td>P3029</td>\n      <td>21:45:00</td>\n      <td>22:00:00</td>\n      <td>3</td>\n      <td>STUDY</td>\n    </tr>\n    <tr>\n      <th>88</th>\n      <td>P3029</td>\n      <td>21:45:00</td>\n      <td>22:00:00</td>\n      <td>4</td>\n      <td>INDOOR</td>\n    </tr>\n    <tr>\n      <th>89</th>\n      <td>P3029</td>\n      <td>22:45:00</td>\n      <td>23:00:00</td>\n      <td>3</td>\n      <td>STUDY</td>\n    </tr>\n    <tr>\n      <th>90</th>\n      <td>P3029</td>\n      <td>23:15:00</td>\n      <td>23:30:00</td>\n      <td>3</td>\n      <td>STUDY</td>\n    </tr>\n    <tr>\n      <th>91</th>\n      <td>P3029</td>\n      <td>23:45:00</td>\n      <td>00:00:00</td>\n      <td>3</td>\n      <td>STUDY</td>\n    </tr>\n  </tbody>\n</table>\n<p>92 rows × 5 columns</p>\n</div>"
     },
     "execution_count": 75,
     "metadata": {},
     "output_type": "execute_result"
    }
   ],
   "source": [
    "weekly_df = raw_df.copy()\n",
    "weekly_df['start_at'] = weekly_df['start_at'].dt.time\n",
    "weekly_df['end_at'] = weekly_df['end_at'].dt.time\n",
    "\n",
    "weekly_df = weekly_df.groupby(['user_id', 'start_at', 'end_at', 'weekday']) \\\n",
    "    .agg(routine=('routine', lambda x: pd.Series.mode(x)[0])) \\\n",
    "    .reset_index()\n",
    "\n",
    "weekly_df"
   ],
   "metadata": {
    "collapsed": false
   }
  },
  {
   "cell_type": "markdown",
   "source": [
    "### Check with weekly routine"
   ],
   "metadata": {
    "collapsed": false
   }
  },
  {
   "cell_type": "code",
   "execution_count": 80,
   "outputs": [
    {
     "name": "stderr",
     "output_type": "stream",
     "text": [
      "/var/folders/lc/t81_pjvs3pz1c1xf8_vn53sc0000gn/T/ipykernel_27645/399985380.py:5: SettingWithCopyWarning:\n",
      "\n",
      "\n",
      "A value is trying to be set on a copy of a slice from a DataFrame.\n",
      "Try using .loc[row_indexer,col_indexer] = value instead\n",
      "\n",
      "See the caveats in the documentation: https://pandas.pydata.org/pandas-docs/stable/user_guide/indexing.html#returning-a-view-versus-a-copy\n",
      "\n",
      "/var/folders/lc/t81_pjvs3pz1c1xf8_vn53sc0000gn/T/ipykernel_27645/399985380.py:6: SettingWithCopyWarning:\n",
      "\n",
      "\n",
      "A value is trying to be set on a copy of a slice from a DataFrame.\n",
      "Try using .loc[row_indexer,col_indexer] = value instead\n",
      "\n",
      "See the caveats in the documentation: https://pandas.pydata.org/pandas-docs/stable/user_guide/indexing.html#returning-a-view-versus-a-copy\n",
      "\n"
     ]
    },
    {
     "data": {
      "application/vnd.plotly.v1+json": {
       "data": [
        {
         "alignmentgroup": "True",
         "base": [
          "1900-01-01T09:00:00",
          "1900-01-01T09:45:00",
          "1900-01-01T10:00:00",
          "1900-01-01T10:15:00",
          "1900-01-01T11:00:00",
          "1900-01-01T11:30:00",
          "1900-01-01T12:00:00",
          "1900-01-01T13:15:00",
          "1900-01-01T13:30:00",
          "1900-01-01T13:45:00",
          "1900-01-01T14:00:00"
         ],
         "hovertemplate": "routine=CLASS<br>start_at=%{base}<br>end_at=%{x}<br>user_id=%{y}<extra></extra>",
         "legendgroup": "CLASS",
         "marker": {
          "color": "#636efa",
          "pattern": {
           "shape": ""
          }
         },
         "name": "CLASS",
         "offsetgroup": "CLASS",
         "orientation": "h",
         "showlegend": false,
         "textposition": "auto",
         "x": [
          900000.0,
          900000.0,
          900000.0,
          900000.0,
          900000.0,
          900000.0,
          900000.0,
          900000.0,
          900000.0,
          900000.0,
          900000.0
         ],
         "xaxis": "x2",
         "y": [
          "P3029",
          "P3029",
          "P3029",
          "P3029",
          "P3029",
          "P3029",
          "P3029",
          "P3029",
          "P3029",
          "P3029",
          "P3029"
         ],
         "yaxis": "y2",
         "type": "bar"
        },
        {
         "alignmentgroup": "True",
         "base": [
          "1900-01-01T12:15:00",
          "1900-01-01T14:15:00",
          "1900-01-01T17:45:00",
          "1900-01-01T18:00:00"
         ],
         "hovertemplate": "routine=MEAL<br>start_at=%{base}<br>end_at=%{x}<br>user_id=%{y}<extra></extra>",
         "legendgroup": "MEAL",
         "marker": {
          "color": "#EF553B",
          "pattern": {
           "shape": ""
          }
         },
         "name": "MEAL",
         "offsetgroup": "MEAL",
         "orientation": "h",
         "showlegend": false,
         "textposition": "auto",
         "x": [
          900000.0,
          900000.0,
          900000.0,
          900000.0
         ],
         "xaxis": "x2",
         "y": [
          "P3029",
          "P3029",
          "P3029",
          "P3029"
         ],
         "yaxis": "y2",
         "type": "bar"
        },
        {
         "alignmentgroup": "True",
         "base": [
          "1900-01-01T12:30:00"
         ],
         "hovertemplate": "routine=STUDY<br>start_at=%{base}<br>end_at=%{x}<br>user_id=%{y}<extra></extra>",
         "legendgroup": "STUDY",
         "marker": {
          "color": "#00cc96",
          "pattern": {
           "shape": ""
          }
         },
         "name": "STUDY",
         "offsetgroup": "STUDY",
         "orientation": "h",
         "showlegend": false,
         "textposition": "auto",
         "x": [
          900000.0
         ],
         "xaxis": "x2",
         "y": [
          "P3029"
         ],
         "yaxis": "y2",
         "type": "bar"
        },
        {
         "alignmentgroup": "True",
         "base": [
          "1900-01-01T13:30:00"
         ],
         "hovertemplate": "routine=MEAL<br>start_at=%{base}<br>end_at=%{x}<br>user_id=%{y}<extra></extra>",
         "legendgroup": "MEAL",
         "marker": {
          "color": "#636efa",
          "pattern": {
           "shape": ""
          }
         },
         "name": "MEAL",
         "offsetgroup": "MEAL",
         "orientation": "h",
         "showlegend": false,
         "textposition": "auto",
         "x": [
          900000.0
         ],
         "xaxis": "x3",
         "y": [
          "P3029"
         ],
         "yaxis": "y3",
         "type": "bar"
        },
        {
         "alignmentgroup": "True",
         "base": [
          "1900-01-01T13:45:00",
          "1900-01-01T14:45:00",
          "1900-01-01T15:00:00"
         ],
         "hovertemplate": "routine=CLASS<br>start_at=%{base}<br>end_at=%{x}<br>user_id=%{y}<extra></extra>",
         "legendgroup": "CLASS",
         "marker": {
          "color": "#EF553B",
          "pattern": {
           "shape": ""
          }
         },
         "name": "CLASS",
         "offsetgroup": "CLASS",
         "orientation": "h",
         "showlegend": false,
         "textposition": "auto",
         "x": [
          900000.0,
          900000.0,
          900000.0
         ],
         "xaxis": "x3",
         "y": [
          "P3029",
          "P3029",
          "P3029"
         ],
         "yaxis": "y3",
         "type": "bar"
        },
        {
         "alignmentgroup": "True",
         "base": [
          "1900-01-01T13:15:00",
          "1900-01-01T13:45:00",
          "1900-01-01T14:00:00"
         ],
         "hovertemplate": "routine=CLASS<br>start_at=%{base}<br>end_at=%{x}<br>user_id=%{y}<extra></extra>",
         "legendgroup": "CLASS",
         "marker": {
          "color": "#636efa",
          "pattern": {
           "shape": ""
          }
         },
         "name": "CLASS",
         "offsetgroup": "CLASS",
         "orientation": "h",
         "showlegend": false,
         "textposition": "auto",
         "x": [
          900000.0,
          900000.0,
          900000.0
         ],
         "xaxis": "x4",
         "y": [
          "P3029",
          "P3029",
          "P3029"
         ],
         "yaxis": "y4",
         "type": "bar"
        },
        {
         "alignmentgroup": "True",
         "base": [
          "1900-01-01T14:15:00",
          "1900-01-01T15:45:00",
          "1900-01-01T20:15:00",
          "1900-01-01T20:30:00",
          "1900-01-01T21:00:00",
          "1900-01-01T21:15:00",
          "1900-01-01T21:30:00",
          "1900-01-01T21:45:00",
          "1900-01-01T22:45:00",
          "1900-01-01T23:15:00",
          "1900-01-01T23:45:00"
         ],
         "hovertemplate": "routine=STUDY<br>start_at=%{base}<br>end_at=%{x}<br>user_id=%{y}<extra></extra>",
         "legendgroup": "STUDY",
         "marker": {
          "color": "#EF553B",
          "pattern": {
           "shape": ""
          }
         },
         "name": "STUDY",
         "offsetgroup": "STUDY",
         "orientation": "h",
         "showlegend": false,
         "textposition": "auto",
         "x": [
          900000.0,
          900000.0,
          900000.0,
          900000.0,
          900000.0,
          900000.0,
          900000.0,
          900000.0,
          900000.0,
          900000.0,
          900000.0
         ],
         "xaxis": "x4",
         "y": [
          "P3029",
          "P3029",
          "P3029",
          "P3029",
          "P3029",
          "P3029",
          "P3029",
          "P3029",
          "P3029",
          "P3029",
          "P3029"
         ],
         "yaxis": "y4",
         "type": "bar"
        },
        {
         "alignmentgroup": "True",
         "base": [
          "1900-01-01T17:15:00",
          "1900-01-01T17:30:00",
          "1900-01-01T17:45:00",
          "1900-01-01T18:00:00"
         ],
         "hovertemplate": "routine=EXERCISE<br>start_at=%{base}<br>end_at=%{x}<br>user_id=%{y}<extra></extra>",
         "legendgroup": "EXERCISE",
         "marker": {
          "color": "#00cc96",
          "pattern": {
           "shape": ""
          }
         },
         "name": "EXERCISE",
         "offsetgroup": "EXERCISE",
         "orientation": "h",
         "showlegend": false,
         "textposition": "auto",
         "x": [
          900000.0,
          900000.0,
          900000.0,
          900000.0
         ],
         "xaxis": "x4",
         "y": [
          "P3029",
          "P3029",
          "P3029",
          "P3029"
         ],
         "yaxis": "y4",
         "type": "bar"
        },
        {
         "alignmentgroup": "True",
         "base": [
          "1900-01-01T18:15:00"
         ],
         "hovertemplate": "routine=MEAL<br>start_at=%{base}<br>end_at=%{x}<br>user_id=%{y}<extra></extra>",
         "legendgroup": "MEAL",
         "marker": {
          "color": "#ab63fa",
          "pattern": {
           "shape": ""
          }
         },
         "name": "MEAL",
         "offsetgroup": "MEAL",
         "orientation": "h",
         "showlegend": false,
         "textposition": "auto",
         "x": [
          900000.0
         ],
         "xaxis": "x4",
         "y": [
          "P3029"
         ],
         "yaxis": "y4",
         "type": "bar"
        },
        {
         "alignmentgroup": "True",
         "base": [
          "1900-01-01T00:45:00",
          "1900-01-01T02:00:00"
         ],
         "hovertemplate": "routine=STUDY<br>start_at=%{base}<br>end_at=%{x}<br>user_id=%{y}<extra></extra>",
         "legendgroup": "STUDY",
         "marker": {
          "color": "#636efa",
          "pattern": {
           "shape": ""
          }
         },
         "name": "STUDY",
         "offsetgroup": "STUDY",
         "orientation": "h",
         "showlegend": false,
         "textposition": "auto",
         "x": [
          900000.0,
          900000.0
         ],
         "xaxis": "x5",
         "y": [
          "P3029",
          "P3029"
         ],
         "yaxis": "y5",
         "type": "bar"
        },
        {
         "alignmentgroup": "True",
         "base": [
          "1900-01-01T19:00:00"
         ],
         "hovertemplate": "routine=MEAL<br>start_at=%{base}<br>end_at=%{x}<br>user_id=%{y}<extra></extra>",
         "legendgroup": "MEAL",
         "marker": {
          "color": "#EF553B",
          "pattern": {
           "shape": ""
          }
         },
         "name": "MEAL",
         "offsetgroup": "MEAL",
         "orientation": "h",
         "showlegend": false,
         "textposition": "auto",
         "x": [
          900000.0
         ],
         "xaxis": "x5",
         "y": [
          "P3029"
         ],
         "yaxis": "y5",
         "type": "bar"
        },
        {
         "alignmentgroup": "True",
         "base": [
          "1900-01-01T12:00:00",
          "1900-01-01T12:30:00"
         ],
         "hovertemplate": "routine=MEAL<br>start_at=%{base}<br>end_at=%{x}<br>user_id=%{y}<extra></extra>",
         "legendgroup": "MEAL",
         "marker": {
          "color": "#636efa",
          "pattern": {
           "shape": ""
          }
         },
         "name": "MEAL",
         "offsetgroup": "MEAL",
         "orientation": "h",
         "showlegend": false,
         "textposition": "auto",
         "x": [
          900000.0,
          900000.0
         ],
         "xaxis": "x6",
         "y": [
          "P3029",
          "P3029"
         ],
         "yaxis": "y6",
         "type": "bar"
        }
       ],
       "layout": {
        "template": {
         "data": {
          "histogram2dcontour": [
           {
            "type": "histogram2dcontour",
            "colorbar": {
             "outlinewidth": 0,
             "ticks": ""
            },
            "colorscale": [
             [
              0.0,
              "#0d0887"
             ],
             [
              0.1111111111111111,
              "#46039f"
             ],
             [
              0.2222222222222222,
              "#7201a8"
             ],
             [
              0.3333333333333333,
              "#9c179e"
             ],
             [
              0.4444444444444444,
              "#bd3786"
             ],
             [
              0.5555555555555556,
              "#d8576b"
             ],
             [
              0.6666666666666666,
              "#ed7953"
             ],
             [
              0.7777777777777778,
              "#fb9f3a"
             ],
             [
              0.8888888888888888,
              "#fdca26"
             ],
             [
              1.0,
              "#f0f921"
             ]
            ]
           }
          ],
          "choropleth": [
           {
            "type": "choropleth",
            "colorbar": {
             "outlinewidth": 0,
             "ticks": ""
            }
           }
          ],
          "histogram2d": [
           {
            "type": "histogram2d",
            "colorbar": {
             "outlinewidth": 0,
             "ticks": ""
            },
            "colorscale": [
             [
              0.0,
              "#0d0887"
             ],
             [
              0.1111111111111111,
              "#46039f"
             ],
             [
              0.2222222222222222,
              "#7201a8"
             ],
             [
              0.3333333333333333,
              "#9c179e"
             ],
             [
              0.4444444444444444,
              "#bd3786"
             ],
             [
              0.5555555555555556,
              "#d8576b"
             ],
             [
              0.6666666666666666,
              "#ed7953"
             ],
             [
              0.7777777777777778,
              "#fb9f3a"
             ],
             [
              0.8888888888888888,
              "#fdca26"
             ],
             [
              1.0,
              "#f0f921"
             ]
            ]
           }
          ],
          "heatmap": [
           {
            "type": "heatmap",
            "colorbar": {
             "outlinewidth": 0,
             "ticks": ""
            },
            "colorscale": [
             [
              0.0,
              "#0d0887"
             ],
             [
              0.1111111111111111,
              "#46039f"
             ],
             [
              0.2222222222222222,
              "#7201a8"
             ],
             [
              0.3333333333333333,
              "#9c179e"
             ],
             [
              0.4444444444444444,
              "#bd3786"
             ],
             [
              0.5555555555555556,
              "#d8576b"
             ],
             [
              0.6666666666666666,
              "#ed7953"
             ],
             [
              0.7777777777777778,
              "#fb9f3a"
             ],
             [
              0.8888888888888888,
              "#fdca26"
             ],
             [
              1.0,
              "#f0f921"
             ]
            ]
           }
          ],
          "heatmapgl": [
           {
            "type": "heatmapgl",
            "colorbar": {
             "outlinewidth": 0,
             "ticks": ""
            },
            "colorscale": [
             [
              0.0,
              "#0d0887"
             ],
             [
              0.1111111111111111,
              "#46039f"
             ],
             [
              0.2222222222222222,
              "#7201a8"
             ],
             [
              0.3333333333333333,
              "#9c179e"
             ],
             [
              0.4444444444444444,
              "#bd3786"
             ],
             [
              0.5555555555555556,
              "#d8576b"
             ],
             [
              0.6666666666666666,
              "#ed7953"
             ],
             [
              0.7777777777777778,
              "#fb9f3a"
             ],
             [
              0.8888888888888888,
              "#fdca26"
             ],
             [
              1.0,
              "#f0f921"
             ]
            ]
           }
          ],
          "contourcarpet": [
           {
            "type": "contourcarpet",
            "colorbar": {
             "outlinewidth": 0,
             "ticks": ""
            }
           }
          ],
          "contour": [
           {
            "type": "contour",
            "colorbar": {
             "outlinewidth": 0,
             "ticks": ""
            },
            "colorscale": [
             [
              0.0,
              "#0d0887"
             ],
             [
              0.1111111111111111,
              "#46039f"
             ],
             [
              0.2222222222222222,
              "#7201a8"
             ],
             [
              0.3333333333333333,
              "#9c179e"
             ],
             [
              0.4444444444444444,
              "#bd3786"
             ],
             [
              0.5555555555555556,
              "#d8576b"
             ],
             [
              0.6666666666666666,
              "#ed7953"
             ],
             [
              0.7777777777777778,
              "#fb9f3a"
             ],
             [
              0.8888888888888888,
              "#fdca26"
             ],
             [
              1.0,
              "#f0f921"
             ]
            ]
           }
          ],
          "surface": [
           {
            "type": "surface",
            "colorbar": {
             "outlinewidth": 0,
             "ticks": ""
            },
            "colorscale": [
             [
              0.0,
              "#0d0887"
             ],
             [
              0.1111111111111111,
              "#46039f"
             ],
             [
              0.2222222222222222,
              "#7201a8"
             ],
             [
              0.3333333333333333,
              "#9c179e"
             ],
             [
              0.4444444444444444,
              "#bd3786"
             ],
             [
              0.5555555555555556,
              "#d8576b"
             ],
             [
              0.6666666666666666,
              "#ed7953"
             ],
             [
              0.7777777777777778,
              "#fb9f3a"
             ],
             [
              0.8888888888888888,
              "#fdca26"
             ],
             [
              1.0,
              "#f0f921"
             ]
            ]
           }
          ],
          "mesh3d": [
           {
            "type": "mesh3d",
            "colorbar": {
             "outlinewidth": 0,
             "ticks": ""
            }
           }
          ],
          "scatter": [
           {
            "marker": {
             "line": {
              "color": "#283442"
             }
            },
            "type": "scatter"
           }
          ],
          "parcoords": [
           {
            "type": "parcoords",
            "line": {
             "colorbar": {
              "outlinewidth": 0,
              "ticks": ""
             }
            }
           }
          ],
          "scatterpolargl": [
           {
            "type": "scatterpolargl",
            "marker": {
             "colorbar": {
              "outlinewidth": 0,
              "ticks": ""
             }
            }
           }
          ],
          "bar": [
           {
            "error_x": {
             "color": "#f2f5fa"
            },
            "error_y": {
             "color": "#f2f5fa"
            },
            "marker": {
             "line": {
              "color": "rgb(17,17,17)",
              "width": 0.5
             },
             "pattern": {
              "fillmode": "overlay",
              "size": 10,
              "solidity": 0.2
             }
            },
            "type": "bar"
           }
          ],
          "scattergeo": [
           {
            "type": "scattergeo",
            "marker": {
             "colorbar": {
              "outlinewidth": 0,
              "ticks": ""
             }
            }
           }
          ],
          "scatterpolar": [
           {
            "type": "scatterpolar",
            "marker": {
             "colorbar": {
              "outlinewidth": 0,
              "ticks": ""
             }
            }
           }
          ],
          "histogram": [
           {
            "marker": {
             "pattern": {
              "fillmode": "overlay",
              "size": 10,
              "solidity": 0.2
             }
            },
            "type": "histogram"
           }
          ],
          "scattergl": [
           {
            "marker": {
             "line": {
              "color": "#283442"
             }
            },
            "type": "scattergl"
           }
          ],
          "scatter3d": [
           {
            "type": "scatter3d",
            "line": {
             "colorbar": {
              "outlinewidth": 0,
              "ticks": ""
             }
            },
            "marker": {
             "colorbar": {
              "outlinewidth": 0,
              "ticks": ""
             }
            }
           }
          ],
          "scattermapbox": [
           {
            "type": "scattermapbox",
            "marker": {
             "colorbar": {
              "outlinewidth": 0,
              "ticks": ""
             }
            }
           }
          ],
          "scatterternary": [
           {
            "type": "scatterternary",
            "marker": {
             "colorbar": {
              "outlinewidth": 0,
              "ticks": ""
             }
            }
           }
          ],
          "scattercarpet": [
           {
            "type": "scattercarpet",
            "marker": {
             "colorbar": {
              "outlinewidth": 0,
              "ticks": ""
             }
            }
           }
          ],
          "carpet": [
           {
            "aaxis": {
             "endlinecolor": "#A2B1C6",
             "gridcolor": "#506784",
             "linecolor": "#506784",
             "minorgridcolor": "#506784",
             "startlinecolor": "#A2B1C6"
            },
            "baxis": {
             "endlinecolor": "#A2B1C6",
             "gridcolor": "#506784",
             "linecolor": "#506784",
             "minorgridcolor": "#506784",
             "startlinecolor": "#A2B1C6"
            },
            "type": "carpet"
           }
          ],
          "table": [
           {
            "cells": {
             "fill": {
              "color": "#506784"
             },
             "line": {
              "color": "rgb(17,17,17)"
             }
            },
            "header": {
             "fill": {
              "color": "#2a3f5f"
             },
             "line": {
              "color": "rgb(17,17,17)"
             }
            },
            "type": "table"
           }
          ],
          "barpolar": [
           {
            "marker": {
             "line": {
              "color": "rgb(17,17,17)",
              "width": 0.5
             },
             "pattern": {
              "fillmode": "overlay",
              "size": 10,
              "solidity": 0.2
             }
            },
            "type": "barpolar"
           }
          ],
          "pie": [
           {
            "automargin": true,
            "type": "pie"
           }
          ]
         },
         "layout": {
          "autotypenumbers": "strict",
          "colorway": [
           "#636efa",
           "#EF553B",
           "#00cc96",
           "#ab63fa",
           "#FFA15A",
           "#19d3f3",
           "#FF6692",
           "#B6E880",
           "#FF97FF",
           "#FECB52"
          ],
          "font": {
           "color": "#f2f5fa"
          },
          "hovermode": "closest",
          "hoverlabel": {
           "align": "left"
          },
          "paper_bgcolor": "rgb(17,17,17)",
          "plot_bgcolor": "rgb(17,17,17)",
          "polar": {
           "bgcolor": "rgb(17,17,17)",
           "angularaxis": {
            "gridcolor": "#506784",
            "linecolor": "#506784",
            "ticks": ""
           },
           "radialaxis": {
            "gridcolor": "#506784",
            "linecolor": "#506784",
            "ticks": ""
           }
          },
          "ternary": {
           "bgcolor": "rgb(17,17,17)",
           "aaxis": {
            "gridcolor": "#506784",
            "linecolor": "#506784",
            "ticks": ""
           },
           "baxis": {
            "gridcolor": "#506784",
            "linecolor": "#506784",
            "ticks": ""
           },
           "caxis": {
            "gridcolor": "#506784",
            "linecolor": "#506784",
            "ticks": ""
           }
          },
          "coloraxis": {
           "colorbar": {
            "outlinewidth": 0,
            "ticks": ""
           }
          },
          "colorscale": {
           "sequential": [
            [
             0.0,
             "#0d0887"
            ],
            [
             0.1111111111111111,
             "#46039f"
            ],
            [
             0.2222222222222222,
             "#7201a8"
            ],
            [
             0.3333333333333333,
             "#9c179e"
            ],
            [
             0.4444444444444444,
             "#bd3786"
            ],
            [
             0.5555555555555556,
             "#d8576b"
            ],
            [
             0.6666666666666666,
             "#ed7953"
            ],
            [
             0.7777777777777778,
             "#fb9f3a"
            ],
            [
             0.8888888888888888,
             "#fdca26"
            ],
            [
             1.0,
             "#f0f921"
            ]
           ],
           "sequentialminus": [
            [
             0.0,
             "#0d0887"
            ],
            [
             0.1111111111111111,
             "#46039f"
            ],
            [
             0.2222222222222222,
             "#7201a8"
            ],
            [
             0.3333333333333333,
             "#9c179e"
            ],
            [
             0.4444444444444444,
             "#bd3786"
            ],
            [
             0.5555555555555556,
             "#d8576b"
            ],
            [
             0.6666666666666666,
             "#ed7953"
            ],
            [
             0.7777777777777778,
             "#fb9f3a"
            ],
            [
             0.8888888888888888,
             "#fdca26"
            ],
            [
             1.0,
             "#f0f921"
            ]
           ],
           "diverging": [
            [
             0,
             "#8e0152"
            ],
            [
             0.1,
             "#c51b7d"
            ],
            [
             0.2,
             "#de77ae"
            ],
            [
             0.3,
             "#f1b6da"
            ],
            [
             0.4,
             "#fde0ef"
            ],
            [
             0.5,
             "#f7f7f7"
            ],
            [
             0.6,
             "#e6f5d0"
            ],
            [
             0.7,
             "#b8e186"
            ],
            [
             0.8,
             "#7fbc41"
            ],
            [
             0.9,
             "#4d9221"
            ],
            [
             1,
             "#276419"
            ]
           ]
          },
          "xaxis": {
           "gridcolor": "#283442",
           "linecolor": "#506784",
           "ticks": "",
           "title": {
            "standoff": 15
           },
           "zerolinecolor": "#283442",
           "automargin": true,
           "zerolinewidth": 2
          },
          "yaxis": {
           "gridcolor": "#283442",
           "linecolor": "#506784",
           "ticks": "",
           "title": {
            "standoff": 15
           },
           "zerolinecolor": "#283442",
           "automargin": true,
           "zerolinewidth": 2
          },
          "scene": {
           "xaxis": {
            "backgroundcolor": "rgb(17,17,17)",
            "gridcolor": "#506784",
            "linecolor": "#506784",
            "showbackground": true,
            "ticks": "",
            "zerolinecolor": "#C8D4E3",
            "gridwidth": 2
           },
           "yaxis": {
            "backgroundcolor": "rgb(17,17,17)",
            "gridcolor": "#506784",
            "linecolor": "#506784",
            "showbackground": true,
            "ticks": "",
            "zerolinecolor": "#C8D4E3",
            "gridwidth": 2
           },
           "zaxis": {
            "backgroundcolor": "rgb(17,17,17)",
            "gridcolor": "#506784",
            "linecolor": "#506784",
            "showbackground": true,
            "ticks": "",
            "zerolinecolor": "#C8D4E3",
            "gridwidth": 2
           }
          },
          "shapedefaults": {
           "line": {
            "color": "#f2f5fa"
           }
          },
          "annotationdefaults": {
           "arrowcolor": "#f2f5fa",
           "arrowhead": 0,
           "arrowwidth": 1
          },
          "geo": {
           "bgcolor": "rgb(17,17,17)",
           "landcolor": "rgb(17,17,17)",
           "subunitcolor": "#506784",
           "showland": true,
           "showlakes": true,
           "lakecolor": "rgb(17,17,17)"
          },
          "title": {
           "x": 0.05
          },
          "updatemenudefaults": {
           "bgcolor": "#506784",
           "borderwidth": 0
          },
          "sliderdefaults": {
           "bgcolor": "#C8D4E3",
           "borderwidth": 1,
           "bordercolor": "rgb(17,17,17)",
           "tickwidth": 0
          },
          "mapbox": {
           "style": "dark"
          }
         }
        },
        "xaxis": {
         "anchor": "y",
         "domain": [
          0.0,
          1.0
         ],
         "matches": "x7",
         "showticklabels": false,
         "tickformat": "%H:%M",
         "type": "date"
        },
        "yaxis": {
         "anchor": "x",
         "domain": [
          0.8742857142857142,
          1.0
         ],
         "title": {
          "text": "Mon"
         }
        },
        "xaxis2": {
         "anchor": "y2",
         "domain": [
          0.0,
          1.0
         ],
         "matches": "x7",
         "showticklabels": false,
         "tickformat": "%H:%M",
         "type": "date"
        },
        "yaxis2": {
         "anchor": "x2",
         "domain": [
          0.7285714285714285,
          0.8542857142857143
         ],
         "title": {
          "text": "Tue"
         }
        },
        "xaxis3": {
         "anchor": "y3",
         "domain": [
          0.0,
          1.0
         ],
         "matches": "x7",
         "showticklabels": false,
         "tickformat": "%H:%M",
         "type": "date"
        },
        "yaxis3": {
         "anchor": "x3",
         "domain": [
          0.5828571428571429,
          0.7085714285714286
         ],
         "title": {
          "text": "Wed"
         }
        },
        "xaxis4": {
         "anchor": "y4",
         "domain": [
          0.0,
          1.0
         ],
         "matches": "x7",
         "showticklabels": false,
         "tickformat": "%H:%M",
         "type": "date"
        },
        "yaxis4": {
         "anchor": "x4",
         "domain": [
          0.43714285714285717,
          0.562857142857143
         ],
         "title": {
          "text": "Thr"
         }
        },
        "xaxis5": {
         "anchor": "y5",
         "domain": [
          0.0,
          1.0
         ],
         "matches": "x7",
         "showticklabels": false,
         "tickformat": "%H:%M",
         "type": "date"
        },
        "yaxis5": {
         "anchor": "x5",
         "domain": [
          0.2914285714285714,
          0.41714285714285715
         ],
         "title": {
          "text": "Fri"
         }
        },
        "xaxis6": {
         "anchor": "y6",
         "domain": [
          0.0,
          1.0
         ],
         "matches": "x7",
         "showticklabels": false,
         "tickformat": "%H:%M",
         "type": "date"
        },
        "yaxis6": {
         "anchor": "x6",
         "domain": [
          0.1457142857142857,
          0.27142857142857146
         ],
         "title": {
          "text": "Sat"
         }
        },
        "xaxis7": {
         "anchor": "y7",
         "domain": [
          0.0,
          1.0
         ],
         "tickformat": "%H:%M",
         "type": "date"
        },
        "yaxis7": {
         "anchor": "x7",
         "domain": [
          0.0,
          0.12571428571428572
         ],
         "title": {
          "text": "Sun"
         }
        },
        "title": {
         "text": "Weekly Routine"
        },
        "width": 700,
        "height": 600
       },
       "config": {
        "plotlyServerURL": "https://plot.ly"
       }
      },
      "text/html": "<div>                            <div id=\"350f44de-eda1-4956-bc30-49918faf72e9\" class=\"plotly-graph-div\" style=\"height:600px; width:700px;\"></div>            <script type=\"text/javascript\">                require([\"plotly\"], function(Plotly) {                    window.PLOTLYENV=window.PLOTLYENV || {};                                    if (document.getElementById(\"350f44de-eda1-4956-bc30-49918faf72e9\")) {                    Plotly.newPlot(                        \"350f44de-eda1-4956-bc30-49918faf72e9\",                        [{\"alignmentgroup\":\"True\",\"base\":[\"1900-01-01T09:00:00\",\"1900-01-01T09:45:00\",\"1900-01-01T10:00:00\",\"1900-01-01T10:15:00\",\"1900-01-01T11:00:00\",\"1900-01-01T11:30:00\",\"1900-01-01T12:00:00\",\"1900-01-01T13:15:00\",\"1900-01-01T13:30:00\",\"1900-01-01T13:45:00\",\"1900-01-01T14:00:00\"],\"hovertemplate\":\"routine=CLASS<br>start_at=%{base}<br>end_at=%{x}<br>user_id=%{y}<extra></extra>\",\"legendgroup\":\"CLASS\",\"marker\":{\"color\":\"#636efa\",\"pattern\":{\"shape\":\"\"}},\"name\":\"CLASS\",\"offsetgroup\":\"CLASS\",\"orientation\":\"h\",\"showlegend\":false,\"textposition\":\"auto\",\"x\":[900000.0,900000.0,900000.0,900000.0,900000.0,900000.0,900000.0,900000.0,900000.0,900000.0,900000.0],\"xaxis\":\"x2\",\"y\":[\"P3029\",\"P3029\",\"P3029\",\"P3029\",\"P3029\",\"P3029\",\"P3029\",\"P3029\",\"P3029\",\"P3029\",\"P3029\"],\"yaxis\":\"y2\",\"type\":\"bar\"},{\"alignmentgroup\":\"True\",\"base\":[\"1900-01-01T12:15:00\",\"1900-01-01T14:15:00\",\"1900-01-01T17:45:00\",\"1900-01-01T18:00:00\"],\"hovertemplate\":\"routine=MEAL<br>start_at=%{base}<br>end_at=%{x}<br>user_id=%{y}<extra></extra>\",\"legendgroup\":\"MEAL\",\"marker\":{\"color\":\"#EF553B\",\"pattern\":{\"shape\":\"\"}},\"name\":\"MEAL\",\"offsetgroup\":\"MEAL\",\"orientation\":\"h\",\"showlegend\":false,\"textposition\":\"auto\",\"x\":[900000.0,900000.0,900000.0,900000.0],\"xaxis\":\"x2\",\"y\":[\"P3029\",\"P3029\",\"P3029\",\"P3029\"],\"yaxis\":\"y2\",\"type\":\"bar\"},{\"alignmentgroup\":\"True\",\"base\":[\"1900-01-01T12:30:00\"],\"hovertemplate\":\"routine=STUDY<br>start_at=%{base}<br>end_at=%{x}<br>user_id=%{y}<extra></extra>\",\"legendgroup\":\"STUDY\",\"marker\":{\"color\":\"#00cc96\",\"pattern\":{\"shape\":\"\"}},\"name\":\"STUDY\",\"offsetgroup\":\"STUDY\",\"orientation\":\"h\",\"showlegend\":false,\"textposition\":\"auto\",\"x\":[900000.0],\"xaxis\":\"x2\",\"y\":[\"P3029\"],\"yaxis\":\"y2\",\"type\":\"bar\"},{\"alignmentgroup\":\"True\",\"base\":[\"1900-01-01T13:30:00\"],\"hovertemplate\":\"routine=MEAL<br>start_at=%{base}<br>end_at=%{x}<br>user_id=%{y}<extra></extra>\",\"legendgroup\":\"MEAL\",\"marker\":{\"color\":\"#636efa\",\"pattern\":{\"shape\":\"\"}},\"name\":\"MEAL\",\"offsetgroup\":\"MEAL\",\"orientation\":\"h\",\"showlegend\":false,\"textposition\":\"auto\",\"x\":[900000.0],\"xaxis\":\"x3\",\"y\":[\"P3029\"],\"yaxis\":\"y3\",\"type\":\"bar\"},{\"alignmentgroup\":\"True\",\"base\":[\"1900-01-01T13:45:00\",\"1900-01-01T14:45:00\",\"1900-01-01T15:00:00\"],\"hovertemplate\":\"routine=CLASS<br>start_at=%{base}<br>end_at=%{x}<br>user_id=%{y}<extra></extra>\",\"legendgroup\":\"CLASS\",\"marker\":{\"color\":\"#EF553B\",\"pattern\":{\"shape\":\"\"}},\"name\":\"CLASS\",\"offsetgroup\":\"CLASS\",\"orientation\":\"h\",\"showlegend\":false,\"textposition\":\"auto\",\"x\":[900000.0,900000.0,900000.0],\"xaxis\":\"x3\",\"y\":[\"P3029\",\"P3029\",\"P3029\"],\"yaxis\":\"y3\",\"type\":\"bar\"},{\"alignmentgroup\":\"True\",\"base\":[\"1900-01-01T13:15:00\",\"1900-01-01T13:45:00\",\"1900-01-01T14:00:00\"],\"hovertemplate\":\"routine=CLASS<br>start_at=%{base}<br>end_at=%{x}<br>user_id=%{y}<extra></extra>\",\"legendgroup\":\"CLASS\",\"marker\":{\"color\":\"#636efa\",\"pattern\":{\"shape\":\"\"}},\"name\":\"CLASS\",\"offsetgroup\":\"CLASS\",\"orientation\":\"h\",\"showlegend\":false,\"textposition\":\"auto\",\"x\":[900000.0,900000.0,900000.0],\"xaxis\":\"x4\",\"y\":[\"P3029\",\"P3029\",\"P3029\"],\"yaxis\":\"y4\",\"type\":\"bar\"},{\"alignmentgroup\":\"True\",\"base\":[\"1900-01-01T14:15:00\",\"1900-01-01T15:45:00\",\"1900-01-01T20:15:00\",\"1900-01-01T20:30:00\",\"1900-01-01T21:00:00\",\"1900-01-01T21:15:00\",\"1900-01-01T21:30:00\",\"1900-01-01T21:45:00\",\"1900-01-01T22:45:00\",\"1900-01-01T23:15:00\",\"1900-01-01T23:45:00\"],\"hovertemplate\":\"routine=STUDY<br>start_at=%{base}<br>end_at=%{x}<br>user_id=%{y}<extra></extra>\",\"legendgroup\":\"STUDY\",\"marker\":{\"color\":\"#EF553B\",\"pattern\":{\"shape\":\"\"}},\"name\":\"STUDY\",\"offsetgroup\":\"STUDY\",\"orientation\":\"h\",\"showlegend\":false,\"textposition\":\"auto\",\"x\":[900000.0,900000.0,900000.0,900000.0,900000.0,900000.0,900000.0,900000.0,900000.0,900000.0,900000.0],\"xaxis\":\"x4\",\"y\":[\"P3029\",\"P3029\",\"P3029\",\"P3029\",\"P3029\",\"P3029\",\"P3029\",\"P3029\",\"P3029\",\"P3029\",\"P3029\"],\"yaxis\":\"y4\",\"type\":\"bar\"},{\"alignmentgroup\":\"True\",\"base\":[\"1900-01-01T17:15:00\",\"1900-01-01T17:30:00\",\"1900-01-01T17:45:00\",\"1900-01-01T18:00:00\"],\"hovertemplate\":\"routine=EXERCISE<br>start_at=%{base}<br>end_at=%{x}<br>user_id=%{y}<extra></extra>\",\"legendgroup\":\"EXERCISE\",\"marker\":{\"color\":\"#00cc96\",\"pattern\":{\"shape\":\"\"}},\"name\":\"EXERCISE\",\"offsetgroup\":\"EXERCISE\",\"orientation\":\"h\",\"showlegend\":false,\"textposition\":\"auto\",\"x\":[900000.0,900000.0,900000.0,900000.0],\"xaxis\":\"x4\",\"y\":[\"P3029\",\"P3029\",\"P3029\",\"P3029\"],\"yaxis\":\"y4\",\"type\":\"bar\"},{\"alignmentgroup\":\"True\",\"base\":[\"1900-01-01T18:15:00\"],\"hovertemplate\":\"routine=MEAL<br>start_at=%{base}<br>end_at=%{x}<br>user_id=%{y}<extra></extra>\",\"legendgroup\":\"MEAL\",\"marker\":{\"color\":\"#ab63fa\",\"pattern\":{\"shape\":\"\"}},\"name\":\"MEAL\",\"offsetgroup\":\"MEAL\",\"orientation\":\"h\",\"showlegend\":false,\"textposition\":\"auto\",\"x\":[900000.0],\"xaxis\":\"x4\",\"y\":[\"P3029\"],\"yaxis\":\"y4\",\"type\":\"bar\"},{\"alignmentgroup\":\"True\",\"base\":[\"1900-01-01T00:45:00\",\"1900-01-01T02:00:00\"],\"hovertemplate\":\"routine=STUDY<br>start_at=%{base}<br>end_at=%{x}<br>user_id=%{y}<extra></extra>\",\"legendgroup\":\"STUDY\",\"marker\":{\"color\":\"#636efa\",\"pattern\":{\"shape\":\"\"}},\"name\":\"STUDY\",\"offsetgroup\":\"STUDY\",\"orientation\":\"h\",\"showlegend\":false,\"textposition\":\"auto\",\"x\":[900000.0,900000.0],\"xaxis\":\"x5\",\"y\":[\"P3029\",\"P3029\"],\"yaxis\":\"y5\",\"type\":\"bar\"},{\"alignmentgroup\":\"True\",\"base\":[\"1900-01-01T19:00:00\"],\"hovertemplate\":\"routine=MEAL<br>start_at=%{base}<br>end_at=%{x}<br>user_id=%{y}<extra></extra>\",\"legendgroup\":\"MEAL\",\"marker\":{\"color\":\"#EF553B\",\"pattern\":{\"shape\":\"\"}},\"name\":\"MEAL\",\"offsetgroup\":\"MEAL\",\"orientation\":\"h\",\"showlegend\":false,\"textposition\":\"auto\",\"x\":[900000.0],\"xaxis\":\"x5\",\"y\":[\"P3029\"],\"yaxis\":\"y5\",\"type\":\"bar\"},{\"alignmentgroup\":\"True\",\"base\":[\"1900-01-01T12:00:00\",\"1900-01-01T12:30:00\"],\"hovertemplate\":\"routine=MEAL<br>start_at=%{base}<br>end_at=%{x}<br>user_id=%{y}<extra></extra>\",\"legendgroup\":\"MEAL\",\"marker\":{\"color\":\"#636efa\",\"pattern\":{\"shape\":\"\"}},\"name\":\"MEAL\",\"offsetgroup\":\"MEAL\",\"orientation\":\"h\",\"showlegend\":false,\"textposition\":\"auto\",\"x\":[900000.0,900000.0],\"xaxis\":\"x6\",\"y\":[\"P3029\",\"P3029\"],\"yaxis\":\"y6\",\"type\":\"bar\"}],                        {\"template\":{\"data\":{\"histogram2dcontour\":[{\"type\":\"histogram2dcontour\",\"colorbar\":{\"outlinewidth\":0,\"ticks\":\"\"},\"colorscale\":[[0.0,\"#0d0887\"],[0.1111111111111111,\"#46039f\"],[0.2222222222222222,\"#7201a8\"],[0.3333333333333333,\"#9c179e\"],[0.4444444444444444,\"#bd3786\"],[0.5555555555555556,\"#d8576b\"],[0.6666666666666666,\"#ed7953\"],[0.7777777777777778,\"#fb9f3a\"],[0.8888888888888888,\"#fdca26\"],[1.0,\"#f0f921\"]]}],\"choropleth\":[{\"type\":\"choropleth\",\"colorbar\":{\"outlinewidth\":0,\"ticks\":\"\"}}],\"histogram2d\":[{\"type\":\"histogram2d\",\"colorbar\":{\"outlinewidth\":0,\"ticks\":\"\"},\"colorscale\":[[0.0,\"#0d0887\"],[0.1111111111111111,\"#46039f\"],[0.2222222222222222,\"#7201a8\"],[0.3333333333333333,\"#9c179e\"],[0.4444444444444444,\"#bd3786\"],[0.5555555555555556,\"#d8576b\"],[0.6666666666666666,\"#ed7953\"],[0.7777777777777778,\"#fb9f3a\"],[0.8888888888888888,\"#fdca26\"],[1.0,\"#f0f921\"]]}],\"heatmap\":[{\"type\":\"heatmap\",\"colorbar\":{\"outlinewidth\":0,\"ticks\":\"\"},\"colorscale\":[[0.0,\"#0d0887\"],[0.1111111111111111,\"#46039f\"],[0.2222222222222222,\"#7201a8\"],[0.3333333333333333,\"#9c179e\"],[0.4444444444444444,\"#bd3786\"],[0.5555555555555556,\"#d8576b\"],[0.6666666666666666,\"#ed7953\"],[0.7777777777777778,\"#fb9f3a\"],[0.8888888888888888,\"#fdca26\"],[1.0,\"#f0f921\"]]}],\"heatmapgl\":[{\"type\":\"heatmapgl\",\"colorbar\":{\"outlinewidth\":0,\"ticks\":\"\"},\"colorscale\":[[0.0,\"#0d0887\"],[0.1111111111111111,\"#46039f\"],[0.2222222222222222,\"#7201a8\"],[0.3333333333333333,\"#9c179e\"],[0.4444444444444444,\"#bd3786\"],[0.5555555555555556,\"#d8576b\"],[0.6666666666666666,\"#ed7953\"],[0.7777777777777778,\"#fb9f3a\"],[0.8888888888888888,\"#fdca26\"],[1.0,\"#f0f921\"]]}],\"contourcarpet\":[{\"type\":\"contourcarpet\",\"colorbar\":{\"outlinewidth\":0,\"ticks\":\"\"}}],\"contour\":[{\"type\":\"contour\",\"colorbar\":{\"outlinewidth\":0,\"ticks\":\"\"},\"colorscale\":[[0.0,\"#0d0887\"],[0.1111111111111111,\"#46039f\"],[0.2222222222222222,\"#7201a8\"],[0.3333333333333333,\"#9c179e\"],[0.4444444444444444,\"#bd3786\"],[0.5555555555555556,\"#d8576b\"],[0.6666666666666666,\"#ed7953\"],[0.7777777777777778,\"#fb9f3a\"],[0.8888888888888888,\"#fdca26\"],[1.0,\"#f0f921\"]]}],\"surface\":[{\"type\":\"surface\",\"colorbar\":{\"outlinewidth\":0,\"ticks\":\"\"},\"colorscale\":[[0.0,\"#0d0887\"],[0.1111111111111111,\"#46039f\"],[0.2222222222222222,\"#7201a8\"],[0.3333333333333333,\"#9c179e\"],[0.4444444444444444,\"#bd3786\"],[0.5555555555555556,\"#d8576b\"],[0.6666666666666666,\"#ed7953\"],[0.7777777777777778,\"#fb9f3a\"],[0.8888888888888888,\"#fdca26\"],[1.0,\"#f0f921\"]]}],\"mesh3d\":[{\"type\":\"mesh3d\",\"colorbar\":{\"outlinewidth\":0,\"ticks\":\"\"}}],\"scatter\":[{\"marker\":{\"line\":{\"color\":\"#283442\"}},\"type\":\"scatter\"}],\"parcoords\":[{\"type\":\"parcoords\",\"line\":{\"colorbar\":{\"outlinewidth\":0,\"ticks\":\"\"}}}],\"scatterpolargl\":[{\"type\":\"scatterpolargl\",\"marker\":{\"colorbar\":{\"outlinewidth\":0,\"ticks\":\"\"}}}],\"bar\":[{\"error_x\":{\"color\":\"#f2f5fa\"},\"error_y\":{\"color\":\"#f2f5fa\"},\"marker\":{\"line\":{\"color\":\"rgb(17,17,17)\",\"width\":0.5},\"pattern\":{\"fillmode\":\"overlay\",\"size\":10,\"solidity\":0.2}},\"type\":\"bar\"}],\"scattergeo\":[{\"type\":\"scattergeo\",\"marker\":{\"colorbar\":{\"outlinewidth\":0,\"ticks\":\"\"}}}],\"scatterpolar\":[{\"type\":\"scatterpolar\",\"marker\":{\"colorbar\":{\"outlinewidth\":0,\"ticks\":\"\"}}}],\"histogram\":[{\"marker\":{\"pattern\":{\"fillmode\":\"overlay\",\"size\":10,\"solidity\":0.2}},\"type\":\"histogram\"}],\"scattergl\":[{\"marker\":{\"line\":{\"color\":\"#283442\"}},\"type\":\"scattergl\"}],\"scatter3d\":[{\"type\":\"scatter3d\",\"line\":{\"colorbar\":{\"outlinewidth\":0,\"ticks\":\"\"}},\"marker\":{\"colorbar\":{\"outlinewidth\":0,\"ticks\":\"\"}}}],\"scattermapbox\":[{\"type\":\"scattermapbox\",\"marker\":{\"colorbar\":{\"outlinewidth\":0,\"ticks\":\"\"}}}],\"scatterternary\":[{\"type\":\"scatterternary\",\"marker\":{\"colorbar\":{\"outlinewidth\":0,\"ticks\":\"\"}}}],\"scattercarpet\":[{\"type\":\"scattercarpet\",\"marker\":{\"colorbar\":{\"outlinewidth\":0,\"ticks\":\"\"}}}],\"carpet\":[{\"aaxis\":{\"endlinecolor\":\"#A2B1C6\",\"gridcolor\":\"#506784\",\"linecolor\":\"#506784\",\"minorgridcolor\":\"#506784\",\"startlinecolor\":\"#A2B1C6\"},\"baxis\":{\"endlinecolor\":\"#A2B1C6\",\"gridcolor\":\"#506784\",\"linecolor\":\"#506784\",\"minorgridcolor\":\"#506784\",\"startlinecolor\":\"#A2B1C6\"},\"type\":\"carpet\"}],\"table\":[{\"cells\":{\"fill\":{\"color\":\"#506784\"},\"line\":{\"color\":\"rgb(17,17,17)\"}},\"header\":{\"fill\":{\"color\":\"#2a3f5f\"},\"line\":{\"color\":\"rgb(17,17,17)\"}},\"type\":\"table\"}],\"barpolar\":[{\"marker\":{\"line\":{\"color\":\"rgb(17,17,17)\",\"width\":0.5},\"pattern\":{\"fillmode\":\"overlay\",\"size\":10,\"solidity\":0.2}},\"type\":\"barpolar\"}],\"pie\":[{\"automargin\":true,\"type\":\"pie\"}]},\"layout\":{\"autotypenumbers\":\"strict\",\"colorway\":[\"#636efa\",\"#EF553B\",\"#00cc96\",\"#ab63fa\",\"#FFA15A\",\"#19d3f3\",\"#FF6692\",\"#B6E880\",\"#FF97FF\",\"#FECB52\"],\"font\":{\"color\":\"#f2f5fa\"},\"hovermode\":\"closest\",\"hoverlabel\":{\"align\":\"left\"},\"paper_bgcolor\":\"rgb(17,17,17)\",\"plot_bgcolor\":\"rgb(17,17,17)\",\"polar\":{\"bgcolor\":\"rgb(17,17,17)\",\"angularaxis\":{\"gridcolor\":\"#506784\",\"linecolor\":\"#506784\",\"ticks\":\"\"},\"radialaxis\":{\"gridcolor\":\"#506784\",\"linecolor\":\"#506784\",\"ticks\":\"\"}},\"ternary\":{\"bgcolor\":\"rgb(17,17,17)\",\"aaxis\":{\"gridcolor\":\"#506784\",\"linecolor\":\"#506784\",\"ticks\":\"\"},\"baxis\":{\"gridcolor\":\"#506784\",\"linecolor\":\"#506784\",\"ticks\":\"\"},\"caxis\":{\"gridcolor\":\"#506784\",\"linecolor\":\"#506784\",\"ticks\":\"\"}},\"coloraxis\":{\"colorbar\":{\"outlinewidth\":0,\"ticks\":\"\"}},\"colorscale\":{\"sequential\":[[0.0,\"#0d0887\"],[0.1111111111111111,\"#46039f\"],[0.2222222222222222,\"#7201a8\"],[0.3333333333333333,\"#9c179e\"],[0.4444444444444444,\"#bd3786\"],[0.5555555555555556,\"#d8576b\"],[0.6666666666666666,\"#ed7953\"],[0.7777777777777778,\"#fb9f3a\"],[0.8888888888888888,\"#fdca26\"],[1.0,\"#f0f921\"]],\"sequentialminus\":[[0.0,\"#0d0887\"],[0.1111111111111111,\"#46039f\"],[0.2222222222222222,\"#7201a8\"],[0.3333333333333333,\"#9c179e\"],[0.4444444444444444,\"#bd3786\"],[0.5555555555555556,\"#d8576b\"],[0.6666666666666666,\"#ed7953\"],[0.7777777777777778,\"#fb9f3a\"],[0.8888888888888888,\"#fdca26\"],[1.0,\"#f0f921\"]],\"diverging\":[[0,\"#8e0152\"],[0.1,\"#c51b7d\"],[0.2,\"#de77ae\"],[0.3,\"#f1b6da\"],[0.4,\"#fde0ef\"],[0.5,\"#f7f7f7\"],[0.6,\"#e6f5d0\"],[0.7,\"#b8e186\"],[0.8,\"#7fbc41\"],[0.9,\"#4d9221\"],[1,\"#276419\"]]},\"xaxis\":{\"gridcolor\":\"#283442\",\"linecolor\":\"#506784\",\"ticks\":\"\",\"title\":{\"standoff\":15},\"zerolinecolor\":\"#283442\",\"automargin\":true,\"zerolinewidth\":2},\"yaxis\":{\"gridcolor\":\"#283442\",\"linecolor\":\"#506784\",\"ticks\":\"\",\"title\":{\"standoff\":15},\"zerolinecolor\":\"#283442\",\"automargin\":true,\"zerolinewidth\":2},\"scene\":{\"xaxis\":{\"backgroundcolor\":\"rgb(17,17,17)\",\"gridcolor\":\"#506784\",\"linecolor\":\"#506784\",\"showbackground\":true,\"ticks\":\"\",\"zerolinecolor\":\"#C8D4E3\",\"gridwidth\":2},\"yaxis\":{\"backgroundcolor\":\"rgb(17,17,17)\",\"gridcolor\":\"#506784\",\"linecolor\":\"#506784\",\"showbackground\":true,\"ticks\":\"\",\"zerolinecolor\":\"#C8D4E3\",\"gridwidth\":2},\"zaxis\":{\"backgroundcolor\":\"rgb(17,17,17)\",\"gridcolor\":\"#506784\",\"linecolor\":\"#506784\",\"showbackground\":true,\"ticks\":\"\",\"zerolinecolor\":\"#C8D4E3\",\"gridwidth\":2}},\"shapedefaults\":{\"line\":{\"color\":\"#f2f5fa\"}},\"annotationdefaults\":{\"arrowcolor\":\"#f2f5fa\",\"arrowhead\":0,\"arrowwidth\":1},\"geo\":{\"bgcolor\":\"rgb(17,17,17)\",\"landcolor\":\"rgb(17,17,17)\",\"subunitcolor\":\"#506784\",\"showland\":true,\"showlakes\":true,\"lakecolor\":\"rgb(17,17,17)\"},\"title\":{\"x\":0.05},\"updatemenudefaults\":{\"bgcolor\":\"#506784\",\"borderwidth\":0},\"sliderdefaults\":{\"bgcolor\":\"#C8D4E3\",\"borderwidth\":1,\"bordercolor\":\"rgb(17,17,17)\",\"tickwidth\":0},\"mapbox\":{\"style\":\"dark\"}}},\"xaxis\":{\"anchor\":\"y\",\"domain\":[0.0,1.0],\"matches\":\"x7\",\"showticklabels\":false,\"tickformat\":\"%H:%M\",\"type\":\"date\"},\"yaxis\":{\"anchor\":\"x\",\"domain\":[0.8742857142857142,1.0],\"title\":{\"text\":\"Mon\"}},\"xaxis2\":{\"anchor\":\"y2\",\"domain\":[0.0,1.0],\"matches\":\"x7\",\"showticklabels\":false,\"tickformat\":\"%H:%M\",\"type\":\"date\"},\"yaxis2\":{\"anchor\":\"x2\",\"domain\":[0.7285714285714285,0.8542857142857143],\"title\":{\"text\":\"Tue\"}},\"xaxis3\":{\"anchor\":\"y3\",\"domain\":[0.0,1.0],\"matches\":\"x7\",\"showticklabels\":false,\"tickformat\":\"%H:%M\",\"type\":\"date\"},\"yaxis3\":{\"anchor\":\"x3\",\"domain\":[0.5828571428571429,0.7085714285714286],\"title\":{\"text\":\"Wed\"}},\"xaxis4\":{\"anchor\":\"y4\",\"domain\":[0.0,1.0],\"matches\":\"x7\",\"showticklabels\":false,\"tickformat\":\"%H:%M\",\"type\":\"date\"},\"yaxis4\":{\"anchor\":\"x4\",\"domain\":[0.43714285714285717,0.562857142857143],\"title\":{\"text\":\"Thr\"}},\"xaxis5\":{\"anchor\":\"y5\",\"domain\":[0.0,1.0],\"matches\":\"x7\",\"showticklabels\":false,\"tickformat\":\"%H:%M\",\"type\":\"date\"},\"yaxis5\":{\"anchor\":\"x5\",\"domain\":[0.2914285714285714,0.41714285714285715],\"title\":{\"text\":\"Fri\"}},\"xaxis6\":{\"anchor\":\"y6\",\"domain\":[0.0,1.0],\"matches\":\"x7\",\"showticklabels\":false,\"tickformat\":\"%H:%M\",\"type\":\"date\"},\"yaxis6\":{\"anchor\":\"x6\",\"domain\":[0.1457142857142857,0.27142857142857146],\"title\":{\"text\":\"Sat\"}},\"xaxis7\":{\"anchor\":\"y7\",\"domain\":[0.0,1.0],\"tickformat\":\"%H:%M\",\"type\":\"date\"},\"yaxis7\":{\"anchor\":\"x7\",\"domain\":[0.0,0.12571428571428572],\"title\":{\"text\":\"Sun\"}},\"title\":{\"text\":\"Weekly Routine\"},\"width\":700,\"height\":600},                        {\"responsive\": true}                    ).then(function(){\n                            \nvar gd = document.getElementById('350f44de-eda1-4956-bc30-49918faf72e9');\nvar x = new MutationObserver(function (mutations, observer) {{\n        var display = window.getComputedStyle(gd).display;\n        if (!display || display === 'none') {{\n            console.log([gd, 'removed!']);\n            Plotly.purge(gd);\n            observer.disconnect();\n        }}\n}});\n\n// Listen for the removal of the full notebook cells\nvar notebookContainer = gd.closest('#notebook-container');\nif (notebookContainer) {{\n    x.observe(notebookContainer, {childList: true});\n}}\n\n// Listen for the clearing of the current output cell\nvar outputEl = gd.closest('.output');\nif (outputEl) {{\n    x.observe(outputEl, {childList: true});\n}}\n\n                        })                };                });            </script>        </div>"
     },
     "metadata": {},
     "output_type": "display_data"
    }
   ],
   "source": [
    "import plotly.graph_objects as go\n",
    "from plotly.subplots import make_subplots\n",
    "\n",
    "weekly_fig_df = weekly_df[weekly_df['routine'] != 'INDOOR']\n",
    "weekly_fig_df['start_at'] = pd.to_datetime(weekly_df['start_at'], format='%H:%M:%S')\n",
    "weekly_fig_df['end_at'] = weekly_fig_df['start_at'] + pd.Timedelta(minutes=15)\n",
    "\n",
    "fig = make_subplots(rows=7, cols=1, shared_xaxes=True, vertical_spacing=0.02)\n",
    "timeline_figs = []\n",
    "for i in range(7):\n",
    "    timeline_figs.append(\n",
    "        px.timeline(weekly_fig_df[weekly_fig_df[\"weekday\"] == i], x_start=\"start_at\", x_end=\"end_at\", y=\"user_id\", color=\"routine\")\n",
    "    )\n",
    "\n",
    "for i in range(7):\n",
    "    f = timeline_figs[i]\n",
    "    show_legend = True if i == 0 else False\n",
    "    for j in range(len(f.data)):\n",
    "        fig.add_trace(go.Bar(f.data[j], showlegend=show_legend), row=(i + 1), col=1)\n",
    "\n",
    "fig.update_yaxes(title=\"Mon\", row=1, col=1)\n",
    "fig.update_yaxes(title=\"Tue\", row=2, col=1)\n",
    "fig.update_yaxes(title=\"Wed\", row=3, col=1)\n",
    "fig.update_yaxes(title=\"Thr\", row=4, col=1)\n",
    "fig.update_yaxes(title=\"Fri\", row=5, col=1)\n",
    "fig.update_yaxes(title=\"Sat\", row=6, col=1)\n",
    "fig.update_yaxes(title=\"Sun\", row=7, col=1)\n",
    "\n",
    "fig.update_xaxes(tickformat=\"%H:%M\")\n",
    "fig.update_layout(title=\"Weekly Routine\")\n",
    "\n",
    "fig.update_xaxes(type=\"date\")\n",
    "\n",
    "fig.update_layout(width=700, height=600)"
   ],
   "metadata": {
    "collapsed": false
   }
  },
  {
   "cell_type": "markdown",
   "source": [
    "### Export weekly routine"
   ],
   "metadata": {
    "collapsed": false
   }
  },
  {
   "cell_type": "code",
   "execution_count": 81,
   "outputs": [],
   "source": [
    "weekly_df.to_csv(f'../csv/routines/{USER_ID}-weekly.csv', index=False)"
   ],
   "metadata": {
    "collapsed": false
   }
  },
  {
   "cell_type": "code",
   "execution_count": null,
   "outputs": [],
   "source": [],
   "metadata": {
    "collapsed": false
   }
  }
 ],
 "metadata": {
  "kernelspec": {
   "display_name": "Python 3",
   "language": "python",
   "name": "python3"
  },
  "language_info": {
   "codemirror_mode": {
    "name": "ipython",
    "version": 2
   },
   "file_extension": ".py",
   "mimetype": "text/x-python",
   "name": "python",
   "nbconvert_exporter": "python",
   "pygments_lexer": "ipython2",
   "version": "2.7.6"
  }
 },
 "nbformat": 4,
 "nbformat_minor": 0
}
