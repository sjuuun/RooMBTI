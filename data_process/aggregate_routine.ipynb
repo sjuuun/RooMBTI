{
 "cells": [
  {
   "attachments": {},
   "cell_type": "markdown",
   "metadata": {},
   "source": [
    "# Data Process to aggregate routines\n",
    "\n",
    "This is guide to aggregate routines\n",
    "\n",
    "---\n",
    "\n",
    "In location.ipynb, we analyze location data and derive routines from location data.\n",
    "Here, we are going to aggregate those routines to visualize routines.\n",
    "\n",
    "Please, run location.ipynb first."
   ]
  },
  {
   "attachments": {},
   "cell_type": "markdown",
   "metadata": {},
   "source": [
    "## Aggregate daily\n",
    "\n",
    "aggregate for daily routine\n",
    "\n",
    "DataFrame schema\n",
    "- start_at\n",
    "- end_at\n",
    "- routine\n",
    "- user_id\n"
   ]
  },
  {
   "cell_type": "code",
   "execution_count": 11,
   "metadata": {},
   "outputs": [],
   "source": [
    "# Please change USER_ID\n",
    "USER_ID = 'P3029'\n",
    "LOCATION_DATASET_DIRECTORY = f'../csv/routines_raw/{USER_ID}-location.csv'\n",
    "SLEEP_DATASET_DIRECTORY = f'../csv/routines_raw/{USER_ID}-sleep.csv'"
   ]
  },
  {
   "cell_type": "code",
   "execution_count": 12,
   "metadata": {},
   "outputs": [
    {
     "data": {
      "text/html": [
       "<div>\n",
       "<style scoped>\n",
       "    .dataframe tbody tr th:only-of-type {\n",
       "        vertical-align: middle;\n",
       "    }\n",
       "\n",
       "    .dataframe tbody tr th {\n",
       "        vertical-align: top;\n",
       "    }\n",
       "\n",
       "    .dataframe thead th {\n",
       "        text-align: right;\n",
       "    }\n",
       "</style>\n",
       "<table border=\"1\" class=\"dataframe\">\n",
       "  <thead>\n",
       "    <tr style=\"text-align: right;\">\n",
       "      <th></th>\n",
       "      <th>user_id</th>\n",
       "      <th>start_at</th>\n",
       "      <th>end_at</th>\n",
       "      <th>routine</th>\n",
       "      <th>weekday</th>\n",
       "    </tr>\n",
       "  </thead>\n",
       "  <tbody>\n",
       "    <tr>\n",
       "      <th>0</th>\n",
       "      <td>P3029</td>\n",
       "      <td>2019-05-01 03:00:00+09:00</td>\n",
       "      <td>2019-05-01 08:15:00+09:00</td>\n",
       "      <td>SLEEP</td>\n",
       "      <td>2</td>\n",
       "    </tr>\n",
       "    <tr>\n",
       "      <th>1</th>\n",
       "      <td>P3029</td>\n",
       "      <td>2019-05-02 03:45:00+09:00</td>\n",
       "      <td>2019-05-02 08:15:00+09:00</td>\n",
       "      <td>SLEEP</td>\n",
       "      <td>3</td>\n",
       "    </tr>\n",
       "    <tr>\n",
       "      <th>2</th>\n",
       "      <td>P3029</td>\n",
       "      <td>2019-05-03 02:45:00+09:00</td>\n",
       "      <td>2019-05-03 08:45:00+09:00</td>\n",
       "      <td>SLEEP</td>\n",
       "      <td>4</td>\n",
       "    </tr>\n",
       "    <tr>\n",
       "      <th>3</th>\n",
       "      <td>P3029</td>\n",
       "      <td>2019-05-04 03:45:00+09:00</td>\n",
       "      <td>2019-05-04 09:15:00+09:00</td>\n",
       "      <td>SLEEP</td>\n",
       "      <td>5</td>\n",
       "    </tr>\n",
       "    <tr>\n",
       "      <th>4</th>\n",
       "      <td>P3029</td>\n",
       "      <td>2019-05-05 03:00:00+09:00</td>\n",
       "      <td>2019-05-05 07:30:00+09:00</td>\n",
       "      <td>SLEEP</td>\n",
       "      <td>6</td>\n",
       "    </tr>\n",
       "    <tr>\n",
       "      <th>5</th>\n",
       "      <td>P3029</td>\n",
       "      <td>2019-05-06 03:45:00+09:00</td>\n",
       "      <td>2019-05-06 12:00:00+09:00</td>\n",
       "      <td>SLEEP</td>\n",
       "      <td>0</td>\n",
       "    </tr>\n",
       "  </tbody>\n",
       "</table>\n",
       "</div>"
      ],
      "text/plain": [
       "  user_id                  start_at                    end_at routine  weekday\n",
       "0   P3029 2019-05-01 03:00:00+09:00 2019-05-01 08:15:00+09:00   SLEEP        2\n",
       "1   P3029 2019-05-02 03:45:00+09:00 2019-05-02 08:15:00+09:00   SLEEP        3\n",
       "2   P3029 2019-05-03 02:45:00+09:00 2019-05-03 08:45:00+09:00   SLEEP        4\n",
       "3   P3029 2019-05-04 03:45:00+09:00 2019-05-04 09:15:00+09:00   SLEEP        5\n",
       "4   P3029 2019-05-05 03:00:00+09:00 2019-05-05 07:30:00+09:00   SLEEP        6\n",
       "5   P3029 2019-05-06 03:45:00+09:00 2019-05-06 12:00:00+09:00   SLEEP        0"
      ]
     },
     "execution_count": 12,
     "metadata": {},
     "output_type": "execute_result"
    }
   ],
   "source": [
    "import pandas as pd\n",
    "\n",
    "sleep_df = pd.read_csv(SLEEP_DATASET_DIRECTORY)[['user_id', 'start_at', 'end_at', 'routine']]\n",
    "sleep_df['start_at'] = pd.to_datetime(sleep_df['start_at'])\n",
    "sleep_df['end_at'] = pd.to_datetime(sleep_df['end_at'])\n",
    "sleep_df['weekday'] = sleep_df['start_at'].dt.dayofweek\n",
    "\n",
    "\n",
    "sleep_df"
   ]
  },
  {
   "cell_type": "code",
   "execution_count": 13,
   "metadata": {},
   "outputs": [
    {
     "data": {
      "text/html": [
       "<div>\n",
       "<style scoped>\n",
       "    .dataframe tbody tr th:only-of-type {\n",
       "        vertical-align: middle;\n",
       "    }\n",
       "\n",
       "    .dataframe tbody tr th {\n",
       "        vertical-align: top;\n",
       "    }\n",
       "\n",
       "    .dataframe thead th {\n",
       "        text-align: right;\n",
       "    }\n",
       "</style>\n",
       "<table border=\"1\" class=\"dataframe\">\n",
       "  <thead>\n",
       "    <tr style=\"text-align: right;\">\n",
       "      <th></th>\n",
       "      <th>user_id</th>\n",
       "      <th>start_at</th>\n",
       "      <th>end_at</th>\n",
       "      <th>routine</th>\n",
       "      <th>weekday</th>\n",
       "    </tr>\n",
       "  </thead>\n",
       "  <tbody>\n",
       "    <tr>\n",
       "      <th>0</th>\n",
       "      <td>P3029</td>\n",
       "      <td>2019-05-01 03:00:00+09:00</td>\n",
       "      <td>2019-05-01 03:15:00+09:00</td>\n",
       "      <td>SLEEP</td>\n",
       "      <td>2</td>\n",
       "    </tr>\n",
       "    <tr>\n",
       "      <th>1</th>\n",
       "      <td>P3029</td>\n",
       "      <td>2019-05-01 03:15:00+09:00</td>\n",
       "      <td>2019-05-01 03:30:00+09:00</td>\n",
       "      <td>SLEEP</td>\n",
       "      <td>2</td>\n",
       "    </tr>\n",
       "    <tr>\n",
       "      <th>2</th>\n",
       "      <td>P3029</td>\n",
       "      <td>2019-05-01 03:30:00+09:00</td>\n",
       "      <td>2019-05-01 03:45:00+09:00</td>\n",
       "      <td>SLEEP</td>\n",
       "      <td>2</td>\n",
       "    </tr>\n",
       "    <tr>\n",
       "      <th>3</th>\n",
       "      <td>P3029</td>\n",
       "      <td>2019-05-01 03:45:00+09:00</td>\n",
       "      <td>2019-05-01 04:00:00+09:00</td>\n",
       "      <td>SLEEP</td>\n",
       "      <td>2</td>\n",
       "    </tr>\n",
       "    <tr>\n",
       "      <th>4</th>\n",
       "      <td>P3029</td>\n",
       "      <td>2019-05-01 04:00:00+09:00</td>\n",
       "      <td>2019-05-01 04:15:00+09:00</td>\n",
       "      <td>SLEEP</td>\n",
       "      <td>2</td>\n",
       "    </tr>\n",
       "    <tr>\n",
       "      <th>...</th>\n",
       "      <td>...</td>\n",
       "      <td>...</td>\n",
       "      <td>...</td>\n",
       "      <td>...</td>\n",
       "      <td>...</td>\n",
       "    </tr>\n",
       "    <tr>\n",
       "      <th>131</th>\n",
       "      <td>P3029</td>\n",
       "      <td>2019-05-06 10:45:00+09:00</td>\n",
       "      <td>2019-05-06 11:00:00+09:00</td>\n",
       "      <td>SLEEP</td>\n",
       "      <td>0</td>\n",
       "    </tr>\n",
       "    <tr>\n",
       "      <th>132</th>\n",
       "      <td>P3029</td>\n",
       "      <td>2019-05-06 11:00:00+09:00</td>\n",
       "      <td>2019-05-06 11:15:00+09:00</td>\n",
       "      <td>SLEEP</td>\n",
       "      <td>0</td>\n",
       "    </tr>\n",
       "    <tr>\n",
       "      <th>133</th>\n",
       "      <td>P3029</td>\n",
       "      <td>2019-05-06 11:15:00+09:00</td>\n",
       "      <td>2019-05-06 11:30:00+09:00</td>\n",
       "      <td>SLEEP</td>\n",
       "      <td>0</td>\n",
       "    </tr>\n",
       "    <tr>\n",
       "      <th>134</th>\n",
       "      <td>P3029</td>\n",
       "      <td>2019-05-06 11:30:00+09:00</td>\n",
       "      <td>2019-05-06 11:45:00+09:00</td>\n",
       "      <td>SLEEP</td>\n",
       "      <td>0</td>\n",
       "    </tr>\n",
       "    <tr>\n",
       "      <th>135</th>\n",
       "      <td>P3029</td>\n",
       "      <td>2019-05-06 11:45:00+09:00</td>\n",
       "      <td>2019-05-06 12:00:00+09:00</td>\n",
       "      <td>SLEEP</td>\n",
       "      <td>0</td>\n",
       "    </tr>\n",
       "  </tbody>\n",
       "</table>\n",
       "<p>136 rows × 5 columns</p>\n",
       "</div>"
      ],
      "text/plain": [
       "    user_id                  start_at                    end_at routine   \n",
       "0     P3029 2019-05-01 03:00:00+09:00 2019-05-01 03:15:00+09:00   SLEEP  \\\n",
       "1     P3029 2019-05-01 03:15:00+09:00 2019-05-01 03:30:00+09:00   SLEEP   \n",
       "2     P3029 2019-05-01 03:30:00+09:00 2019-05-01 03:45:00+09:00   SLEEP   \n",
       "3     P3029 2019-05-01 03:45:00+09:00 2019-05-01 04:00:00+09:00   SLEEP   \n",
       "4     P3029 2019-05-01 04:00:00+09:00 2019-05-01 04:15:00+09:00   SLEEP   \n",
       "..      ...                       ...                       ...     ...   \n",
       "131   P3029 2019-05-06 10:45:00+09:00 2019-05-06 11:00:00+09:00   SLEEP   \n",
       "132   P3029 2019-05-06 11:00:00+09:00 2019-05-06 11:15:00+09:00   SLEEP   \n",
       "133   P3029 2019-05-06 11:15:00+09:00 2019-05-06 11:30:00+09:00   SLEEP   \n",
       "134   P3029 2019-05-06 11:30:00+09:00 2019-05-06 11:45:00+09:00   SLEEP   \n",
       "135   P3029 2019-05-06 11:45:00+09:00 2019-05-06 12:00:00+09:00   SLEEP   \n",
       "\n",
       "     weekday  \n",
       "0          2  \n",
       "1          2  \n",
       "2          2  \n",
       "3          2  \n",
       "4          2  \n",
       "..       ...  \n",
       "131        0  \n",
       "132        0  \n",
       "133        0  \n",
       "134        0  \n",
       "135        0  \n",
       "\n",
       "[136 rows x 5 columns]"
      ]
     },
     "execution_count": 13,
     "metadata": {},
     "output_type": "execute_result"
    }
   ],
   "source": [
    "\n",
    "timedelta = pd.to_timedelta('15min')\n",
    "split_sleep=[]\n",
    "\n",
    "for i in range(len(sleep_df)):\n",
    "    sleep_df_row = sleep_df.iloc[i].tolist()\n",
    "    starttime = sleep_df_row[1]\n",
    "    while starttime+timedelta <= sleep_df_row[2]:\n",
    "        newrow = [sleep_df_row[0], starttime, starttime+timedelta, sleep_df_row[3], sleep_df_row[4]]\n",
    "        split_sleep.append(newrow)\n",
    "        starttime+=timedelta\n",
    "\n",
    "split_sleep_df = pd.DataFrame(split_sleep, columns=['user_id', 'start_at', 'end_at', 'routine', 'weekday'])\n",
    "\n",
    "split_sleep_df\n",
    "    "
   ]
  },
  {
   "cell_type": "code",
   "execution_count": 14,
   "metadata": {},
   "outputs": [
    {
     "data": {
      "text/html": [
       "<div>\n",
       "<style scoped>\n",
       "    .dataframe tbody tr th:only-of-type {\n",
       "        vertical-align: middle;\n",
       "    }\n",
       "\n",
       "    .dataframe tbody tr th {\n",
       "        vertical-align: top;\n",
       "    }\n",
       "\n",
       "    .dataframe thead th {\n",
       "        text-align: right;\n",
       "    }\n",
       "</style>\n",
       "<table border=\"1\" class=\"dataframe\">\n",
       "  <thead>\n",
       "    <tr style=\"text-align: right;\">\n",
       "      <th></th>\n",
       "      <th>user_id</th>\n",
       "      <th>start_at</th>\n",
       "      <th>end_at</th>\n",
       "      <th>routine</th>\n",
       "      <th>weekday</th>\n",
       "    </tr>\n",
       "  </thead>\n",
       "  <tbody>\n",
       "    <tr>\n",
       "      <th>0</th>\n",
       "      <td>P3029</td>\n",
       "      <td>2019-04-30 09:00:00+09:00</td>\n",
       "      <td>2019-04-30 09:15:00+09:00</td>\n",
       "      <td>CLASS</td>\n",
       "      <td>1</td>\n",
       "    </tr>\n",
       "    <tr>\n",
       "      <th>1</th>\n",
       "      <td>P3029</td>\n",
       "      <td>2019-04-30 09:45:00+09:00</td>\n",
       "      <td>2019-04-30 10:00:00+09:00</td>\n",
       "      <td>CLASS</td>\n",
       "      <td>1</td>\n",
       "    </tr>\n",
       "    <tr>\n",
       "      <th>2</th>\n",
       "      <td>P3029</td>\n",
       "      <td>2019-04-30 10:00:00+09:00</td>\n",
       "      <td>2019-04-30 10:15:00+09:00</td>\n",
       "      <td>CLASS</td>\n",
       "      <td>1</td>\n",
       "    </tr>\n",
       "    <tr>\n",
       "      <th>3</th>\n",
       "      <td>P3029</td>\n",
       "      <td>2019-04-30 10:15:00+09:00</td>\n",
       "      <td>2019-04-30 10:30:00+09:00</td>\n",
       "      <td>CLASS</td>\n",
       "      <td>1</td>\n",
       "    </tr>\n",
       "    <tr>\n",
       "      <th>4</th>\n",
       "      <td>P3029</td>\n",
       "      <td>2019-04-30 11:00:00+09:00</td>\n",
       "      <td>2019-04-30 11:15:00+09:00</td>\n",
       "      <td>CLASS</td>\n",
       "      <td>1</td>\n",
       "    </tr>\n",
       "    <tr>\n",
       "      <th>...</th>\n",
       "      <td>...</td>\n",
       "      <td>...</td>\n",
       "      <td>...</td>\n",
       "      <td>...</td>\n",
       "      <td>...</td>\n",
       "    </tr>\n",
       "    <tr>\n",
       "      <th>131</th>\n",
       "      <td>P3029</td>\n",
       "      <td>2019-05-06 10:45:00+09:00</td>\n",
       "      <td>2019-05-06 11:00:00+09:00</td>\n",
       "      <td>SLEEP</td>\n",
       "      <td>0</td>\n",
       "    </tr>\n",
       "    <tr>\n",
       "      <th>132</th>\n",
       "      <td>P3029</td>\n",
       "      <td>2019-05-06 11:00:00+09:00</td>\n",
       "      <td>2019-05-06 11:15:00+09:00</td>\n",
       "      <td>SLEEP</td>\n",
       "      <td>0</td>\n",
       "    </tr>\n",
       "    <tr>\n",
       "      <th>133</th>\n",
       "      <td>P3029</td>\n",
       "      <td>2019-05-06 11:15:00+09:00</td>\n",
       "      <td>2019-05-06 11:30:00+09:00</td>\n",
       "      <td>SLEEP</td>\n",
       "      <td>0</td>\n",
       "    </tr>\n",
       "    <tr>\n",
       "      <th>134</th>\n",
       "      <td>P3029</td>\n",
       "      <td>2019-05-06 11:30:00+09:00</td>\n",
       "      <td>2019-05-06 11:45:00+09:00</td>\n",
       "      <td>SLEEP</td>\n",
       "      <td>0</td>\n",
       "    </tr>\n",
       "    <tr>\n",
       "      <th>135</th>\n",
       "      <td>P3029</td>\n",
       "      <td>2019-05-06 11:45:00+09:00</td>\n",
       "      <td>2019-05-06 12:00:00+09:00</td>\n",
       "      <td>SLEEP</td>\n",
       "      <td>0</td>\n",
       "    </tr>\n",
       "  </tbody>\n",
       "</table>\n",
       "<p>228 rows × 5 columns</p>\n",
       "</div>"
      ],
      "text/plain": [
       "    user_id                  start_at                    end_at routine   \n",
       "0     P3029 2019-04-30 09:00:00+09:00 2019-04-30 09:15:00+09:00   CLASS  \\\n",
       "1     P3029 2019-04-30 09:45:00+09:00 2019-04-30 10:00:00+09:00   CLASS   \n",
       "2     P3029 2019-04-30 10:00:00+09:00 2019-04-30 10:15:00+09:00   CLASS   \n",
       "3     P3029 2019-04-30 10:15:00+09:00 2019-04-30 10:30:00+09:00   CLASS   \n",
       "4     P3029 2019-04-30 11:00:00+09:00 2019-04-30 11:15:00+09:00   CLASS   \n",
       "..      ...                       ...                       ...     ...   \n",
       "131   P3029 2019-05-06 10:45:00+09:00 2019-05-06 11:00:00+09:00   SLEEP   \n",
       "132   P3029 2019-05-06 11:00:00+09:00 2019-05-06 11:15:00+09:00   SLEEP   \n",
       "133   P3029 2019-05-06 11:15:00+09:00 2019-05-06 11:30:00+09:00   SLEEP   \n",
       "134   P3029 2019-05-06 11:30:00+09:00 2019-05-06 11:45:00+09:00   SLEEP   \n",
       "135   P3029 2019-05-06 11:45:00+09:00 2019-05-06 12:00:00+09:00   SLEEP   \n",
       "\n",
       "     weekday  \n",
       "0          1  \n",
       "1          1  \n",
       "2          1  \n",
       "3          1  \n",
       "4          1  \n",
       "..       ...  \n",
       "131        0  \n",
       "132        0  \n",
       "133        0  \n",
       "134        0  \n",
       "135        0  \n",
       "\n",
       "[228 rows x 5 columns]"
      ]
     },
     "execution_count": 14,
     "metadata": {},
     "output_type": "execute_result"
    }
   ],
   "source": [
    "raw_df = pd.concat([\n",
    "    pd.read_csv(LOCATION_DATASET_DIRECTORY)[['user_id', 'start_at', 'end_at', 'routine', 'weekday']],\n",
    "    split_sleep_df\n",
    "])\n",
    "raw_df['start_at'] = pd.to_datetime(raw_df['start_at'])\n",
    "raw_df['end_at'] = pd.to_datetime(raw_df['end_at'])\n",
    "raw_df"
   ]
  },
  {
   "cell_type": "code",
   "execution_count": 15,
   "metadata": {},
   "outputs": [
    {
     "data": {
      "text/html": [
       "<div>\n",
       "<style scoped>\n",
       "    .dataframe tbody tr th:only-of-type {\n",
       "        vertical-align: middle;\n",
       "    }\n",
       "\n",
       "    .dataframe tbody tr th {\n",
       "        vertical-align: top;\n",
       "    }\n",
       "\n",
       "    .dataframe thead th {\n",
       "        text-align: right;\n",
       "    }\n",
       "</style>\n",
       "<table border=\"1\" class=\"dataframe\">\n",
       "  <thead>\n",
       "    <tr style=\"text-align: right;\">\n",
       "      <th></th>\n",
       "      <th>user_id</th>\n",
       "      <th>start_at</th>\n",
       "      <th>end_at</th>\n",
       "      <th>routine</th>\n",
       "    </tr>\n",
       "  </thead>\n",
       "  <tbody>\n",
       "    <tr>\n",
       "      <th>0</th>\n",
       "      <td>P3029</td>\n",
       "      <td>00:00:00</td>\n",
       "      <td>00:15:00</td>\n",
       "      <td>INDOOR</td>\n",
       "    </tr>\n",
       "    <tr>\n",
       "      <th>1</th>\n",
       "      <td>P3029</td>\n",
       "      <td>00:15:00</td>\n",
       "      <td>00:30:00</td>\n",
       "      <td>INDOOR</td>\n",
       "    </tr>\n",
       "    <tr>\n",
       "      <th>2</th>\n",
       "      <td>P3029</td>\n",
       "      <td>00:30:00</td>\n",
       "      <td>00:45:00</td>\n",
       "      <td>INDOOR</td>\n",
       "    </tr>\n",
       "    <tr>\n",
       "      <th>3</th>\n",
       "      <td>P3029</td>\n",
       "      <td>00:45:00</td>\n",
       "      <td>01:00:00</td>\n",
       "      <td>STUDY</td>\n",
       "    </tr>\n",
       "    <tr>\n",
       "      <th>4</th>\n",
       "      <td>P3029</td>\n",
       "      <td>02:00:00</td>\n",
       "      <td>02:15:00</td>\n",
       "      <td>STUDY</td>\n",
       "    </tr>\n",
       "    <tr>\n",
       "      <th>...</th>\n",
       "      <td>...</td>\n",
       "      <td>...</td>\n",
       "      <td>...</td>\n",
       "      <td>...</td>\n",
       "    </tr>\n",
       "    <tr>\n",
       "      <th>75</th>\n",
       "      <td>P3029</td>\n",
       "      <td>21:30:00</td>\n",
       "      <td>21:45:00</td>\n",
       "      <td>STUDY</td>\n",
       "    </tr>\n",
       "    <tr>\n",
       "      <th>76</th>\n",
       "      <td>P3029</td>\n",
       "      <td>21:45:00</td>\n",
       "      <td>22:00:00</td>\n",
       "      <td>INDOOR</td>\n",
       "    </tr>\n",
       "    <tr>\n",
       "      <th>77</th>\n",
       "      <td>P3029</td>\n",
       "      <td>22:45:00</td>\n",
       "      <td>23:00:00</td>\n",
       "      <td>STUDY</td>\n",
       "    </tr>\n",
       "    <tr>\n",
       "      <th>78</th>\n",
       "      <td>P3029</td>\n",
       "      <td>23:15:00</td>\n",
       "      <td>23:30:00</td>\n",
       "      <td>STUDY</td>\n",
       "    </tr>\n",
       "    <tr>\n",
       "      <th>79</th>\n",
       "      <td>P3029</td>\n",
       "      <td>23:45:00</td>\n",
       "      <td>00:00:00</td>\n",
       "      <td>STUDY</td>\n",
       "    </tr>\n",
       "  </tbody>\n",
       "</table>\n",
       "<p>80 rows × 4 columns</p>\n",
       "</div>"
      ],
      "text/plain": [
       "   user_id  start_at    end_at routine\n",
       "0    P3029  00:00:00  00:15:00  INDOOR\n",
       "1    P3029  00:15:00  00:30:00  INDOOR\n",
       "2    P3029  00:30:00  00:45:00  INDOOR\n",
       "3    P3029  00:45:00  01:00:00   STUDY\n",
       "4    P3029  02:00:00  02:15:00   STUDY\n",
       "..     ...       ...       ...     ...\n",
       "75   P3029  21:30:00  21:45:00   STUDY\n",
       "76   P3029  21:45:00  22:00:00  INDOOR\n",
       "77   P3029  22:45:00  23:00:00   STUDY\n",
       "78   P3029  23:15:00  23:30:00   STUDY\n",
       "79   P3029  23:45:00  00:00:00   STUDY\n",
       "\n",
       "[80 rows x 4 columns]"
      ]
     },
     "execution_count": 15,
     "metadata": {},
     "output_type": "execute_result"
    }
   ],
   "source": [
    "daily_df = raw_df.copy()\n",
    "daily_df['end_at'] = daily_df[\"end_at\"].replace([\"00:00:00\"], \"23:59:59\")\n",
    "daily_df['start_at'] = daily_df['start_at'].dt.time\n",
    "daily_df['end_at'] = daily_df['end_at'].dt.time\n",
    "     \n",
    "\n",
    "daily_df = daily_df.groupby(['user_id', 'start_at', 'end_at']) \\\n",
    "                   .agg(routine=('routine', lambda x: pd.Series.mode(x)[0])) \\\n",
    "                   .reset_index()\n",
    "\n",
    "\n",
    "daily_df\n"
   ]
  },
  {
   "cell_type": "code",
   "execution_count": 16,
   "metadata": {},
   "outputs": [
    {
     "name": "stdout",
     "output_type": "stream",
     "text": [
      "<class 'pandas.core.frame.DataFrame'>\n",
      "RangeIndex: 80 entries, 0 to 79\n",
      "Data columns (total 4 columns):\n",
      " #   Column    Non-Null Count  Dtype \n",
      "---  ------    --------------  ----- \n",
      " 0   user_id   80 non-null     object\n",
      " 1   start_at  80 non-null     object\n",
      " 2   end_at    80 non-null     object\n",
      " 3   routine   80 non-null     object\n",
      "dtypes: object(4)\n",
      "memory usage: 2.6+ KB\n"
     ]
    }
   ],
   "source": [
    "daily_df.info()"
   ]
  },
  {
   "attachments": {},
   "cell_type": "markdown",
   "metadata": {},
   "source": [
    "### Check with Daily Routine"
   ]
  },
  {
   "cell_type": "code",
   "execution_count": 18,
   "metadata": {},
   "outputs": [
    {
     "data": {
      "application/vnd.plotly.v1+json": {
       "config": {
        "plotlyServerURL": "https://plot.ly"
       },
       "data": [
        {
         "alignmentgroup": "True",
         "base": [
          "1900-01-01T00:00:00",
          "1900-01-01T00:15:00",
          "1900-01-01T00:30:00",
          "1900-01-01T10:45:00",
          "1900-01-01T11:15:00",
          "1900-01-01T11:45:00",
          "1900-01-01T12:45:00",
          "1900-01-01T13:00:00",
          "1900-01-01T14:30:00",
          "1900-01-01T15:00:00",
          "1900-01-01T15:30:00",
          "1900-01-01T16:00:00",
          "1900-01-01T17:15:00",
          "1900-01-01T17:30:00",
          "1900-01-01T18:15:00",
          "1900-01-01T18:30:00",
          "1900-01-01T18:45:00",
          "1900-01-01T19:00:00",
          "1900-01-01T19:15:00",
          "1900-01-01T19:30:00",
          "1900-01-01T19:45:00",
          "1900-01-01T20:00:00",
          "1900-01-01T20:15:00",
          "1900-01-01T20:30:00",
          "1900-01-01T20:45:00",
          "1900-01-01T21:00:00",
          "1900-01-01T21:15:00",
          "1900-01-01T21:45:00"
         ],
         "hovertemplate": "routine=INDOOR<br>start_at=%{base}<br>end_at=%{x}<br>user_id=%{y}<extra></extra>",
         "legendgroup": "INDOOR",
         "marker": {
          "color": "#636efa",
          "pattern": {
           "shape": ""
          }
         },
         "name": "INDOOR",
         "offsetgroup": "INDOOR",
         "orientation": "h",
         "showlegend": true,
         "textposition": "auto",
         "type": "bar",
         "x": [
          900000,
          900000,
          900000,
          900000,
          900000,
          900000,
          900000,
          900000,
          900000,
          900000,
          900000,
          900000,
          900000,
          900000,
          900000,
          900000,
          900000,
          900000,
          900000,
          900000,
          900000,
          900000,
          900000,
          900000,
          900000,
          900000,
          900000,
          900000
         ],
         "xaxis": "x",
         "y": [
          "P3029",
          "P3029",
          "P3029",
          "P3029",
          "P3029",
          "P3029",
          "P3029",
          "P3029",
          "P3029",
          "P3029",
          "P3029",
          "P3029",
          "P3029",
          "P3029",
          "P3029",
          "P3029",
          "P3029",
          "P3029",
          "P3029",
          "P3029",
          "P3029",
          "P3029",
          "P3029",
          "P3029",
          "P3029",
          "P3029",
          "P3029",
          "P3029"
         ],
         "yaxis": "y"
        },
        {
         "alignmentgroup": "True",
         "base": [
          "1900-01-01T00:45:00",
          "1900-01-01T02:00:00",
          "1900-01-01T15:45:00",
          "1900-01-01T21:30:00",
          "1900-01-01T22:45:00",
          "1900-01-01T23:15:00",
          "1900-01-01T23:45:00"
         ],
         "hovertemplate": "routine=STUDY<br>start_at=%{base}<br>end_at=%{x}<br>user_id=%{y}<extra></extra>",
         "legendgroup": "STUDY",
         "marker": {
          "color": "#EF553B",
          "pattern": {
           "shape": ""
          }
         },
         "name": "STUDY",
         "offsetgroup": "STUDY",
         "orientation": "h",
         "showlegend": true,
         "textposition": "auto",
         "type": "bar",
         "x": [
          900000,
          900000,
          900000,
          900000,
          900000,
          900000,
          900000
         ],
         "xaxis": "x",
         "y": [
          "P3029",
          "P3029",
          "P3029",
          "P3029",
          "P3029",
          "P3029",
          "P3029"
         ],
         "yaxis": "y"
        },
        {
         "alignmentgroup": "True",
         "base": [
          "1900-01-01T02:45:00",
          "1900-01-01T03:00:00",
          "1900-01-01T03:15:00",
          "1900-01-01T03:30:00",
          "1900-01-01T03:45:00",
          "1900-01-01T04:00:00",
          "1900-01-01T04:15:00",
          "1900-01-01T04:30:00",
          "1900-01-01T04:45:00",
          "1900-01-01T05:00:00",
          "1900-01-01T05:15:00",
          "1900-01-01T05:30:00",
          "1900-01-01T05:45:00",
          "1900-01-01T06:00:00",
          "1900-01-01T06:15:00",
          "1900-01-01T06:30:00",
          "1900-01-01T06:45:00",
          "1900-01-01T07:00:00",
          "1900-01-01T07:15:00",
          "1900-01-01T07:30:00",
          "1900-01-01T07:45:00",
          "1900-01-01T08:00:00",
          "1900-01-01T08:15:00",
          "1900-01-01T08:30:00",
          "1900-01-01T08:45:00",
          "1900-01-01T09:00:00",
          "1900-01-01T09:15:00",
          "1900-01-01T09:30:00",
          "1900-01-01T10:30:00"
         ],
         "hovertemplate": "routine=SLEEP<br>start_at=%{base}<br>end_at=%{x}<br>user_id=%{y}<extra></extra>",
         "legendgroup": "SLEEP",
         "marker": {
          "color": "#00cc96",
          "pattern": {
           "shape": ""
          }
         },
         "name": "SLEEP",
         "offsetgroup": "SLEEP",
         "orientation": "h",
         "showlegend": true,
         "textposition": "auto",
         "type": "bar",
         "x": [
          900000,
          900000,
          900000,
          900000,
          900000,
          900000,
          900000,
          900000,
          900000,
          900000,
          900000,
          900000,
          900000,
          900000,
          900000,
          900000,
          900000,
          900000,
          900000,
          900000,
          900000,
          900000,
          900000,
          900000,
          900000,
          900000,
          900000,
          900000,
          900000
         ],
         "xaxis": "x",
         "y": [
          "P3029",
          "P3029",
          "P3029",
          "P3029",
          "P3029",
          "P3029",
          "P3029",
          "P3029",
          "P3029",
          "P3029",
          "P3029",
          "P3029",
          "P3029",
          "P3029",
          "P3029",
          "P3029",
          "P3029",
          "P3029",
          "P3029",
          "P3029",
          "P3029",
          "P3029",
          "P3029",
          "P3029",
          "P3029",
          "P3029",
          "P3029",
          "P3029",
          "P3029"
         ],
         "yaxis": "y"
        },
        {
         "alignmentgroup": "True",
         "base": [
          "1900-01-01T09:45:00",
          "1900-01-01T10:00:00",
          "1900-01-01T10:15:00",
          "1900-01-01T11:00:00",
          "1900-01-01T11:30:00",
          "1900-01-01T12:00:00",
          "1900-01-01T13:15:00",
          "1900-01-01T13:30:00",
          "1900-01-01T13:45:00",
          "1900-01-01T14:00:00",
          "1900-01-01T14:45:00"
         ],
         "hovertemplate": "routine=CLASS<br>start_at=%{base}<br>end_at=%{x}<br>user_id=%{y}<extra></extra>",
         "legendgroup": "CLASS",
         "marker": {
          "color": "#ab63fa",
          "pattern": {
           "shape": ""
          }
         },
         "name": "CLASS",
         "offsetgroup": "CLASS",
         "orientation": "h",
         "showlegend": true,
         "textposition": "auto",
         "type": "bar",
         "x": [
          900000,
          900000,
          900000,
          900000,
          900000,
          900000,
          900000,
          900000,
          900000,
          900000,
          900000
         ],
         "xaxis": "x",
         "y": [
          "P3029",
          "P3029",
          "P3029",
          "P3029",
          "P3029",
          "P3029",
          "P3029",
          "P3029",
          "P3029",
          "P3029",
          "P3029"
         ],
         "yaxis": "y"
        },
        {
         "alignmentgroup": "True",
         "base": [
          "1900-01-01T12:15:00",
          "1900-01-01T12:30:00",
          "1900-01-01T14:15:00"
         ],
         "hovertemplate": "routine=MEAL<br>start_at=%{base}<br>end_at=%{x}<br>user_id=%{y}<extra></extra>",
         "legendgroup": "MEAL",
         "marker": {
          "color": "#FFA15A",
          "pattern": {
           "shape": ""
          }
         },
         "name": "MEAL",
         "offsetgroup": "MEAL",
         "orientation": "h",
         "showlegend": true,
         "textposition": "auto",
         "type": "bar",
         "x": [
          900000,
          900000,
          900000
         ],
         "xaxis": "x",
         "y": [
          "P3029",
          "P3029",
          "P3029"
         ],
         "yaxis": "y"
        },
        {
         "alignmentgroup": "True",
         "base": [
          "1900-01-01T17:45:00",
          "1900-01-01T18:00:00"
         ],
         "hovertemplate": "routine=EXERCISE<br>start_at=%{base}<br>end_at=%{x}<br>user_id=%{y}<extra></extra>",
         "legendgroup": "EXERCISE",
         "marker": {
          "color": "#19d3f3",
          "pattern": {
           "shape": ""
          }
         },
         "name": "EXERCISE",
         "offsetgroup": "EXERCISE",
         "orientation": "h",
         "showlegend": true,
         "textposition": "auto",
         "type": "bar",
         "x": [
          900000,
          900000
         ],
         "xaxis": "x",
         "y": [
          "P3029",
          "P3029"
         ],
         "yaxis": "y"
        }
       ],
       "layout": {
        "barmode": "overlay",
        "height": 400,
        "legend": {
         "title": {
          "text": "routine"
         },
         "tracegroupgap": 0
        },
        "margin": {
         "t": 60
        },
        "template": {
         "data": {
          "bar": [
           {
            "error_x": {
             "color": "#2a3f5f"
            },
            "error_y": {
             "color": "#2a3f5f"
            },
            "marker": {
             "line": {
              "color": "#E5ECF6",
              "width": 0.5
             },
             "pattern": {
              "fillmode": "overlay",
              "size": 10,
              "solidity": 0.2
             }
            },
            "type": "bar"
           }
          ],
          "barpolar": [
           {
            "marker": {
             "line": {
              "color": "#E5ECF6",
              "width": 0.5
             },
             "pattern": {
              "fillmode": "overlay",
              "size": 10,
              "solidity": 0.2
             }
            },
            "type": "barpolar"
           }
          ],
          "carpet": [
           {
            "aaxis": {
             "endlinecolor": "#2a3f5f",
             "gridcolor": "white",
             "linecolor": "white",
             "minorgridcolor": "white",
             "startlinecolor": "#2a3f5f"
            },
            "baxis": {
             "endlinecolor": "#2a3f5f",
             "gridcolor": "white",
             "linecolor": "white",
             "minorgridcolor": "white",
             "startlinecolor": "#2a3f5f"
            },
            "type": "carpet"
           }
          ],
          "choropleth": [
           {
            "colorbar": {
             "outlinewidth": 0,
             "ticks": ""
            },
            "type": "choropleth"
           }
          ],
          "contour": [
           {
            "colorbar": {
             "outlinewidth": 0,
             "ticks": ""
            },
            "colorscale": [
             [
              0,
              "#0d0887"
             ],
             [
              0.1111111111111111,
              "#46039f"
             ],
             [
              0.2222222222222222,
              "#7201a8"
             ],
             [
              0.3333333333333333,
              "#9c179e"
             ],
             [
              0.4444444444444444,
              "#bd3786"
             ],
             [
              0.5555555555555556,
              "#d8576b"
             ],
             [
              0.6666666666666666,
              "#ed7953"
             ],
             [
              0.7777777777777778,
              "#fb9f3a"
             ],
             [
              0.8888888888888888,
              "#fdca26"
             ],
             [
              1,
              "#f0f921"
             ]
            ],
            "type": "contour"
           }
          ],
          "contourcarpet": [
           {
            "colorbar": {
             "outlinewidth": 0,
             "ticks": ""
            },
            "type": "contourcarpet"
           }
          ],
          "heatmap": [
           {
            "colorbar": {
             "outlinewidth": 0,
             "ticks": ""
            },
            "colorscale": [
             [
              0,
              "#0d0887"
             ],
             [
              0.1111111111111111,
              "#46039f"
             ],
             [
              0.2222222222222222,
              "#7201a8"
             ],
             [
              0.3333333333333333,
              "#9c179e"
             ],
             [
              0.4444444444444444,
              "#bd3786"
             ],
             [
              0.5555555555555556,
              "#d8576b"
             ],
             [
              0.6666666666666666,
              "#ed7953"
             ],
             [
              0.7777777777777778,
              "#fb9f3a"
             ],
             [
              0.8888888888888888,
              "#fdca26"
             ],
             [
              1,
              "#f0f921"
             ]
            ],
            "type": "heatmap"
           }
          ],
          "heatmapgl": [
           {
            "colorbar": {
             "outlinewidth": 0,
             "ticks": ""
            },
            "colorscale": [
             [
              0,
              "#0d0887"
             ],
             [
              0.1111111111111111,
              "#46039f"
             ],
             [
              0.2222222222222222,
              "#7201a8"
             ],
             [
              0.3333333333333333,
              "#9c179e"
             ],
             [
              0.4444444444444444,
              "#bd3786"
             ],
             [
              0.5555555555555556,
              "#d8576b"
             ],
             [
              0.6666666666666666,
              "#ed7953"
             ],
             [
              0.7777777777777778,
              "#fb9f3a"
             ],
             [
              0.8888888888888888,
              "#fdca26"
             ],
             [
              1,
              "#f0f921"
             ]
            ],
            "type": "heatmapgl"
           }
          ],
          "histogram": [
           {
            "marker": {
             "pattern": {
              "fillmode": "overlay",
              "size": 10,
              "solidity": 0.2
             }
            },
            "type": "histogram"
           }
          ],
          "histogram2d": [
           {
            "colorbar": {
             "outlinewidth": 0,
             "ticks": ""
            },
            "colorscale": [
             [
              0,
              "#0d0887"
             ],
             [
              0.1111111111111111,
              "#46039f"
             ],
             [
              0.2222222222222222,
              "#7201a8"
             ],
             [
              0.3333333333333333,
              "#9c179e"
             ],
             [
              0.4444444444444444,
              "#bd3786"
             ],
             [
              0.5555555555555556,
              "#d8576b"
             ],
             [
              0.6666666666666666,
              "#ed7953"
             ],
             [
              0.7777777777777778,
              "#fb9f3a"
             ],
             [
              0.8888888888888888,
              "#fdca26"
             ],
             [
              1,
              "#f0f921"
             ]
            ],
            "type": "histogram2d"
           }
          ],
          "histogram2dcontour": [
           {
            "colorbar": {
             "outlinewidth": 0,
             "ticks": ""
            },
            "colorscale": [
             [
              0,
              "#0d0887"
             ],
             [
              0.1111111111111111,
              "#46039f"
             ],
             [
              0.2222222222222222,
              "#7201a8"
             ],
             [
              0.3333333333333333,
              "#9c179e"
             ],
             [
              0.4444444444444444,
              "#bd3786"
             ],
             [
              0.5555555555555556,
              "#d8576b"
             ],
             [
              0.6666666666666666,
              "#ed7953"
             ],
             [
              0.7777777777777778,
              "#fb9f3a"
             ],
             [
              0.8888888888888888,
              "#fdca26"
             ],
             [
              1,
              "#f0f921"
             ]
            ],
            "type": "histogram2dcontour"
           }
          ],
          "mesh3d": [
           {
            "colorbar": {
             "outlinewidth": 0,
             "ticks": ""
            },
            "type": "mesh3d"
           }
          ],
          "parcoords": [
           {
            "line": {
             "colorbar": {
              "outlinewidth": 0,
              "ticks": ""
             }
            },
            "type": "parcoords"
           }
          ],
          "pie": [
           {
            "automargin": true,
            "type": "pie"
           }
          ],
          "scatter": [
           {
            "fillpattern": {
             "fillmode": "overlay",
             "size": 10,
             "solidity": 0.2
            },
            "type": "scatter"
           }
          ],
          "scatter3d": [
           {
            "line": {
             "colorbar": {
              "outlinewidth": 0,
              "ticks": ""
             }
            },
            "marker": {
             "colorbar": {
              "outlinewidth": 0,
              "ticks": ""
             }
            },
            "type": "scatter3d"
           }
          ],
          "scattercarpet": [
           {
            "marker": {
             "colorbar": {
              "outlinewidth": 0,
              "ticks": ""
             }
            },
            "type": "scattercarpet"
           }
          ],
          "scattergeo": [
           {
            "marker": {
             "colorbar": {
              "outlinewidth": 0,
              "ticks": ""
             }
            },
            "type": "scattergeo"
           }
          ],
          "scattergl": [
           {
            "marker": {
             "colorbar": {
              "outlinewidth": 0,
              "ticks": ""
             }
            },
            "type": "scattergl"
           }
          ],
          "scattermapbox": [
           {
            "marker": {
             "colorbar": {
              "outlinewidth": 0,
              "ticks": ""
             }
            },
            "type": "scattermapbox"
           }
          ],
          "scatterpolar": [
           {
            "marker": {
             "colorbar": {
              "outlinewidth": 0,
              "ticks": ""
             }
            },
            "type": "scatterpolar"
           }
          ],
          "scatterpolargl": [
           {
            "marker": {
             "colorbar": {
              "outlinewidth": 0,
              "ticks": ""
             }
            },
            "type": "scatterpolargl"
           }
          ],
          "scatterternary": [
           {
            "marker": {
             "colorbar": {
              "outlinewidth": 0,
              "ticks": ""
             }
            },
            "type": "scatterternary"
           }
          ],
          "surface": [
           {
            "colorbar": {
             "outlinewidth": 0,
             "ticks": ""
            },
            "colorscale": [
             [
              0,
              "#0d0887"
             ],
             [
              0.1111111111111111,
              "#46039f"
             ],
             [
              0.2222222222222222,
              "#7201a8"
             ],
             [
              0.3333333333333333,
              "#9c179e"
             ],
             [
              0.4444444444444444,
              "#bd3786"
             ],
             [
              0.5555555555555556,
              "#d8576b"
             ],
             [
              0.6666666666666666,
              "#ed7953"
             ],
             [
              0.7777777777777778,
              "#fb9f3a"
             ],
             [
              0.8888888888888888,
              "#fdca26"
             ],
             [
              1,
              "#f0f921"
             ]
            ],
            "type": "surface"
           }
          ],
          "table": [
           {
            "cells": {
             "fill": {
              "color": "#EBF0F8"
             },
             "line": {
              "color": "white"
             }
            },
            "header": {
             "fill": {
              "color": "#C8D4E3"
             },
             "line": {
              "color": "white"
             }
            },
            "type": "table"
           }
          ]
         },
         "layout": {
          "annotationdefaults": {
           "arrowcolor": "#2a3f5f",
           "arrowhead": 0,
           "arrowwidth": 1
          },
          "autotypenumbers": "strict",
          "coloraxis": {
           "colorbar": {
            "outlinewidth": 0,
            "ticks": ""
           }
          },
          "colorscale": {
           "diverging": [
            [
             0,
             "#8e0152"
            ],
            [
             0.1,
             "#c51b7d"
            ],
            [
             0.2,
             "#de77ae"
            ],
            [
             0.3,
             "#f1b6da"
            ],
            [
             0.4,
             "#fde0ef"
            ],
            [
             0.5,
             "#f7f7f7"
            ],
            [
             0.6,
             "#e6f5d0"
            ],
            [
             0.7,
             "#b8e186"
            ],
            [
             0.8,
             "#7fbc41"
            ],
            [
             0.9,
             "#4d9221"
            ],
            [
             1,
             "#276419"
            ]
           ],
           "sequential": [
            [
             0,
             "#0d0887"
            ],
            [
             0.1111111111111111,
             "#46039f"
            ],
            [
             0.2222222222222222,
             "#7201a8"
            ],
            [
             0.3333333333333333,
             "#9c179e"
            ],
            [
             0.4444444444444444,
             "#bd3786"
            ],
            [
             0.5555555555555556,
             "#d8576b"
            ],
            [
             0.6666666666666666,
             "#ed7953"
            ],
            [
             0.7777777777777778,
             "#fb9f3a"
            ],
            [
             0.8888888888888888,
             "#fdca26"
            ],
            [
             1,
             "#f0f921"
            ]
           ],
           "sequentialminus": [
            [
             0,
             "#0d0887"
            ],
            [
             0.1111111111111111,
             "#46039f"
            ],
            [
             0.2222222222222222,
             "#7201a8"
            ],
            [
             0.3333333333333333,
             "#9c179e"
            ],
            [
             0.4444444444444444,
             "#bd3786"
            ],
            [
             0.5555555555555556,
             "#d8576b"
            ],
            [
             0.6666666666666666,
             "#ed7953"
            ],
            [
             0.7777777777777778,
             "#fb9f3a"
            ],
            [
             0.8888888888888888,
             "#fdca26"
            ],
            [
             1,
             "#f0f921"
            ]
           ]
          },
          "colorway": [
           "#636efa",
           "#EF553B",
           "#00cc96",
           "#ab63fa",
           "#FFA15A",
           "#19d3f3",
           "#FF6692",
           "#B6E880",
           "#FF97FF",
           "#FECB52"
          ],
          "font": {
           "color": "#2a3f5f"
          },
          "geo": {
           "bgcolor": "white",
           "lakecolor": "white",
           "landcolor": "#E5ECF6",
           "showlakes": true,
           "showland": true,
           "subunitcolor": "white"
          },
          "hoverlabel": {
           "align": "left"
          },
          "hovermode": "closest",
          "mapbox": {
           "style": "light"
          },
          "paper_bgcolor": "white",
          "plot_bgcolor": "#E5ECF6",
          "polar": {
           "angularaxis": {
            "gridcolor": "white",
            "linecolor": "white",
            "ticks": ""
           },
           "bgcolor": "#E5ECF6",
           "radialaxis": {
            "gridcolor": "white",
            "linecolor": "white",
            "ticks": ""
           }
          },
          "scene": {
           "xaxis": {
            "backgroundcolor": "#E5ECF6",
            "gridcolor": "white",
            "gridwidth": 2,
            "linecolor": "white",
            "showbackground": true,
            "ticks": "",
            "zerolinecolor": "white"
           },
           "yaxis": {
            "backgroundcolor": "#E5ECF6",
            "gridcolor": "white",
            "gridwidth": 2,
            "linecolor": "white",
            "showbackground": true,
            "ticks": "",
            "zerolinecolor": "white"
           },
           "zaxis": {
            "backgroundcolor": "#E5ECF6",
            "gridcolor": "white",
            "gridwidth": 2,
            "linecolor": "white",
            "showbackground": true,
            "ticks": "",
            "zerolinecolor": "white"
           }
          },
          "shapedefaults": {
           "line": {
            "color": "#2a3f5f"
           }
          },
          "ternary": {
           "aaxis": {
            "gridcolor": "white",
            "linecolor": "white",
            "ticks": ""
           },
           "baxis": {
            "gridcolor": "white",
            "linecolor": "white",
            "ticks": ""
           },
           "bgcolor": "#E5ECF6",
           "caxis": {
            "gridcolor": "white",
            "linecolor": "white",
            "ticks": ""
           }
          },
          "title": {
           "x": 0.05
          },
          "xaxis": {
           "automargin": true,
           "gridcolor": "white",
           "linecolor": "white",
           "ticks": "",
           "title": {
            "standoff": 15
           },
           "zerolinecolor": "white",
           "zerolinewidth": 2
          },
          "yaxis": {
           "automargin": true,
           "gridcolor": "white",
           "linecolor": "white",
           "ticks": "",
           "title": {
            "standoff": 15
           },
           "zerolinecolor": "white",
           "zerolinewidth": 2
          }
         }
        },
        "width": 1200,
        "xaxis": {
         "anchor": "y",
         "domain": [
          0,
          1
         ],
         "tickformat": "%H:%M",
         "type": "date"
        },
        "yaxis": {
         "anchor": "x",
         "domain": [
          0,
          1
         ],
         "title": {
          "text": "user_id"
         }
        }
       }
      }
     },
     "metadata": {},
     "output_type": "display_data"
    }
   ],
   "source": [
    "import plotly.express as px\n",
    "\n",
    "daily_fig_df = daily_df.copy()\n",
    "daily_fig_df['start_at'] = pd.to_datetime(daily_df['start_at'], format='%H:%M:%S')\n",
    "daily_fig_df['end_at'] = daily_fig_df['start_at'] + pd.Timedelta(minutes=15)\n",
    "fig = px.timeline(\n",
    "    daily_fig_df,\n",
    "    x_start='start_at',\n",
    "    x_end='end_at',\n",
    "    y='user_id',\n",
    "    color='routine',\n",
    "    height=400,\n",
    "    width=1200,\n",
    ")\n",
    "fig.update_xaxes(tickformat=\"%H:%M\")\n",
    "\n",
    "fig.show()"
   ]
  },
  {
   "attachments": {},
   "cell_type": "markdown",
   "metadata": {},
   "source": [
    "### Export daily routine"
   ]
  },
  {
   "cell_type": "code",
   "execution_count": 19,
   "metadata": {},
   "outputs": [],
   "source": [
    "daily_df.to_csv(f'../csv/routines/{USER_ID}-daily.csv')"
   ]
  },
  {
   "attachments": {},
   "cell_type": "markdown",
   "metadata": {},
   "source": [
    "-----"
   ]
  },
  {
   "attachments": {},
   "cell_type": "markdown",
   "metadata": {},
   "source": [
    "## Aggregate weekly"
   ]
  },
  {
   "cell_type": "code",
   "execution_count": 20,
   "metadata": {},
   "outputs": [
    {
     "data": {
      "text/html": [
       "<div>\n",
       "<style scoped>\n",
       "    .dataframe tbody tr th:only-of-type {\n",
       "        vertical-align: middle;\n",
       "    }\n",
       "\n",
       "    .dataframe tbody tr th {\n",
       "        vertical-align: top;\n",
       "    }\n",
       "\n",
       "    .dataframe thead th {\n",
       "        text-align: right;\n",
       "    }\n",
       "</style>\n",
       "<table border=\"1\" class=\"dataframe\">\n",
       "  <thead>\n",
       "    <tr style=\"text-align: right;\">\n",
       "      <th></th>\n",
       "      <th>user_id</th>\n",
       "      <th>start_at</th>\n",
       "      <th>end_at</th>\n",
       "      <th>weekday</th>\n",
       "      <th>routine</th>\n",
       "    </tr>\n",
       "  </thead>\n",
       "  <tbody>\n",
       "    <tr>\n",
       "      <th>0</th>\n",
       "      <td>P3029</td>\n",
       "      <td>00:00:00</td>\n",
       "      <td>00:15:00</td>\n",
       "      <td>4</td>\n",
       "      <td>INDOOR</td>\n",
       "    </tr>\n",
       "    <tr>\n",
       "      <th>1</th>\n",
       "      <td>P3029</td>\n",
       "      <td>00:15:00</td>\n",
       "      <td>00:30:00</td>\n",
       "      <td>2</td>\n",
       "      <td>INDOOR</td>\n",
       "    </tr>\n",
       "    <tr>\n",
       "      <th>2</th>\n",
       "      <td>P3029</td>\n",
       "      <td>00:15:00</td>\n",
       "      <td>00:30:00</td>\n",
       "      <td>4</td>\n",
       "      <td>INDOOR</td>\n",
       "    </tr>\n",
       "    <tr>\n",
       "      <th>3</th>\n",
       "      <td>P3029</td>\n",
       "      <td>00:30:00</td>\n",
       "      <td>00:45:00</td>\n",
       "      <td>4</td>\n",
       "      <td>INDOOR</td>\n",
       "    </tr>\n",
       "    <tr>\n",
       "      <th>4</th>\n",
       "      <td>P3029</td>\n",
       "      <td>00:45:00</td>\n",
       "      <td>01:00:00</td>\n",
       "      <td>4</td>\n",
       "      <td>STUDY</td>\n",
       "    </tr>\n",
       "    <tr>\n",
       "      <th>...</th>\n",
       "      <td>...</td>\n",
       "      <td>...</td>\n",
       "      <td>...</td>\n",
       "      <td>...</td>\n",
       "      <td>...</td>\n",
       "    </tr>\n",
       "    <tr>\n",
       "      <th>223</th>\n",
       "      <td>P3029</td>\n",
       "      <td>21:45:00</td>\n",
       "      <td>22:00:00</td>\n",
       "      <td>3</td>\n",
       "      <td>STUDY</td>\n",
       "    </tr>\n",
       "    <tr>\n",
       "      <th>224</th>\n",
       "      <td>P3029</td>\n",
       "      <td>21:45:00</td>\n",
       "      <td>22:00:00</td>\n",
       "      <td>4</td>\n",
       "      <td>INDOOR</td>\n",
       "    </tr>\n",
       "    <tr>\n",
       "      <th>225</th>\n",
       "      <td>P3029</td>\n",
       "      <td>22:45:00</td>\n",
       "      <td>23:00:00</td>\n",
       "      <td>3</td>\n",
       "      <td>STUDY</td>\n",
       "    </tr>\n",
       "    <tr>\n",
       "      <th>226</th>\n",
       "      <td>P3029</td>\n",
       "      <td>23:15:00</td>\n",
       "      <td>23:30:00</td>\n",
       "      <td>3</td>\n",
       "      <td>STUDY</td>\n",
       "    </tr>\n",
       "    <tr>\n",
       "      <th>227</th>\n",
       "      <td>P3029</td>\n",
       "      <td>23:45:00</td>\n",
       "      <td>00:00:00</td>\n",
       "      <td>3</td>\n",
       "      <td>STUDY</td>\n",
       "    </tr>\n",
       "  </tbody>\n",
       "</table>\n",
       "<p>228 rows × 5 columns</p>\n",
       "</div>"
      ],
      "text/plain": [
       "    user_id  start_at    end_at  weekday routine\n",
       "0     P3029  00:00:00  00:15:00        4  INDOOR\n",
       "1     P3029  00:15:00  00:30:00        2  INDOOR\n",
       "2     P3029  00:15:00  00:30:00        4  INDOOR\n",
       "3     P3029  00:30:00  00:45:00        4  INDOOR\n",
       "4     P3029  00:45:00  01:00:00        4   STUDY\n",
       "..      ...       ...       ...      ...     ...\n",
       "223   P3029  21:45:00  22:00:00        3   STUDY\n",
       "224   P3029  21:45:00  22:00:00        4  INDOOR\n",
       "225   P3029  22:45:00  23:00:00        3   STUDY\n",
       "226   P3029  23:15:00  23:30:00        3   STUDY\n",
       "227   P3029  23:45:00  00:00:00        3   STUDY\n",
       "\n",
       "[228 rows x 5 columns]"
      ]
     },
     "execution_count": 20,
     "metadata": {},
     "output_type": "execute_result"
    }
   ],
   "source": [
    "weekly_df = raw_df.copy()\n",
    "weekly_df['start_at'] = weekly_df['start_at'].dt.time\n",
    "weekly_df['end_at'] = weekly_df['end_at'].dt.time\n",
    "\n",
    "weekly_df = weekly_df.groupby(['user_id', 'start_at', 'end_at', 'weekday']) \\\n",
    "    .agg(routine=('routine', lambda x: pd.Series.mode(x)[0])) \\\n",
    "    .reset_index()\n",
    "\n",
    "weekly_df"
   ]
  },
  {
   "attachments": {},
   "cell_type": "markdown",
   "metadata": {},
   "source": [
    "### Check with weekly routine"
   ]
  },
  {
   "cell_type": "code",
   "execution_count": 21,
   "metadata": {},
   "outputs": [
    {
     "name": "stderr",
     "output_type": "stream",
     "text": [
      "C:\\Users\\user\\AppData\\Local\\Temp\\ipykernel_15544\\1798017569.py:5: SettingWithCopyWarning:\n",
      "\n",
      "\n",
      "A value is trying to be set on a copy of a slice from a DataFrame.\n",
      "Try using .loc[row_indexer,col_indexer] = value instead\n",
      "\n",
      "See the caveats in the documentation: https://pandas.pydata.org/pandas-docs/stable/user_guide/indexing.html#returning-a-view-versus-a-copy\n",
      "\n",
      "C:\\Users\\user\\AppData\\Local\\Temp\\ipykernel_15544\\1798017569.py:6: SettingWithCopyWarning:\n",
      "\n",
      "\n",
      "A value is trying to be set on a copy of a slice from a DataFrame.\n",
      "Try using .loc[row_indexer,col_indexer] = value instead\n",
      "\n",
      "See the caveats in the documentation: https://pandas.pydata.org/pandas-docs/stable/user_guide/indexing.html#returning-a-view-versus-a-copy\n",
      "\n"
     ]
    },
    {
     "data": {
      "application/vnd.plotly.v1+json": {
       "config": {
        "plotlyServerURL": "https://plot.ly"
       },
       "data": [
        {
         "alignmentgroup": "True",
         "base": [
          "1900-01-01T03:45:00",
          "1900-01-01T04:00:00",
          "1900-01-01T04:15:00",
          "1900-01-01T04:30:00",
          "1900-01-01T04:45:00",
          "1900-01-01T05:00:00",
          "1900-01-01T05:15:00",
          "1900-01-01T05:30:00",
          "1900-01-01T05:45:00",
          "1900-01-01T06:00:00",
          "1900-01-01T06:15:00",
          "1900-01-01T06:30:00",
          "1900-01-01T06:45:00",
          "1900-01-01T07:00:00",
          "1900-01-01T07:15:00",
          "1900-01-01T07:30:00",
          "1900-01-01T07:45:00",
          "1900-01-01T08:00:00",
          "1900-01-01T08:15:00",
          "1900-01-01T08:30:00",
          "1900-01-01T08:45:00",
          "1900-01-01T09:00:00",
          "1900-01-01T09:15:00",
          "1900-01-01T09:30:00",
          "1900-01-01T09:45:00",
          "1900-01-01T10:00:00",
          "1900-01-01T10:15:00",
          "1900-01-01T10:30:00",
          "1900-01-01T10:45:00",
          "1900-01-01T11:00:00",
          "1900-01-01T11:15:00",
          "1900-01-01T11:30:00",
          "1900-01-01T11:45:00"
         ],
         "hovertemplate": "routine=SLEEP<br>start_at=%{base}<br>end_at=%{x}<br>user_id=%{y}<extra></extra>",
         "legendgroup": "SLEEP",
         "marker": {
          "color": "#636efa",
          "pattern": {
           "shape": ""
          }
         },
         "name": "SLEEP",
         "offsetgroup": "SLEEP",
         "orientation": "h",
         "showlegend": true,
         "textposition": "auto",
         "type": "bar",
         "x": [
          900000,
          900000,
          900000,
          900000,
          900000,
          900000,
          900000,
          900000,
          900000,
          900000,
          900000,
          900000,
          900000,
          900000,
          900000,
          900000,
          900000,
          900000,
          900000,
          900000,
          900000,
          900000,
          900000,
          900000,
          900000,
          900000,
          900000,
          900000,
          900000,
          900000,
          900000,
          900000,
          900000
         ],
         "xaxis": "x",
         "y": [
          "P3029",
          "P3029",
          "P3029",
          "P3029",
          "P3029",
          "P3029",
          "P3029",
          "P3029",
          "P3029",
          "P3029",
          "P3029",
          "P3029",
          "P3029",
          "P3029",
          "P3029",
          "P3029",
          "P3029",
          "P3029",
          "P3029",
          "P3029",
          "P3029",
          "P3029",
          "P3029",
          "P3029",
          "P3029",
          "P3029",
          "P3029",
          "P3029",
          "P3029",
          "P3029",
          "P3029",
          "P3029",
          "P3029"
         ],
         "yaxis": "y"
        },
        {
         "alignmentgroup": "True",
         "base": [
          "1900-01-01T09:00:00",
          "1900-01-01T09:45:00",
          "1900-01-01T10:00:00",
          "1900-01-01T10:15:00",
          "1900-01-01T11:00:00",
          "1900-01-01T11:30:00",
          "1900-01-01T12:00:00",
          "1900-01-01T13:15:00",
          "1900-01-01T13:30:00",
          "1900-01-01T13:45:00",
          "1900-01-01T14:00:00"
         ],
         "hovertemplate": "routine=CLASS<br>start_at=%{base}<br>end_at=%{x}<br>user_id=%{y}<extra></extra>",
         "legendgroup": "CLASS",
         "marker": {
          "color": "#636efa",
          "pattern": {
           "shape": ""
          }
         },
         "name": "CLASS",
         "offsetgroup": "CLASS",
         "orientation": "h",
         "showlegend": false,
         "textposition": "auto",
         "type": "bar",
         "x": [
          900000,
          900000,
          900000,
          900000,
          900000,
          900000,
          900000,
          900000,
          900000,
          900000,
          900000
         ],
         "xaxis": "x2",
         "y": [
          "P3029",
          "P3029",
          "P3029",
          "P3029",
          "P3029",
          "P3029",
          "P3029",
          "P3029",
          "P3029",
          "P3029",
          "P3029"
         ],
         "yaxis": "y2"
        },
        {
         "alignmentgroup": "True",
         "base": [
          "1900-01-01T12:15:00",
          "1900-01-01T14:15:00",
          "1900-01-01T17:45:00",
          "1900-01-01T18:00:00"
         ],
         "hovertemplate": "routine=MEAL<br>start_at=%{base}<br>end_at=%{x}<br>user_id=%{y}<extra></extra>",
         "legendgroup": "MEAL",
         "marker": {
          "color": "#EF553B",
          "pattern": {
           "shape": ""
          }
         },
         "name": "MEAL",
         "offsetgroup": "MEAL",
         "orientation": "h",
         "showlegend": false,
         "textposition": "auto",
         "type": "bar",
         "x": [
          900000,
          900000,
          900000,
          900000
         ],
         "xaxis": "x2",
         "y": [
          "P3029",
          "P3029",
          "P3029",
          "P3029"
         ],
         "yaxis": "y2"
        },
        {
         "alignmentgroup": "True",
         "base": [
          "1900-01-01T12:30:00"
         ],
         "hovertemplate": "routine=STUDY<br>start_at=%{base}<br>end_at=%{x}<br>user_id=%{y}<extra></extra>",
         "legendgroup": "STUDY",
         "marker": {
          "color": "#00cc96",
          "pattern": {
           "shape": ""
          }
         },
         "name": "STUDY",
         "offsetgroup": "STUDY",
         "orientation": "h",
         "showlegend": false,
         "textposition": "auto",
         "type": "bar",
         "x": [
          900000
         ],
         "xaxis": "x2",
         "y": [
          "P3029"
         ],
         "yaxis": "y2"
        },
        {
         "alignmentgroup": "True",
         "base": [
          "1900-01-01T03:00:00",
          "1900-01-01T03:15:00",
          "1900-01-01T03:30:00",
          "1900-01-01T03:45:00",
          "1900-01-01T04:00:00",
          "1900-01-01T04:15:00",
          "1900-01-01T04:30:00",
          "1900-01-01T04:45:00",
          "1900-01-01T05:00:00",
          "1900-01-01T05:15:00",
          "1900-01-01T05:30:00",
          "1900-01-01T05:45:00",
          "1900-01-01T06:00:00",
          "1900-01-01T06:15:00",
          "1900-01-01T06:30:00",
          "1900-01-01T06:45:00",
          "1900-01-01T07:00:00",
          "1900-01-01T07:15:00",
          "1900-01-01T07:30:00",
          "1900-01-01T07:45:00",
          "1900-01-01T08:00:00"
         ],
         "hovertemplate": "routine=SLEEP<br>start_at=%{base}<br>end_at=%{x}<br>user_id=%{y}<extra></extra>",
         "legendgroup": "SLEEP",
         "marker": {
          "color": "#636efa",
          "pattern": {
           "shape": ""
          }
         },
         "name": "SLEEP",
         "offsetgroup": "SLEEP",
         "orientation": "h",
         "showlegend": false,
         "textposition": "auto",
         "type": "bar",
         "x": [
          900000,
          900000,
          900000,
          900000,
          900000,
          900000,
          900000,
          900000,
          900000,
          900000,
          900000,
          900000,
          900000,
          900000,
          900000,
          900000,
          900000,
          900000,
          900000,
          900000,
          900000
         ],
         "xaxis": "x3",
         "y": [
          "P3029",
          "P3029",
          "P3029",
          "P3029",
          "P3029",
          "P3029",
          "P3029",
          "P3029",
          "P3029",
          "P3029",
          "P3029",
          "P3029",
          "P3029",
          "P3029",
          "P3029",
          "P3029",
          "P3029",
          "P3029",
          "P3029",
          "P3029",
          "P3029"
         ],
         "yaxis": "y3"
        },
        {
         "alignmentgroup": "True",
         "base": [
          "1900-01-01T13:30:00"
         ],
         "hovertemplate": "routine=MEAL<br>start_at=%{base}<br>end_at=%{x}<br>user_id=%{y}<extra></extra>",
         "legendgroup": "MEAL",
         "marker": {
          "color": "#EF553B",
          "pattern": {
           "shape": ""
          }
         },
         "name": "MEAL",
         "offsetgroup": "MEAL",
         "orientation": "h",
         "showlegend": false,
         "textposition": "auto",
         "type": "bar",
         "x": [
          900000
         ],
         "xaxis": "x3",
         "y": [
          "P3029"
         ],
         "yaxis": "y3"
        },
        {
         "alignmentgroup": "True",
         "base": [
          "1900-01-01T13:45:00",
          "1900-01-01T14:45:00",
          "1900-01-01T15:00:00"
         ],
         "hovertemplate": "routine=CLASS<br>start_at=%{base}<br>end_at=%{x}<br>user_id=%{y}<extra></extra>",
         "legendgroup": "CLASS",
         "marker": {
          "color": "#00cc96",
          "pattern": {
           "shape": ""
          }
         },
         "name": "CLASS",
         "offsetgroup": "CLASS",
         "orientation": "h",
         "showlegend": false,
         "textposition": "auto",
         "type": "bar",
         "x": [
          900000,
          900000,
          900000
         ],
         "xaxis": "x3",
         "y": [
          "P3029",
          "P3029",
          "P3029"
         ],
         "yaxis": "y3"
        },
        {
         "alignmentgroup": "True",
         "base": [
          "1900-01-01T03:45:00",
          "1900-01-01T04:00:00",
          "1900-01-01T04:15:00",
          "1900-01-01T04:30:00",
          "1900-01-01T04:45:00",
          "1900-01-01T05:00:00",
          "1900-01-01T05:15:00",
          "1900-01-01T05:30:00",
          "1900-01-01T05:45:00",
          "1900-01-01T06:00:00",
          "1900-01-01T06:15:00",
          "1900-01-01T06:30:00",
          "1900-01-01T06:45:00",
          "1900-01-01T07:00:00",
          "1900-01-01T07:15:00",
          "1900-01-01T07:30:00",
          "1900-01-01T07:45:00",
          "1900-01-01T08:00:00"
         ],
         "hovertemplate": "routine=SLEEP<br>start_at=%{base}<br>end_at=%{x}<br>user_id=%{y}<extra></extra>",
         "legendgroup": "SLEEP",
         "marker": {
          "color": "#636efa",
          "pattern": {
           "shape": ""
          }
         },
         "name": "SLEEP",
         "offsetgroup": "SLEEP",
         "orientation": "h",
         "showlegend": false,
         "textposition": "auto",
         "type": "bar",
         "x": [
          900000,
          900000,
          900000,
          900000,
          900000,
          900000,
          900000,
          900000,
          900000,
          900000,
          900000,
          900000,
          900000,
          900000,
          900000,
          900000,
          900000,
          900000
         ],
         "xaxis": "x4",
         "y": [
          "P3029",
          "P3029",
          "P3029",
          "P3029",
          "P3029",
          "P3029",
          "P3029",
          "P3029",
          "P3029",
          "P3029",
          "P3029",
          "P3029",
          "P3029",
          "P3029",
          "P3029",
          "P3029",
          "P3029",
          "P3029"
         ],
         "yaxis": "y4"
        },
        {
         "alignmentgroup": "True",
         "base": [
          "1900-01-01T13:15:00",
          "1900-01-01T13:45:00",
          "1900-01-01T14:00:00"
         ],
         "hovertemplate": "routine=CLASS<br>start_at=%{base}<br>end_at=%{x}<br>user_id=%{y}<extra></extra>",
         "legendgroup": "CLASS",
         "marker": {
          "color": "#EF553B",
          "pattern": {
           "shape": ""
          }
         },
         "name": "CLASS",
         "offsetgroup": "CLASS",
         "orientation": "h",
         "showlegend": false,
         "textposition": "auto",
         "type": "bar",
         "x": [
          900000,
          900000,
          900000
         ],
         "xaxis": "x4",
         "y": [
          "P3029",
          "P3029",
          "P3029"
         ],
         "yaxis": "y4"
        },
        {
         "alignmentgroup": "True",
         "base": [
          "1900-01-01T14:15:00",
          "1900-01-01T15:45:00",
          "1900-01-01T20:15:00",
          "1900-01-01T20:30:00",
          "1900-01-01T21:00:00",
          "1900-01-01T21:15:00",
          "1900-01-01T21:30:00",
          "1900-01-01T21:45:00",
          "1900-01-01T22:45:00",
          "1900-01-01T23:15:00",
          "1900-01-01T23:45:00"
         ],
         "hovertemplate": "routine=STUDY<br>start_at=%{base}<br>end_at=%{x}<br>user_id=%{y}<extra></extra>",
         "legendgroup": "STUDY",
         "marker": {
          "color": "#00cc96",
          "pattern": {
           "shape": ""
          }
         },
         "name": "STUDY",
         "offsetgroup": "STUDY",
         "orientation": "h",
         "showlegend": false,
         "textposition": "auto",
         "type": "bar",
         "x": [
          900000,
          900000,
          900000,
          900000,
          900000,
          900000,
          900000,
          900000,
          900000,
          900000,
          900000
         ],
         "xaxis": "x4",
         "y": [
          "P3029",
          "P3029",
          "P3029",
          "P3029",
          "P3029",
          "P3029",
          "P3029",
          "P3029",
          "P3029",
          "P3029",
          "P3029"
         ],
         "yaxis": "y4"
        },
        {
         "alignmentgroup": "True",
         "base": [
          "1900-01-01T17:15:00",
          "1900-01-01T17:30:00",
          "1900-01-01T17:45:00",
          "1900-01-01T18:00:00"
         ],
         "hovertemplate": "routine=EXERCISE<br>start_at=%{base}<br>end_at=%{x}<br>user_id=%{y}<extra></extra>",
         "legendgroup": "EXERCISE",
         "marker": {
          "color": "#ab63fa",
          "pattern": {
           "shape": ""
          }
         },
         "name": "EXERCISE",
         "offsetgroup": "EXERCISE",
         "orientation": "h",
         "showlegend": false,
         "textposition": "auto",
         "type": "bar",
         "x": [
          900000,
          900000,
          900000,
          900000
         ],
         "xaxis": "x4",
         "y": [
          "P3029",
          "P3029",
          "P3029",
          "P3029"
         ],
         "yaxis": "y4"
        },
        {
         "alignmentgroup": "True",
         "base": [
          "1900-01-01T18:15:00"
         ],
         "hovertemplate": "routine=MEAL<br>start_at=%{base}<br>end_at=%{x}<br>user_id=%{y}<extra></extra>",
         "legendgroup": "MEAL",
         "marker": {
          "color": "#FFA15A",
          "pattern": {
           "shape": ""
          }
         },
         "name": "MEAL",
         "offsetgroup": "MEAL",
         "orientation": "h",
         "showlegend": false,
         "textposition": "auto",
         "type": "bar",
         "x": [
          900000
         ],
         "xaxis": "x4",
         "y": [
          "P3029"
         ],
         "yaxis": "y4"
        },
        {
         "alignmentgroup": "True",
         "base": [
          "1900-01-01T00:45:00",
          "1900-01-01T02:00:00"
         ],
         "hovertemplate": "routine=STUDY<br>start_at=%{base}<br>end_at=%{x}<br>user_id=%{y}<extra></extra>",
         "legendgroup": "STUDY",
         "marker": {
          "color": "#636efa",
          "pattern": {
           "shape": ""
          }
         },
         "name": "STUDY",
         "offsetgroup": "STUDY",
         "orientation": "h",
         "showlegend": false,
         "textposition": "auto",
         "type": "bar",
         "x": [
          900000,
          900000
         ],
         "xaxis": "x5",
         "y": [
          "P3029",
          "P3029"
         ],
         "yaxis": "y5"
        },
        {
         "alignmentgroup": "True",
         "base": [
          "1900-01-01T02:45:00",
          "1900-01-01T03:00:00",
          "1900-01-01T03:15:00",
          "1900-01-01T03:30:00",
          "1900-01-01T03:45:00",
          "1900-01-01T04:00:00",
          "1900-01-01T04:15:00",
          "1900-01-01T04:30:00",
          "1900-01-01T04:45:00",
          "1900-01-01T05:00:00",
          "1900-01-01T05:15:00",
          "1900-01-01T05:30:00",
          "1900-01-01T05:45:00",
          "1900-01-01T06:00:00",
          "1900-01-01T06:15:00",
          "1900-01-01T06:30:00",
          "1900-01-01T06:45:00",
          "1900-01-01T07:00:00",
          "1900-01-01T07:15:00",
          "1900-01-01T07:30:00",
          "1900-01-01T07:45:00",
          "1900-01-01T08:00:00",
          "1900-01-01T08:15:00",
          "1900-01-01T08:30:00"
         ],
         "hovertemplate": "routine=SLEEP<br>start_at=%{base}<br>end_at=%{x}<br>user_id=%{y}<extra></extra>",
         "legendgroup": "SLEEP",
         "marker": {
          "color": "#EF553B",
          "pattern": {
           "shape": ""
          }
         },
         "name": "SLEEP",
         "offsetgroup": "SLEEP",
         "orientation": "h",
         "showlegend": false,
         "textposition": "auto",
         "type": "bar",
         "x": [
          900000,
          900000,
          900000,
          900000,
          900000,
          900000,
          900000,
          900000,
          900000,
          900000,
          900000,
          900000,
          900000,
          900000,
          900000,
          900000,
          900000,
          900000,
          900000,
          900000,
          900000,
          900000,
          900000,
          900000
         ],
         "xaxis": "x5",
         "y": [
          "P3029",
          "P3029",
          "P3029",
          "P3029",
          "P3029",
          "P3029",
          "P3029",
          "P3029",
          "P3029",
          "P3029",
          "P3029",
          "P3029",
          "P3029",
          "P3029",
          "P3029",
          "P3029",
          "P3029",
          "P3029",
          "P3029",
          "P3029",
          "P3029",
          "P3029",
          "P3029",
          "P3029"
         ],
         "yaxis": "y5"
        },
        {
         "alignmentgroup": "True",
         "base": [
          "1900-01-01T19:00:00"
         ],
         "hovertemplate": "routine=MEAL<br>start_at=%{base}<br>end_at=%{x}<br>user_id=%{y}<extra></extra>",
         "legendgroup": "MEAL",
         "marker": {
          "color": "#00cc96",
          "pattern": {
           "shape": ""
          }
         },
         "name": "MEAL",
         "offsetgroup": "MEAL",
         "orientation": "h",
         "showlegend": false,
         "textposition": "auto",
         "type": "bar",
         "x": [
          900000
         ],
         "xaxis": "x5",
         "y": [
          "P3029"
         ],
         "yaxis": "y5"
        },
        {
         "alignmentgroup": "True",
         "base": [
          "1900-01-01T03:45:00",
          "1900-01-01T04:00:00",
          "1900-01-01T04:15:00",
          "1900-01-01T04:30:00",
          "1900-01-01T04:45:00",
          "1900-01-01T05:00:00",
          "1900-01-01T05:15:00",
          "1900-01-01T05:30:00",
          "1900-01-01T05:45:00",
          "1900-01-01T06:00:00",
          "1900-01-01T06:15:00",
          "1900-01-01T06:30:00",
          "1900-01-01T06:45:00",
          "1900-01-01T07:00:00",
          "1900-01-01T07:15:00",
          "1900-01-01T07:30:00",
          "1900-01-01T07:45:00",
          "1900-01-01T08:00:00",
          "1900-01-01T08:15:00",
          "1900-01-01T08:30:00",
          "1900-01-01T08:45:00",
          "1900-01-01T09:00:00"
         ],
         "hovertemplate": "routine=SLEEP<br>start_at=%{base}<br>end_at=%{x}<br>user_id=%{y}<extra></extra>",
         "legendgroup": "SLEEP",
         "marker": {
          "color": "#636efa",
          "pattern": {
           "shape": ""
          }
         },
         "name": "SLEEP",
         "offsetgroup": "SLEEP",
         "orientation": "h",
         "showlegend": false,
         "textposition": "auto",
         "type": "bar",
         "x": [
          900000,
          900000,
          900000,
          900000,
          900000,
          900000,
          900000,
          900000,
          900000,
          900000,
          900000,
          900000,
          900000,
          900000,
          900000,
          900000,
          900000,
          900000,
          900000,
          900000,
          900000,
          900000
         ],
         "xaxis": "x6",
         "y": [
          "P3029",
          "P3029",
          "P3029",
          "P3029",
          "P3029",
          "P3029",
          "P3029",
          "P3029",
          "P3029",
          "P3029",
          "P3029",
          "P3029",
          "P3029",
          "P3029",
          "P3029",
          "P3029",
          "P3029",
          "P3029",
          "P3029",
          "P3029",
          "P3029",
          "P3029"
         ],
         "yaxis": "y6"
        },
        {
         "alignmentgroup": "True",
         "base": [
          "1900-01-01T12:00:00",
          "1900-01-01T12:30:00"
         ],
         "hovertemplate": "routine=MEAL<br>start_at=%{base}<br>end_at=%{x}<br>user_id=%{y}<extra></extra>",
         "legendgroup": "MEAL",
         "marker": {
          "color": "#EF553B",
          "pattern": {
           "shape": ""
          }
         },
         "name": "MEAL",
         "offsetgroup": "MEAL",
         "orientation": "h",
         "showlegend": false,
         "textposition": "auto",
         "type": "bar",
         "x": [
          900000,
          900000
         ],
         "xaxis": "x6",
         "y": [
          "P3029",
          "P3029"
         ],
         "yaxis": "y6"
        },
        {
         "alignmentgroup": "True",
         "base": [
          "1900-01-01T03:00:00",
          "1900-01-01T03:15:00",
          "1900-01-01T03:30:00",
          "1900-01-01T03:45:00",
          "1900-01-01T04:00:00",
          "1900-01-01T04:15:00",
          "1900-01-01T04:30:00",
          "1900-01-01T04:45:00",
          "1900-01-01T05:00:00",
          "1900-01-01T05:15:00",
          "1900-01-01T05:30:00",
          "1900-01-01T05:45:00",
          "1900-01-01T06:00:00",
          "1900-01-01T06:15:00",
          "1900-01-01T06:30:00",
          "1900-01-01T06:45:00",
          "1900-01-01T07:00:00",
          "1900-01-01T07:15:00"
         ],
         "hovertemplate": "routine=SLEEP<br>start_at=%{base}<br>end_at=%{x}<br>user_id=%{y}<extra></extra>",
         "legendgroup": "SLEEP",
         "marker": {
          "color": "#636efa",
          "pattern": {
           "shape": ""
          }
         },
         "name": "SLEEP",
         "offsetgroup": "SLEEP",
         "orientation": "h",
         "showlegend": false,
         "textposition": "auto",
         "type": "bar",
         "x": [
          900000,
          900000,
          900000,
          900000,
          900000,
          900000,
          900000,
          900000,
          900000,
          900000,
          900000,
          900000,
          900000,
          900000,
          900000,
          900000,
          900000,
          900000
         ],
         "xaxis": "x7",
         "y": [
          "P3029",
          "P3029",
          "P3029",
          "P3029",
          "P3029",
          "P3029",
          "P3029",
          "P3029",
          "P3029",
          "P3029",
          "P3029",
          "P3029",
          "P3029",
          "P3029",
          "P3029",
          "P3029",
          "P3029",
          "P3029"
         ],
         "yaxis": "y7"
        }
       ],
       "layout": {
        "height": 600,
        "template": {
         "data": {
          "bar": [
           {
            "error_x": {
             "color": "#2a3f5f"
            },
            "error_y": {
             "color": "#2a3f5f"
            },
            "marker": {
             "line": {
              "color": "#E5ECF6",
              "width": 0.5
             },
             "pattern": {
              "fillmode": "overlay",
              "size": 10,
              "solidity": 0.2
             }
            },
            "type": "bar"
           }
          ],
          "barpolar": [
           {
            "marker": {
             "line": {
              "color": "#E5ECF6",
              "width": 0.5
             },
             "pattern": {
              "fillmode": "overlay",
              "size": 10,
              "solidity": 0.2
             }
            },
            "type": "barpolar"
           }
          ],
          "carpet": [
           {
            "aaxis": {
             "endlinecolor": "#2a3f5f",
             "gridcolor": "white",
             "linecolor": "white",
             "minorgridcolor": "white",
             "startlinecolor": "#2a3f5f"
            },
            "baxis": {
             "endlinecolor": "#2a3f5f",
             "gridcolor": "white",
             "linecolor": "white",
             "minorgridcolor": "white",
             "startlinecolor": "#2a3f5f"
            },
            "type": "carpet"
           }
          ],
          "choropleth": [
           {
            "colorbar": {
             "outlinewidth": 0,
             "ticks": ""
            },
            "type": "choropleth"
           }
          ],
          "contour": [
           {
            "colorbar": {
             "outlinewidth": 0,
             "ticks": ""
            },
            "colorscale": [
             [
              0,
              "#0d0887"
             ],
             [
              0.1111111111111111,
              "#46039f"
             ],
             [
              0.2222222222222222,
              "#7201a8"
             ],
             [
              0.3333333333333333,
              "#9c179e"
             ],
             [
              0.4444444444444444,
              "#bd3786"
             ],
             [
              0.5555555555555556,
              "#d8576b"
             ],
             [
              0.6666666666666666,
              "#ed7953"
             ],
             [
              0.7777777777777778,
              "#fb9f3a"
             ],
             [
              0.8888888888888888,
              "#fdca26"
             ],
             [
              1,
              "#f0f921"
             ]
            ],
            "type": "contour"
           }
          ],
          "contourcarpet": [
           {
            "colorbar": {
             "outlinewidth": 0,
             "ticks": ""
            },
            "type": "contourcarpet"
           }
          ],
          "heatmap": [
           {
            "colorbar": {
             "outlinewidth": 0,
             "ticks": ""
            },
            "colorscale": [
             [
              0,
              "#0d0887"
             ],
             [
              0.1111111111111111,
              "#46039f"
             ],
             [
              0.2222222222222222,
              "#7201a8"
             ],
             [
              0.3333333333333333,
              "#9c179e"
             ],
             [
              0.4444444444444444,
              "#bd3786"
             ],
             [
              0.5555555555555556,
              "#d8576b"
             ],
             [
              0.6666666666666666,
              "#ed7953"
             ],
             [
              0.7777777777777778,
              "#fb9f3a"
             ],
             [
              0.8888888888888888,
              "#fdca26"
             ],
             [
              1,
              "#f0f921"
             ]
            ],
            "type": "heatmap"
           }
          ],
          "heatmapgl": [
           {
            "colorbar": {
             "outlinewidth": 0,
             "ticks": ""
            },
            "colorscale": [
             [
              0,
              "#0d0887"
             ],
             [
              0.1111111111111111,
              "#46039f"
             ],
             [
              0.2222222222222222,
              "#7201a8"
             ],
             [
              0.3333333333333333,
              "#9c179e"
             ],
             [
              0.4444444444444444,
              "#bd3786"
             ],
             [
              0.5555555555555556,
              "#d8576b"
             ],
             [
              0.6666666666666666,
              "#ed7953"
             ],
             [
              0.7777777777777778,
              "#fb9f3a"
             ],
             [
              0.8888888888888888,
              "#fdca26"
             ],
             [
              1,
              "#f0f921"
             ]
            ],
            "type": "heatmapgl"
           }
          ],
          "histogram": [
           {
            "marker": {
             "pattern": {
              "fillmode": "overlay",
              "size": 10,
              "solidity": 0.2
             }
            },
            "type": "histogram"
           }
          ],
          "histogram2d": [
           {
            "colorbar": {
             "outlinewidth": 0,
             "ticks": ""
            },
            "colorscale": [
             [
              0,
              "#0d0887"
             ],
             [
              0.1111111111111111,
              "#46039f"
             ],
             [
              0.2222222222222222,
              "#7201a8"
             ],
             [
              0.3333333333333333,
              "#9c179e"
             ],
             [
              0.4444444444444444,
              "#bd3786"
             ],
             [
              0.5555555555555556,
              "#d8576b"
             ],
             [
              0.6666666666666666,
              "#ed7953"
             ],
             [
              0.7777777777777778,
              "#fb9f3a"
             ],
             [
              0.8888888888888888,
              "#fdca26"
             ],
             [
              1,
              "#f0f921"
             ]
            ],
            "type": "histogram2d"
           }
          ],
          "histogram2dcontour": [
           {
            "colorbar": {
             "outlinewidth": 0,
             "ticks": ""
            },
            "colorscale": [
             [
              0,
              "#0d0887"
             ],
             [
              0.1111111111111111,
              "#46039f"
             ],
             [
              0.2222222222222222,
              "#7201a8"
             ],
             [
              0.3333333333333333,
              "#9c179e"
             ],
             [
              0.4444444444444444,
              "#bd3786"
             ],
             [
              0.5555555555555556,
              "#d8576b"
             ],
             [
              0.6666666666666666,
              "#ed7953"
             ],
             [
              0.7777777777777778,
              "#fb9f3a"
             ],
             [
              0.8888888888888888,
              "#fdca26"
             ],
             [
              1,
              "#f0f921"
             ]
            ],
            "type": "histogram2dcontour"
           }
          ],
          "mesh3d": [
           {
            "colorbar": {
             "outlinewidth": 0,
             "ticks": ""
            },
            "type": "mesh3d"
           }
          ],
          "parcoords": [
           {
            "line": {
             "colorbar": {
              "outlinewidth": 0,
              "ticks": ""
             }
            },
            "type": "parcoords"
           }
          ],
          "pie": [
           {
            "automargin": true,
            "type": "pie"
           }
          ],
          "scatter": [
           {
            "fillpattern": {
             "fillmode": "overlay",
             "size": 10,
             "solidity": 0.2
            },
            "type": "scatter"
           }
          ],
          "scatter3d": [
           {
            "line": {
             "colorbar": {
              "outlinewidth": 0,
              "ticks": ""
             }
            },
            "marker": {
             "colorbar": {
              "outlinewidth": 0,
              "ticks": ""
             }
            },
            "type": "scatter3d"
           }
          ],
          "scattercarpet": [
           {
            "marker": {
             "colorbar": {
              "outlinewidth": 0,
              "ticks": ""
             }
            },
            "type": "scattercarpet"
           }
          ],
          "scattergeo": [
           {
            "marker": {
             "colorbar": {
              "outlinewidth": 0,
              "ticks": ""
             }
            },
            "type": "scattergeo"
           }
          ],
          "scattergl": [
           {
            "marker": {
             "colorbar": {
              "outlinewidth": 0,
              "ticks": ""
             }
            },
            "type": "scattergl"
           }
          ],
          "scattermapbox": [
           {
            "marker": {
             "colorbar": {
              "outlinewidth": 0,
              "ticks": ""
             }
            },
            "type": "scattermapbox"
           }
          ],
          "scatterpolar": [
           {
            "marker": {
             "colorbar": {
              "outlinewidth": 0,
              "ticks": ""
             }
            },
            "type": "scatterpolar"
           }
          ],
          "scatterpolargl": [
           {
            "marker": {
             "colorbar": {
              "outlinewidth": 0,
              "ticks": ""
             }
            },
            "type": "scatterpolargl"
           }
          ],
          "scatterternary": [
           {
            "marker": {
             "colorbar": {
              "outlinewidth": 0,
              "ticks": ""
             }
            },
            "type": "scatterternary"
           }
          ],
          "surface": [
           {
            "colorbar": {
             "outlinewidth": 0,
             "ticks": ""
            },
            "colorscale": [
             [
              0,
              "#0d0887"
             ],
             [
              0.1111111111111111,
              "#46039f"
             ],
             [
              0.2222222222222222,
              "#7201a8"
             ],
             [
              0.3333333333333333,
              "#9c179e"
             ],
             [
              0.4444444444444444,
              "#bd3786"
             ],
             [
              0.5555555555555556,
              "#d8576b"
             ],
             [
              0.6666666666666666,
              "#ed7953"
             ],
             [
              0.7777777777777778,
              "#fb9f3a"
             ],
             [
              0.8888888888888888,
              "#fdca26"
             ],
             [
              1,
              "#f0f921"
             ]
            ],
            "type": "surface"
           }
          ],
          "table": [
           {
            "cells": {
             "fill": {
              "color": "#EBF0F8"
             },
             "line": {
              "color": "white"
             }
            },
            "header": {
             "fill": {
              "color": "#C8D4E3"
             },
             "line": {
              "color": "white"
             }
            },
            "type": "table"
           }
          ]
         },
         "layout": {
          "annotationdefaults": {
           "arrowcolor": "#2a3f5f",
           "arrowhead": 0,
           "arrowwidth": 1
          },
          "autotypenumbers": "strict",
          "coloraxis": {
           "colorbar": {
            "outlinewidth": 0,
            "ticks": ""
           }
          },
          "colorscale": {
           "diverging": [
            [
             0,
             "#8e0152"
            ],
            [
             0.1,
             "#c51b7d"
            ],
            [
             0.2,
             "#de77ae"
            ],
            [
             0.3,
             "#f1b6da"
            ],
            [
             0.4,
             "#fde0ef"
            ],
            [
             0.5,
             "#f7f7f7"
            ],
            [
             0.6,
             "#e6f5d0"
            ],
            [
             0.7,
             "#b8e186"
            ],
            [
             0.8,
             "#7fbc41"
            ],
            [
             0.9,
             "#4d9221"
            ],
            [
             1,
             "#276419"
            ]
           ],
           "sequential": [
            [
             0,
             "#0d0887"
            ],
            [
             0.1111111111111111,
             "#46039f"
            ],
            [
             0.2222222222222222,
             "#7201a8"
            ],
            [
             0.3333333333333333,
             "#9c179e"
            ],
            [
             0.4444444444444444,
             "#bd3786"
            ],
            [
             0.5555555555555556,
             "#d8576b"
            ],
            [
             0.6666666666666666,
             "#ed7953"
            ],
            [
             0.7777777777777778,
             "#fb9f3a"
            ],
            [
             0.8888888888888888,
             "#fdca26"
            ],
            [
             1,
             "#f0f921"
            ]
           ],
           "sequentialminus": [
            [
             0,
             "#0d0887"
            ],
            [
             0.1111111111111111,
             "#46039f"
            ],
            [
             0.2222222222222222,
             "#7201a8"
            ],
            [
             0.3333333333333333,
             "#9c179e"
            ],
            [
             0.4444444444444444,
             "#bd3786"
            ],
            [
             0.5555555555555556,
             "#d8576b"
            ],
            [
             0.6666666666666666,
             "#ed7953"
            ],
            [
             0.7777777777777778,
             "#fb9f3a"
            ],
            [
             0.8888888888888888,
             "#fdca26"
            ],
            [
             1,
             "#f0f921"
            ]
           ]
          },
          "colorway": [
           "#636efa",
           "#EF553B",
           "#00cc96",
           "#ab63fa",
           "#FFA15A",
           "#19d3f3",
           "#FF6692",
           "#B6E880",
           "#FF97FF",
           "#FECB52"
          ],
          "font": {
           "color": "#2a3f5f"
          },
          "geo": {
           "bgcolor": "white",
           "lakecolor": "white",
           "landcolor": "#E5ECF6",
           "showlakes": true,
           "showland": true,
           "subunitcolor": "white"
          },
          "hoverlabel": {
           "align": "left"
          },
          "hovermode": "closest",
          "mapbox": {
           "style": "light"
          },
          "paper_bgcolor": "white",
          "plot_bgcolor": "#E5ECF6",
          "polar": {
           "angularaxis": {
            "gridcolor": "white",
            "linecolor": "white",
            "ticks": ""
           },
           "bgcolor": "#E5ECF6",
           "radialaxis": {
            "gridcolor": "white",
            "linecolor": "white",
            "ticks": ""
           }
          },
          "scene": {
           "xaxis": {
            "backgroundcolor": "#E5ECF6",
            "gridcolor": "white",
            "gridwidth": 2,
            "linecolor": "white",
            "showbackground": true,
            "ticks": "",
            "zerolinecolor": "white"
           },
           "yaxis": {
            "backgroundcolor": "#E5ECF6",
            "gridcolor": "white",
            "gridwidth": 2,
            "linecolor": "white",
            "showbackground": true,
            "ticks": "",
            "zerolinecolor": "white"
           },
           "zaxis": {
            "backgroundcolor": "#E5ECF6",
            "gridcolor": "white",
            "gridwidth": 2,
            "linecolor": "white",
            "showbackground": true,
            "ticks": "",
            "zerolinecolor": "white"
           }
          },
          "shapedefaults": {
           "line": {
            "color": "#2a3f5f"
           }
          },
          "ternary": {
           "aaxis": {
            "gridcolor": "white",
            "linecolor": "white",
            "ticks": ""
           },
           "baxis": {
            "gridcolor": "white",
            "linecolor": "white",
            "ticks": ""
           },
           "bgcolor": "#E5ECF6",
           "caxis": {
            "gridcolor": "white",
            "linecolor": "white",
            "ticks": ""
           }
          },
          "title": {
           "x": 0.05
          },
          "xaxis": {
           "automargin": true,
           "gridcolor": "white",
           "linecolor": "white",
           "ticks": "",
           "title": {
            "standoff": 15
           },
           "zerolinecolor": "white",
           "zerolinewidth": 2
          },
          "yaxis": {
           "automargin": true,
           "gridcolor": "white",
           "linecolor": "white",
           "ticks": "",
           "title": {
            "standoff": 15
           },
           "zerolinecolor": "white",
           "zerolinewidth": 2
          }
         }
        },
        "title": {
         "text": "Weekly Routine"
        },
        "width": 700,
        "xaxis": {
         "anchor": "y",
         "domain": [
          0,
          1
         ],
         "matches": "x7",
         "showticklabels": false,
         "tickformat": "%H:%M",
         "type": "date"
        },
        "xaxis2": {
         "anchor": "y2",
         "domain": [
          0,
          1
         ],
         "matches": "x7",
         "showticklabels": false,
         "tickformat": "%H:%M",
         "type": "date"
        },
        "xaxis3": {
         "anchor": "y3",
         "domain": [
          0,
          1
         ],
         "matches": "x7",
         "showticklabels": false,
         "tickformat": "%H:%M",
         "type": "date"
        },
        "xaxis4": {
         "anchor": "y4",
         "domain": [
          0,
          1
         ],
         "matches": "x7",
         "showticklabels": false,
         "tickformat": "%H:%M",
         "type": "date"
        },
        "xaxis5": {
         "anchor": "y5",
         "domain": [
          0,
          1
         ],
         "matches": "x7",
         "showticklabels": false,
         "tickformat": "%H:%M",
         "type": "date"
        },
        "xaxis6": {
         "anchor": "y6",
         "domain": [
          0,
          1
         ],
         "matches": "x7",
         "showticklabels": false,
         "tickformat": "%H:%M",
         "type": "date"
        },
        "xaxis7": {
         "anchor": "y7",
         "domain": [
          0,
          1
         ],
         "tickformat": "%H:%M",
         "type": "date"
        },
        "yaxis": {
         "anchor": "x",
         "domain": [
          0.8742857142857142,
          1
         ],
         "title": {
          "text": "Mon"
         }
        },
        "yaxis2": {
         "anchor": "x2",
         "domain": [
          0.7285714285714285,
          0.8542857142857143
         ],
         "title": {
          "text": "Tue"
         }
        },
        "yaxis3": {
         "anchor": "x3",
         "domain": [
          0.5828571428571429,
          0.7085714285714286
         ],
         "title": {
          "text": "Wed"
         }
        },
        "yaxis4": {
         "anchor": "x4",
         "domain": [
          0.43714285714285717,
          0.562857142857143
         ],
         "title": {
          "text": "Thr"
         }
        },
        "yaxis5": {
         "anchor": "x5",
         "domain": [
          0.2914285714285714,
          0.41714285714285715
         ],
         "title": {
          "text": "Fri"
         }
        },
        "yaxis6": {
         "anchor": "x6",
         "domain": [
          0.1457142857142857,
          0.27142857142857146
         ],
         "title": {
          "text": "Sat"
         }
        },
        "yaxis7": {
         "anchor": "x7",
         "domain": [
          0,
          0.12571428571428572
         ],
         "title": {
          "text": "Sun"
         }
        }
       }
      }
     },
     "metadata": {},
     "output_type": "display_data"
    }
   ],
   "source": [
    "import plotly.graph_objects as go\n",
    "from plotly.subplots import make_subplots\n",
    "\n",
    "weekly_fig_df = weekly_df[weekly_df['routine'] != 'INDOOR']\n",
    "weekly_fig_df['start_at'] = pd.to_datetime(weekly_df['start_at'], format='%H:%M:%S')\n",
    "weekly_fig_df['end_at'] = weekly_fig_df['start_at'] + pd.Timedelta(minutes=15)\n",
    "\n",
    "fig = make_subplots(rows=7, cols=1, shared_xaxes=True, vertical_spacing=0.02)\n",
    "timeline_figs = []\n",
    "for i in range(7):\n",
    "    timeline_figs.append(\n",
    "        px.timeline(weekly_fig_df[weekly_fig_df[\"weekday\"] == i], x_start=\"start_at\", x_end=\"end_at\", y=\"user_id\", color=\"routine\")\n",
    "    )\n",
    "\n",
    "for i in range(7):\n",
    "    f = timeline_figs[i]\n",
    "    show_legend = True if i == 0 else False\n",
    "    for j in range(len(f.data)):\n",
    "        fig.add_trace(go.Bar(f.data[j], showlegend=show_legend), row=(i + 1), col=1)\n",
    "\n",
    "fig.update_yaxes(title=\"Mon\", row=1, col=1)\n",
    "fig.update_yaxes(title=\"Tue\", row=2, col=1)\n",
    "fig.update_yaxes(title=\"Wed\", row=3, col=1)\n",
    "fig.update_yaxes(title=\"Thr\", row=4, col=1)\n",
    "fig.update_yaxes(title=\"Fri\", row=5, col=1)\n",
    "fig.update_yaxes(title=\"Sat\", row=6, col=1)\n",
    "fig.update_yaxes(title=\"Sun\", row=7, col=1)\n",
    "\n",
    "fig.update_xaxes(tickformat=\"%H:%M\")\n",
    "fig.update_layout(title=\"Weekly Routine\")\n",
    "\n",
    "fig.update_xaxes(type=\"date\")\n",
    "\n",
    "fig.update_layout(width=700, height=600)"
   ]
  },
  {
   "attachments": {},
   "cell_type": "markdown",
   "metadata": {},
   "source": [
    "### Export weekly routine"
   ]
  },
  {
   "cell_type": "code",
   "execution_count": 23,
   "metadata": {},
   "outputs": [],
   "source": [
    "weekly_df.to_csv(f'../csv/routines/{USER_ID}-weekly.csv', index=False)"
   ]
  }
 ],
 "metadata": {
  "kernelspec": {
   "display_name": "Python 3",
   "language": "python",
   "name": "python3"
  },
  "language_info": {
   "codemirror_mode": {
    "name": "ipython",
    "version": 2
   },
   "file_extension": ".py",
   "mimetype": "text/x-python",
   "name": "python",
   "nbconvert_exporter": "python",
   "pygments_lexer": "ipython2",
   "version": "2.7.6"
  }
 },
 "nbformat": 4,
 "nbformat_minor": 0
}
