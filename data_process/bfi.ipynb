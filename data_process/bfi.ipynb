{
 "cells": [
  {
   "cell_type": "markdown",
   "source": [
    "# Data process for BFI data\n",
    "\n",
    "This is guide to process BFI data."
   ],
   "metadata": {
    "collapsed": false
   }
  },
  {
   "cell_type": "code",
   "execution_count": 1,
   "outputs": [],
   "source": [
    "# Please change this variable to the location of user_info.csv.\n",
    "USER_INFO_FILE = '/Users/osjun/Downloads/user_info.csv'"
   ],
   "metadata": {
    "collapsed": false
   }
  },
  {
   "cell_type": "code",
   "execution_count": 27,
   "outputs": [
    {
     "data": {
      "text/plain": "  user_id  openness  conscientiousness  neuroticism  extraversion   \n0   P3001        12                 11            6            10  \\\n1   P3002        15                 10           10             9   \n2   P3003        13                  8           10             7   \n3   P3005         9                 13            7             8   \n4   P3007        10                 14           13             7   \n\n   agreeableness  \n0             11  \n1             10  \n2              6  \n3             12  \n4             13  ",
      "text/html": "<div>\n<style scoped>\n    .dataframe tbody tr th:only-of-type {\n        vertical-align: middle;\n    }\n\n    .dataframe tbody tr th {\n        vertical-align: top;\n    }\n\n    .dataframe thead th {\n        text-align: right;\n    }\n</style>\n<table border=\"1\" class=\"dataframe\">\n  <thead>\n    <tr style=\"text-align: right;\">\n      <th></th>\n      <th>user_id</th>\n      <th>openness</th>\n      <th>conscientiousness</th>\n      <th>neuroticism</th>\n      <th>extraversion</th>\n      <th>agreeableness</th>\n    </tr>\n  </thead>\n  <tbody>\n    <tr>\n      <th>0</th>\n      <td>P3001</td>\n      <td>12</td>\n      <td>11</td>\n      <td>6</td>\n      <td>10</td>\n      <td>11</td>\n    </tr>\n    <tr>\n      <th>1</th>\n      <td>P3002</td>\n      <td>15</td>\n      <td>10</td>\n      <td>10</td>\n      <td>9</td>\n      <td>10</td>\n    </tr>\n    <tr>\n      <th>2</th>\n      <td>P3003</td>\n      <td>13</td>\n      <td>8</td>\n      <td>10</td>\n      <td>7</td>\n      <td>6</td>\n    </tr>\n    <tr>\n      <th>3</th>\n      <td>P3005</td>\n      <td>9</td>\n      <td>13</td>\n      <td>7</td>\n      <td>8</td>\n      <td>12</td>\n    </tr>\n    <tr>\n      <th>4</th>\n      <td>P3007</td>\n      <td>10</td>\n      <td>14</td>\n      <td>13</td>\n      <td>7</td>\n      <td>13</td>\n    </tr>\n  </tbody>\n</table>\n</div>"
     },
     "execution_count": 27,
     "metadata": {},
     "output_type": "execute_result"
    }
   ],
   "source": [
    "import pandas as pd\n",
    "\n",
    "# FYI. user_info.csv in K-Emophone Dataset is strange. (cannot encode with utf-8)\n",
    "# Therefore, please use user_info.xlsx and download as csv.\n",
    "user_df = pd.read_csv(USER_INFO_FILE, encoding='utf-8')\n",
    "user_df = user_df[['UID', '개방성 (Openness)', '성실성 (Conscientiousness)', '신경증 (Neuroticism)', '외향성 (Extraversion)', '친화성 (Agreeableness)']]\n",
    "user_df = user_df.rename(\n",
    "    columns={\n",
    "        'UID': 'user_id',\n",
    "        '개방성 (Openness)': 'openness',\n",
    "        '성실성 (Conscientiousness)': 'conscientiousness',\n",
    "        '신경증 (Neuroticism)': 'neuroticism',\n",
    "        '외향성 (Extraversion)': 'extraversion',\n",
    "        '친화성 (Agreeableness)': 'agreeableness',\n",
    "    }\n",
    ")\n",
    "user_df['user_id'] = user_df.apply(lambda r: f\"P{r['user_id']:04d}\", axis=1)\n",
    "user_df.head()"
   ],
   "metadata": {
    "collapsed": false
   }
  },
  {
   "cell_type": "markdown",
   "source": [
    "## Export to csv"
   ],
   "metadata": {
    "collapsed": false
   }
  },
  {
   "cell_type": "code",
   "execution_count": 25,
   "outputs": [],
   "source": [
    "user_df.to_csv(f'../csv/bfi.csv', index=False)"
   ],
   "metadata": {
    "collapsed": false
   }
  },
  {
   "cell_type": "code",
   "execution_count": null,
   "outputs": [],
   "source": [],
   "metadata": {
    "collapsed": false
   }
  }
 ],
 "metadata": {
  "kernelspec": {
   "display_name": "Python 3",
   "language": "python",
   "name": "python3"
  },
  "language_info": {
   "codemirror_mode": {
    "name": "ipython",
    "version": 2
   },
   "file_extension": ".py",
   "mimetype": "text/x-python",
   "name": "python",
   "nbconvert_exporter": "python",
   "pygments_lexer": "ipython2",
   "version": "2.7.6"
  }
 },
 "nbformat": 4,
 "nbformat_minor": 0
}
