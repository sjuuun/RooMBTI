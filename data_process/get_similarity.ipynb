{
 "cells": [
  {
   "attachments": {},
   "cell_type": "markdown",
   "metadata": {},
   "source": [
    "This file is to get similarity among users. We set the user 'P3029' as 'Me' and the other as roommates. The similarity we were trying to obtain is calculated by comparing users' sleep time."
   ]
  },
  {
   "cell_type": "code",
   "execution_count": 115,
   "metadata": {},
   "outputs": [],
   "source": [
    "import pandas as pd\n",
    "import os\n",
    "from datetime import datetime, timedelta\n",
    "import numpy as np\n",
    "\n",
    "PATH = os.getcwd()\n",
    "PATH = \"../csv/routines_raw/sleep/\"\n",
    "file_list = os.listdir(PATH)"
   ]
  },
  {
   "cell_type": "code",
   "execution_count": 116,
   "metadata": {},
   "outputs": [],
   "source": [
    "user_data = pd.read_csv(PATH + \"P3029-sleep.csv\")\n",
    "roommate_data = dict()\n",
    "for file in file_list:\n",
    "    if file == \"P3029-sleep.csv\":\n",
    "        continue\n",
    "    roommate_data[file.split('.')[0]] = pd.read_csv(PATH + file)"
   ]
  },
  {
   "cell_type": "code",
   "execution_count": 117,
   "metadata": {},
   "outputs": [],
   "source": [
    "def get_similarity(roommate, user=user_data):\n",
    "    user_start_at = pd.to_datetime(user['start_at'])\n",
    "    user_end_at = pd.to_datetime(user['end_at'])\n",
    "    roommate_start_at = pd.to_datetime(roommate['start_at'])\n",
    "    roommate_end_at = pd.to_datetime(roommate['end_at'])\n",
    "    \n",
    "    time = pd.concat([user_start_at, user_end_at, roommate_start_at, roommate_end_at], axis=1)\n",
    "    time.dropna(axis=0)\n",
    "    time.columns = ['user_start_at', 'user_end_at', 'roommate_start_at', 'roommate_end_at']\n",
    "\n",
    "    time['union_start_at'] = time.apply(lambda x: x.user_start_at if x.user_start_at < x.roommate_start_at else x.roommate_start_at, axis=1)\n",
    "    time['union_end_at'] = time.apply(lambda x: x.user_end_at if x.user_end_at > x.roommate_end_at else x.roommate_end_at, axis=1)\n",
    "    time['intersect_start_at'] = time.apply(lambda x: x.user_start_at if x.user_start_at > x.roommate_start_at else x.roommate_start_at, axis=1)\n",
    "    time['intersect_end_at'] = time.apply(lambda x: x.user_end_at if x.user_end_at < x.roommate_end_at else x.roommate_end_at, axis=1)\n",
    "    \n",
    "    # print(f\"intersect: {(time['intersect_end_at'] - time['intersect_start_at']).sum()}\")\n",
    "    # print(f\"union: {(time['union_end_at'] - time['union_start_at']).sum()}\")\n",
    "    similarity = abs(round((time['intersect_end_at'] - time['intersect_start_at']).sum()/(time['union_end_at'] - time['union_start_at']).sum(), 2))\n",
    "    # print(f\"similarity = {similarity}\")\n",
    "    return similarity"
   ]
  },
  {
   "cell_type": "code",
   "execution_count": 118,
   "metadata": {},
   "outputs": [
    {
     "data": {
      "text/plain": [
       "0.54"
      ]
     },
     "execution_count": 118,
     "metadata": {},
     "output_type": "execute_result"
    }
   ],
   "source": [
    "get_similarity(user_data, roommate_data[\"P3030-sleep\"])"
   ]
  },
  {
   "cell_type": "code",
   "execution_count": 119,
   "metadata": {},
   "outputs": [
    {
     "data": {
      "text/html": [
       "<div>\n",
       "<style scoped>\n",
       "    .dataframe tbody tr th:only-of-type {\n",
       "        vertical-align: middle;\n",
       "    }\n",
       "\n",
       "    .dataframe tbody tr th {\n",
       "        vertical-align: top;\n",
       "    }\n",
       "\n",
       "    .dataframe thead th {\n",
       "        text-align: right;\n",
       "    }\n",
       "</style>\n",
       "<table border=\"1\" class=\"dataframe\">\n",
       "  <thead>\n",
       "    <tr style=\"text-align: right;\">\n",
       "      <th></th>\n",
       "      <th>user_id</th>\n",
       "      <th>similarity</th>\n",
       "    </tr>\n",
       "  </thead>\n",
       "  <tbody>\n",
       "    <tr>\n",
       "      <th>0</th>\n",
       "      <td>P3018</td>\n",
       "      <td>0.68</td>\n",
       "    </tr>\n",
       "    <tr>\n",
       "      <th>1</th>\n",
       "      <td>P3019</td>\n",
       "      <td>0.29</td>\n",
       "    </tr>\n",
       "    <tr>\n",
       "      <th>2</th>\n",
       "      <td>P3021</td>\n",
       "      <td>0.79</td>\n",
       "    </tr>\n",
       "    <tr>\n",
       "      <th>3</th>\n",
       "      <td>P3022</td>\n",
       "      <td>0.51</td>\n",
       "    </tr>\n",
       "    <tr>\n",
       "      <th>4</th>\n",
       "      <td>P3023</td>\n",
       "      <td>0.82</td>\n",
       "    </tr>\n",
       "    <tr>\n",
       "      <th>5</th>\n",
       "      <td>P3024</td>\n",
       "      <td>0.34</td>\n",
       "    </tr>\n",
       "    <tr>\n",
       "      <th>6</th>\n",
       "      <td>P3025</td>\n",
       "      <td>0.46</td>\n",
       "    </tr>\n",
       "    <tr>\n",
       "      <th>7</th>\n",
       "      <td>P3027</td>\n",
       "      <td>0.72</td>\n",
       "    </tr>\n",
       "    <tr>\n",
       "      <th>8</th>\n",
       "      <td>P3028</td>\n",
       "      <td>0.70</td>\n",
       "    </tr>\n",
       "    <tr>\n",
       "      <th>9</th>\n",
       "      <td>P3030</td>\n",
       "      <td>0.54</td>\n",
       "    </tr>\n",
       "  </tbody>\n",
       "</table>\n",
       "</div>"
      ],
      "text/plain": [
       "  user_id  similarity\n",
       "0   P3018        0.68\n",
       "1   P3019        0.29\n",
       "2   P3021        0.79\n",
       "3   P3022        0.51\n",
       "4   P3023        0.82\n",
       "5   P3024        0.34\n",
       "6   P3025        0.46\n",
       "7   P3027        0.72\n",
       "8   P3028        0.70\n",
       "9   P3030        0.54"
      ]
     },
     "execution_count": 119,
     "metadata": {},
     "output_type": "execute_result"
    }
   ],
   "source": [
    "similarity_df = pd.DataFrame(columns={'user_id', 'similarity'})\n",
    "for (file_name, df) in roommate_data.items():\n",
    "    similarity = get_similarity(df)\n",
    "    similarity_df = similarity_df.append({'user_id': file_name.split('-')[0], 'similarity': similarity}, ignore_index=True)\n",
    "similarity_df"
   ]
  },
  {
   "cell_type": "code",
   "execution_count": 120,
   "metadata": {},
   "outputs": [],
   "source": [
    "similarity_df.to_csv(f'../csv/similarity.csv', index=False)"
   ]
  }
 ],
 "metadata": {
  "kernelspec": {
   "display_name": "Python 3",
   "language": "python",
   "name": "python3"
  },
  "language_info": {
   "codemirror_mode": {
    "name": "ipython",
    "version": 3
   },
   "file_extension": ".py",
   "mimetype": "text/x-python",
   "name": "python",
   "nbconvert_exporter": "python",
   "pygments_lexer": "ipython3",
   "version": "3.7.9"
  },
  "orig_nbformat": 4
 },
 "nbformat": 4,
 "nbformat_minor": 2
}
