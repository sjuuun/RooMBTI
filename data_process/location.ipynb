{
 "cells": [
  {
   "cell_type": "markdown",
   "metadata": {},
   "source": [
    "# Data Process for Location Data\n",
    "\n",
    "This is a guide to process location data.\n",
    "\n",
    "---\n",
    "\n",
    "Here, you can analyze location data from K-Emophone Dataset and derive routines from location data.\n",
    "Following is the goals of this Jupyter Notebook.\n",
    "\n",
    "- Concat location data into one file\n",
    "  If you unzip the K-Emophone Dataset, location data is distributed into several files. Therefore, we are going to merge them into one file.\n",
    "- Cluster by GPS coordinates\n",
    "  As we learned in Lab 9, we can cluster geographical data by GPS coordinates. By clustering, we can derive routines such as sleep, meal, or exercise.\n",
    "- Resample as 15 minutes\n",
    "  Original K-Emophone Dataset is too huge. Therefore, we are going to resample the timestamp as 15 minutes.\n",
    "- Analyze routine\n",
    "  Finally, we are going to aggregate location data to routine data, and we will use routine data in our visualization web page."
   ]
  },
  {
   "cell_type": "markdown",
   "metadata": {},
   "source": [
    "## Get data\n",
    "\n",
    "Assume that you already download the K-Emophone Dataset, and unzip it.\n",
    "For example, `*/P3041`, and there will be location data like `*/P3041/LocationEntity-*.csv`.\n",
    "\n",
    "Please change the `DATASET_DIRECTORY` as your local directory."
   ]
  },
  {
   "cell_type": "code",
   "execution_count": 2,
   "metadata": {},
   "outputs": [],
   "source": [
    "# Please use absolute path.\n",
    "# fyi. use `pwd` command for mac users.\n",
    "DATASET_DIRECTORY = '/Users/osjun/Downloads/P3029'\n",
    "USER_ID = 'P3029'"
   ]
  },
  {
   "cell_type": "code",
   "execution_count": 3,
   "metadata": {},
   "outputs": [
    {
     "data": {
      "text/plain": "       timestamp   longitude   latitude                         datetime\n0  1557123564025  127.112623  37.382442 2019-05-06 15:19:24.025000+09:00\n1  1557123572513  127.113192  37.379412 2019-05-06 15:19:32.513000+09:00\n2  1557123575989  127.112073  37.381695 2019-05-06 15:19:35.989000+09:00\n3  1557123576986  127.112142  37.381810 2019-05-06 15:19:36.986000+09:00\n4  1557123577996  127.112231  37.381929 2019-05-06 15:19:37.996000+09:00",
      "text/html": "<div>\n<style scoped>\n    .dataframe tbody tr th:only-of-type {\n        vertical-align: middle;\n    }\n\n    .dataframe tbody tr th {\n        vertical-align: top;\n    }\n\n    .dataframe thead th {\n        text-align: right;\n    }\n</style>\n<table border=\"1\" class=\"dataframe\">\n  <thead>\n    <tr style=\"text-align: right;\">\n      <th></th>\n      <th>timestamp</th>\n      <th>longitude</th>\n      <th>latitude</th>\n      <th>datetime</th>\n    </tr>\n  </thead>\n  <tbody>\n    <tr>\n      <th>0</th>\n      <td>1557123564025</td>\n      <td>127.112623</td>\n      <td>37.382442</td>\n      <td>2019-05-06 15:19:24.025000+09:00</td>\n    </tr>\n    <tr>\n      <th>1</th>\n      <td>1557123572513</td>\n      <td>127.113192</td>\n      <td>37.379412</td>\n      <td>2019-05-06 15:19:32.513000+09:00</td>\n    </tr>\n    <tr>\n      <th>2</th>\n      <td>1557123575989</td>\n      <td>127.112073</td>\n      <td>37.381695</td>\n      <td>2019-05-06 15:19:35.989000+09:00</td>\n    </tr>\n    <tr>\n      <th>3</th>\n      <td>1557123576986</td>\n      <td>127.112142</td>\n      <td>37.381810</td>\n      <td>2019-05-06 15:19:36.986000+09:00</td>\n    </tr>\n    <tr>\n      <th>4</th>\n      <td>1557123577996</td>\n      <td>127.112231</td>\n      <td>37.381929</td>\n      <td>2019-05-06 15:19:37.996000+09:00</td>\n    </tr>\n  </tbody>\n</table>\n</div>"
     },
     "execution_count": 3,
     "metadata": {},
     "output_type": "execute_result"
    }
   ],
   "source": [
    "import glob, os\n",
    "import pandas as pd\n",
    "\n",
    "location_files = glob.glob(os.path.join(DATASET_DIRECTORY, 'LocationEntity-*.csv'))\n",
    "\n",
    "location_df = pd.concat([pd.read_csv(f) for f in location_files])\n",
    "location_df['datetime'] = pd.to_datetime(location_df['timestamp'], utc=True, unit='ms')\n",
    "location_df['datetime'] = location_df.datetime.dt.tz_convert('Asia/Seoul')\n",
    "location_df = location_df[['timestamp', 'longitude', 'latitude', 'datetime']]\n",
    "location_df.head()"
   ]
  },
  {
   "cell_type": "code",
   "execution_count": 4,
   "metadata": {},
   "outputs": [
    {
     "name": "stdout",
     "output_type": "stream",
     "text": [
      "<class 'pandas.core.frame.DataFrame'>\n",
      "Index: 15303 entries, 0 to 288\n",
      "Data columns (total 4 columns):\n",
      " #   Column     Non-Null Count  Dtype                     \n",
      "---  ------     --------------  -----                     \n",
      " 0   timestamp  15303 non-null  int64                     \n",
      " 1   longitude  15303 non-null  float64                   \n",
      " 2   latitude   15303 non-null  float64                   \n",
      " 3   datetime   15303 non-null  datetime64[ns, Asia/Seoul]\n",
      "dtypes: datetime64[ns, Asia/Seoul](1), float64(2), int64(1)\n",
      "memory usage: 597.8 KB\n"
     ]
    }
   ],
   "source": [
    "location_df.info()"
   ]
  },
  {
   "cell_type": "markdown",
   "metadata": {},
   "source": [
    "## Clustering GPS Coordinates\n",
    "\n",
    "Clustering by GPS Coordinates, as we learned in Lab 9"
   ]
  },
  {
   "cell_type": "code",
   "execution_count": 5,
   "metadata": {},
   "outputs": [
    {
     "data": {
      "text/plain": "       timestamp   longitude   latitude                         datetime   \n0  1557123564025  127.112623  37.382442 2019-05-06 15:19:24.025000+09:00  \\\n1  1557123572513  127.113192  37.379412 2019-05-06 15:19:32.513000+09:00   \n2  1557123575989  127.112073  37.381695 2019-05-06 15:19:35.989000+09:00   \n3  1557123576986  127.112142   37.38181 2019-05-06 15:19:36.986000+09:00   \n4  1557123577996  127.112231  37.381929 2019-05-06 15:19:37.996000+09:00   \n\n  labels  \n0     -1  \n1     -1  \n2     -1  \n3     -1  \n4     -1  ",
      "text/html": "<div>\n<style scoped>\n    .dataframe tbody tr th:only-of-type {\n        vertical-align: middle;\n    }\n\n    .dataframe tbody tr th {\n        vertical-align: top;\n    }\n\n    .dataframe thead th {\n        text-align: right;\n    }\n</style>\n<table border=\"1\" class=\"dataframe\">\n  <thead>\n    <tr style=\"text-align: right;\">\n      <th></th>\n      <th>timestamp</th>\n      <th>longitude</th>\n      <th>latitude</th>\n      <th>datetime</th>\n      <th>labels</th>\n    </tr>\n  </thead>\n  <tbody>\n    <tr>\n      <th>0</th>\n      <td>1557123564025</td>\n      <td>127.112623</td>\n      <td>37.382442</td>\n      <td>2019-05-06 15:19:24.025000+09:00</td>\n      <td>-1</td>\n    </tr>\n    <tr>\n      <th>1</th>\n      <td>1557123572513</td>\n      <td>127.113192</td>\n      <td>37.379412</td>\n      <td>2019-05-06 15:19:32.513000+09:00</td>\n      <td>-1</td>\n    </tr>\n    <tr>\n      <th>2</th>\n      <td>1557123575989</td>\n      <td>127.112073</td>\n      <td>37.381695</td>\n      <td>2019-05-06 15:19:35.989000+09:00</td>\n      <td>-1</td>\n    </tr>\n    <tr>\n      <th>3</th>\n      <td>1557123576986</td>\n      <td>127.112142</td>\n      <td>37.38181</td>\n      <td>2019-05-06 15:19:36.986000+09:00</td>\n      <td>-1</td>\n    </tr>\n    <tr>\n      <th>4</th>\n      <td>1557123577996</td>\n      <td>127.112231</td>\n      <td>37.381929</td>\n      <td>2019-05-06 15:19:37.996000+09:00</td>\n      <td>-1</td>\n    </tr>\n  </tbody>\n</table>\n</div>"
     },
     "execution_count": 5,
     "metadata": {},
     "output_type": "execute_result"
    }
   ],
   "source": [
    "from sklearn.cluster import DBSCAN\n",
    "import numpy as np\n",
    "\n",
    "EPSILON_METRE = 50\n",
    "MIN_POINTS = 5\n",
    "R = 63710088\n",
    "\n",
    "cluster = DBSCAN(\n",
    "    #The maximum angle between two samples\n",
    "    eps=EPSILON_METRE / R,\n",
    "    #The number of samples in a neighborhood for a point to be considered as a core point.\n",
    "    min_samples=MIN_POINTS,\n",
    "    # IMPORTANT: only Ball Tree can handle haversine distance.\n",
    "    #The algorithm to compute pointwise distances and find nearest neighbors.\n",
    "    metric='haversine',\n",
    "    algorithm='ball_tree'\n",
    ")\n",
    "\n",
    "loc_degrees = location_df.loc[:, ['latitude', 'longitude']].to_numpy()  # Convert the DataFrame to a NumPy array.\n",
    "loc_radians = np.radians(loc_degrees)  # To use haversine distance, degree should be transformed into radians\n",
    "labels = cluster.fit_predict(loc_radians)\n",
    "\n",
    "cluster_df = pd.DataFrame(\n",
    "    np.column_stack([location_df.to_numpy(), labels]),\n",
    "    columns=['timestamp', 'longitude', 'latitude', 'datetime', 'labels']\n",
    ")\n",
    "\n",
    "cluster_df.head()"
   ]
  },
  {
   "cell_type": "markdown",
   "metadata": {},
   "source": [
    "## Resample by 15 minutes\n",
    "\n",
    "Resample by 15 minutes"
   ]
  },
  {
   "cell_type": "code",
   "execution_count": 6,
   "metadata": {},
   "outputs": [
    {
     "data": {
      "text/plain": "                   datetime      timestamp   longitude   latitude labels\n0 2019-04-30 09:00:00+09:00  1556582713087  127.362479   36.37021     10\n2 2019-04-30 09:30:00+09:00           None        None       None   None\n3 2019-04-30 09:45:00+09:00  1556585347204  127.362467  36.370216     10\n4 2019-04-30 10:00:00+09:00  1556586774094  127.362427  36.370349     10\n5 2019-04-30 10:15:00+09:00  1556586945903  127.362403  36.370506     10",
      "text/html": "<div>\n<style scoped>\n    .dataframe tbody tr th:only-of-type {\n        vertical-align: middle;\n    }\n\n    .dataframe tbody tr th {\n        vertical-align: top;\n    }\n\n    .dataframe thead th {\n        text-align: right;\n    }\n</style>\n<table border=\"1\" class=\"dataframe\">\n  <thead>\n    <tr style=\"text-align: right;\">\n      <th></th>\n      <th>datetime</th>\n      <th>timestamp</th>\n      <th>longitude</th>\n      <th>latitude</th>\n      <th>labels</th>\n    </tr>\n  </thead>\n  <tbody>\n    <tr>\n      <th>0</th>\n      <td>2019-04-30 09:00:00+09:00</td>\n      <td>1556582713087</td>\n      <td>127.362479</td>\n      <td>36.37021</td>\n      <td>10</td>\n    </tr>\n    <tr>\n      <th>2</th>\n      <td>2019-04-30 09:30:00+09:00</td>\n      <td>None</td>\n      <td>None</td>\n      <td>None</td>\n      <td>None</td>\n    </tr>\n    <tr>\n      <th>3</th>\n      <td>2019-04-30 09:45:00+09:00</td>\n      <td>1556585347204</td>\n      <td>127.362467</td>\n      <td>36.370216</td>\n      <td>10</td>\n    </tr>\n    <tr>\n      <th>4</th>\n      <td>2019-04-30 10:00:00+09:00</td>\n      <td>1556586774094</td>\n      <td>127.362427</td>\n      <td>36.370349</td>\n      <td>10</td>\n    </tr>\n    <tr>\n      <th>5</th>\n      <td>2019-04-30 10:15:00+09:00</td>\n      <td>1556586945903</td>\n      <td>127.362403</td>\n      <td>36.370506</td>\n      <td>10</td>\n    </tr>\n  </tbody>\n</table>\n</div>"
     },
     "execution_count": 6,
     "metadata": {},
     "output_type": "execute_result"
    }
   ],
   "source": [
    "resampled_df = cluster_df.set_index('datetime').resample('15min').first().reset_index()\n",
    "resampled_df = resampled_df[resampled_df['labels'] != -1]\n",
    "resampled_df.head()"
   ]
  },
  {
   "cell_type": "markdown",
   "metadata": {},
   "source": [
    "## Trace location data\n",
    "\n",
    "Trace location data on time."
   ]
  },
  {
   "cell_type": "code",
   "execution_count": 10,
   "metadata": {},
   "outputs": [
    {
     "data": {
      "application/vnd.plotly.v1+json": {
       "data": [
        {
         "customdata": [
          [
           36.3702101,
           127.3624792,
           "2019-04-30T09:00:00+09:00"
          ],
          [
           36.3702156,
           127.3624675,
           "2019-04-30T09:45:00+09:00"
          ],
          [
           36.370349,
           127.3624272,
           "2019-04-30T10:00:00+09:00"
          ],
          [
           36.3705059,
           127.3624028,
           "2019-04-30T10:15:00+09:00"
          ],
          [
           36.370524,
           127.3625211,
           "2019-04-30T11:00:00+09:00"
          ],
          [
           36.3704802,
           127.3624289,
           "2019-04-30T11:30:00+09:00"
          ],
          [
           36.3705059,
           127.3624966,
           "2019-04-30T12:00:00+09:00"
          ],
          [
           36.3704148,
           127.3623821,
           "2019-05-01T13:45:00+09:00"
          ],
          [
           36.3704564,
           127.362377,
           "2019-05-01T14:45:00+09:00"
          ],
          [
           36.3704031,
           127.3623559,
           "2019-05-01T15:00:00+09:00"
          ]
         ],
         "hovertemplate": "labels=10<br>latitude=%{customdata[0]}<br>longitude=%{customdata[1]}<br>datetime=%{customdata[2]}<extra></extra>",
         "lat": [
          36.3702101,
          36.3702156,
          36.370349,
          36.3705059,
          36.370524,
          36.3704802,
          36.3705059,
          36.3704148,
          36.3704564,
          36.3704031
         ],
         "legendgroup": "10",
         "lon": [
          127.3624792,
          127.3624675,
          127.3624272,
          127.3624028,
          127.3625211,
          127.3624289,
          127.3624966,
          127.3623821,
          127.362377,
          127.3623559
         ],
         "marker": {
          "color": "#636efa"
         },
         "mode": "markers",
         "name": "10",
         "showlegend": true,
         "subplot": "mapbox",
         "type": "scattermapbox"
        },
        {
         "customdata": [
          [
           36.3691596,
           127.3637164,
           "2019-04-30T12:15:00+09:00"
          ],
          [
           36.3691138,
           127.3636847,
           "2019-05-01T13:30:00+09:00"
          ]
         ],
         "hovertemplate": "labels=15<br>latitude=%{customdata[0]}<br>longitude=%{customdata[1]}<br>datetime=%{customdata[2]}<extra></extra>",
         "lat": [
          36.3691596,
          36.3691138
         ],
         "legendgroup": "15",
         "lon": [
          127.3637164,
          127.3636847
         ],
         "marker": {
          "color": "#00cc96"
         },
         "mode": "markers",
         "name": "15",
         "showlegend": true,
         "subplot": "mapbox",
         "type": "scattermapbox"
        },
        {
         "customdata": [
          [
           36.36971,
           127.3628589,
           "2019-04-30T12:30:00+09:00"
          ]
         ],
         "hovertemplate": "labels=13<br>latitude=%{customdata[0]}<br>longitude=%{customdata[1]}<br>datetime=%{customdata[2]}<extra></extra>",
         "lat": [
          36.36971
         ],
         "legendgroup": "13",
         "lon": [
          127.3628589
         ],
         "marker": {
          "color": "#ab63fa"
         },
         "mode": "markers",
         "name": "13",
         "showlegend": true,
         "subplot": "mapbox",
         "type": "scattermapbox"
        },
        {
         "customdata": [
          [
           36.3736963,
           127.3572251,
           "2019-04-30T12:45:00+09:00"
          ],
          [
           36.373454,
           127.3582115,
           "2019-04-30T13:00:00+09:00"
          ],
          [
           36.3736886,
           127.3572804,
           "2019-04-30T14:30:00+09:00"
          ],
          [
           36.3736053,
           127.3573199,
           "2019-04-30T15:00:00+09:00"
          ],
          [
           36.3736116,
           127.3572893,
           "2019-04-30T15:30:00+09:00"
          ],
          [
           36.3736643,
           127.3572732,
           "2019-04-30T17:15:00+09:00"
          ],
          [
           36.3736575,
           127.357279,
           "2019-04-30T17:30:00+09:00"
          ],
          [
           36.3737339,
           127.3572887,
           "2019-04-30T18:30:00+09:00"
          ],
          [
           36.3737462,
           127.3574191,
           "2019-04-30T18:45:00+09:00"
          ],
          [
           36.3736447,
           127.3572956,
           "2019-04-30T19:30:00+09:00"
          ],
          [
           36.3737466,
           127.357423,
           "2019-05-01T00:15:00+09:00"
          ],
          [
           36.3736033,
           127.3572978,
           "2019-05-01T16:00:00+09:00"
          ],
          [
           36.3736079,
           127.3572848,
           "2019-05-01T19:45:00+09:00"
          ],
          [
           36.3736946,
           127.3572652,
           "2019-05-01T20:00:00+09:00"
          ],
          [
           36.3737102,
           127.3572709,
           "2019-05-01T20:15:00+09:00"
          ],
          [
           36.3736018,
           127.3572473,
           "2019-05-01T20:45:00+09:00"
          ],
          [
           36.373709,
           127.3572655,
           "2019-05-01T21:00:00+09:00"
          ],
          [
           36.3738013,
           127.3572793,
           "2019-05-01T21:15:00+09:00"
          ],
          [
           36.3736893,
           127.357254,
           "2019-05-02T18:30:00+09:00"
          ],
          [
           36.3737488,
           127.3574303,
           "2019-05-02T18:45:00+09:00"
          ],
          [
           36.3736589,
           127.3572713,
           "2019-05-02T19:00:00+09:00"
          ],
          [
           36.3737428,
           127.3573461,
           "2019-05-02T19:15:00+09:00"
          ],
          [
           36.3736542,
           127.3575808,
           "2019-05-03T00:00:00+09:00"
          ],
          [
           36.3738112,
           127.3574843,
           "2019-05-03T00:15:00+09:00"
          ],
          [
           36.373733,
           127.357472,
           "2019-05-03T00:30:00+09:00"
          ],
          [
           36.3736243,
           127.357277,
           "2019-05-03T10:45:00+09:00"
          ],
          [
           36.3736142,
           127.357282,
           "2019-05-03T11:00:00+09:00"
          ],
          [
           36.3738429,
           127.3570998,
           "2019-05-03T11:15:00+09:00"
          ],
          [
           36.3736194,
           127.3571814,
           "2019-05-03T11:30:00+09:00"
          ],
          [
           36.3736658,
           127.3572633,
           "2019-05-03T11:45:00+09:00"
          ],
          [
           36.3737194,
           127.3572935,
           "2019-05-03T12:00:00+09:00"
          ],
          [
           36.3736988,
           127.3572589,
           "2019-05-03T15:00:00+09:00"
          ],
          [
           36.3736988,
           127.357259,
           "2019-05-03T17:15:00+09:00"
          ],
          [
           36.3736663,
           127.3572632,
           "2019-05-03T17:30:00+09:00"
          ],
          [
           36.3736097,
           127.3572648,
           "2019-05-03T17:45:00+09:00"
          ],
          [
           36.3736211,
           127.3572503,
           "2019-05-03T18:00:00+09:00"
          ],
          [
           36.3736466,
           127.357274,
           "2019-05-03T18:15:00+09:00"
          ],
          [
           36.3737461,
           127.3574213,
           "2019-05-03T18:45:00+09:00"
          ],
          [
           36.3735899,
           127.3571968,
           "2019-05-03T19:15:00+09:00"
          ],
          [
           36.373631,
           127.357283,
           "2019-05-03T19:45:00+09:00"
          ],
          [
           36.3737111,
           127.357283,
           "2019-05-03T20:15:00+09:00"
          ],
          [
           36.3737817,
           127.3575925,
           "2019-05-03T20:30:00+09:00"
          ],
          [
           36.3740178,
           127.3571086,
           "2019-05-03T20:45:00+09:00"
          ],
          [
           36.3736975,
           127.3574537,
           "2019-05-03T21:00:00+09:00"
          ],
          [
           36.3736179,
           127.3572823,
           "2019-05-03T21:15:00+09:00"
          ],
          [
           36.3735182,
           127.3572594,
           "2019-05-03T21:45:00+09:00"
          ],
          [
           36.3736753,
           127.3572507,
           "2019-05-06T19:00:00+09:00"
          ],
          [
           36.3736667,
           127.357263,
           "2019-05-06T19:15:00+09:00"
          ]
         ],
         "hovertemplate": "labels=7<br>latitude=%{customdata[0]}<br>longitude=%{customdata[1]}<br>datetime=%{customdata[2]}<extra></extra>",
         "lat": [
          36.3736963,
          36.373454,
          36.3736886,
          36.3736053,
          36.3736116,
          36.3736643,
          36.3736575,
          36.3737339,
          36.3737462,
          36.3736447,
          36.3737466,
          36.3736033,
          36.3736079,
          36.3736946,
          36.3737102,
          36.3736018,
          36.373709,
          36.3738013,
          36.3736893,
          36.3737488,
          36.3736589,
          36.3737428,
          36.3736542,
          36.3738112,
          36.373733,
          36.3736243,
          36.3736142,
          36.3738429,
          36.3736194,
          36.3736658,
          36.3737194,
          36.3736988,
          36.3736988,
          36.3736663,
          36.3736097,
          36.3736211,
          36.3736466,
          36.3737461,
          36.3735899,
          36.373631,
          36.3737111,
          36.3737817,
          36.3740178,
          36.3736975,
          36.3736179,
          36.3735182,
          36.3736753,
          36.3736667
         ],
         "legendgroup": "7",
         "lon": [
          127.3572251,
          127.3582115,
          127.3572804,
          127.3573199,
          127.3572893,
          127.3572732,
          127.357279,
          127.3572887,
          127.3574191,
          127.3572956,
          127.357423,
          127.3572978,
          127.3572848,
          127.3572652,
          127.3572709,
          127.3572473,
          127.3572655,
          127.3572793,
          127.357254,
          127.3574303,
          127.3572713,
          127.3573461,
          127.3575808,
          127.3574843,
          127.357472,
          127.357277,
          127.357282,
          127.3570998,
          127.3571814,
          127.3572633,
          127.3572935,
          127.3572589,
          127.357259,
          127.3572632,
          127.3572648,
          127.3572503,
          127.357274,
          127.3574213,
          127.3571968,
          127.357283,
          127.357283,
          127.3575925,
          127.3571086,
          127.3574537,
          127.3572823,
          127.3572594,
          127.3572507,
          127.357263
         ],
         "marker": {
          "color": "#FFA15A"
         },
         "mode": "markers",
         "name": "7",
         "showlegend": true,
         "subplot": "mapbox",
         "type": "scattermapbox"
        },
        {
         "customdata": [
          [
           36.3732452,
           127.3629563,
           "2019-04-30T13:15:00+09:00"
          ],
          [
           36.3732324,
           127.3629643,
           "2019-04-30T13:30:00+09:00"
          ],
          [
           36.3732271,
           127.3629452,
           "2019-04-30T13:45:00+09:00"
          ],
          [
           36.3731994,
           127.362887,
           "2019-04-30T14:00:00+09:00"
          ],
          [
           36.373227,
           127.3629264,
           "2019-05-02T13:15:00+09:00"
          ],
          [
           36.3732752,
           127.3629054,
           "2019-05-02T13:45:00+09:00"
          ],
          [
           36.3732723,
           127.3629563,
           "2019-05-02T14:00:00+09:00"
          ]
         ],
         "hovertemplate": "labels=23<br>latitude=%{customdata[0]}<br>longitude=%{customdata[1]}<br>datetime=%{customdata[2]}<extra></extra>",
         "lat": [
          36.3732452,
          36.3732324,
          36.3732271,
          36.3731994,
          36.373227,
          36.3732752,
          36.3732723
         ],
         "legendgroup": "23",
         "lon": [
          127.3629563,
          127.3629643,
          127.3629452,
          127.362887,
          127.3629264,
          127.3629054,
          127.3629563
         ],
         "marker": {
          "color": "#19d3f3"
         },
         "mode": "markers",
         "name": "23",
         "showlegend": true,
         "subplot": "mapbox",
         "type": "scattermapbox"
        },
        {
         "customdata": [
          [
           36.3735861,
           127.3592217,
           "2019-04-30T14:15:00+09:00"
          ],
          [
           36.3737159,
           127.3591081,
           "2019-04-30T17:45:00+09:00"
          ],
          [
           36.3737044,
           127.3590911,
           "2019-04-30T18:00:00+09:00"
          ],
          [
           36.3737525,
           127.3591,
           "2019-05-02T18:15:00+09:00"
          ],
          [
           36.3736738,
           127.3590995,
           "2019-05-04T12:00:00+09:00"
          ],
          [
           36.3737306,
           127.3590958,
           "2019-05-04T12:30:00+09:00"
          ]
         ],
         "hovertemplate": "labels=8<br>latitude=%{customdata[0]}<br>longitude=%{customdata[1]}<br>datetime=%{customdata[2]}<extra></extra>",
         "lat": [
          36.3735861,
          36.3737159,
          36.3737044,
          36.3737525,
          36.3736738,
          36.3737306
         ],
         "legendgroup": "8",
         "lon": [
          127.3592217,
          127.3591081,
          127.3590911,
          127.3591,
          127.3590995,
          127.3590958
         ],
         "marker": {
          "color": "#FF6692"
         },
         "mode": "markers",
         "name": "8",
         "showlegend": true,
         "subplot": "mapbox",
         "type": "scattermapbox"
        },
        {
         "customdata": [
          [
           36.3742829,
           127.3604741,
           "2019-05-02T14:15:00+09:00"
          ],
          [
           36.3742888,
           127.3602822,
           "2019-05-02T15:45:00+09:00"
          ],
          [
           36.3743932,
           127.3602406,
           "2019-05-02T20:15:00+09:00"
          ],
          [
           36.3743436,
           127.3602608,
           "2019-05-02T20:30:00+09:00"
          ],
          [
           36.3742808,
           127.3602457,
           "2019-05-02T21:00:00+09:00"
          ],
          [
           36.3743372,
           127.3602319,
           "2019-05-02T21:15:00+09:00"
          ],
          [
           36.3743409,
           127.3603016,
           "2019-05-02T21:30:00+09:00"
          ],
          [
           36.3743968,
           127.3604789,
           "2019-05-02T21:45:00+09:00"
          ],
          [
           36.374345,
           127.3603119,
           "2019-05-02T22:45:00+09:00"
          ],
          [
           36.374343,
           127.3602447,
           "2019-05-02T23:15:00+09:00"
          ],
          [
           36.3740891,
           127.3603158,
           "2019-05-02T23:45:00+09:00"
          ],
          [
           36.3740674,
           127.3604555,
           "2019-05-03T00:45:00+09:00"
          ],
          [
           36.3742852,
           127.360323,
           "2019-05-03T02:00:00+09:00"
          ]
         ],
         "hovertemplate": "labels=25<br>latitude=%{customdata[0]}<br>longitude=%{customdata[1]}<br>datetime=%{customdata[2]}<extra></extra>",
         "lat": [
          36.3742829,
          36.3742888,
          36.3743932,
          36.3743436,
          36.3742808,
          36.3743372,
          36.3743409,
          36.3743968,
          36.374345,
          36.374343,
          36.3740891,
          36.3740674,
          36.3742852
         ],
         "legendgroup": "25",
         "lon": [
          127.3604741,
          127.3602822,
          127.3602406,
          127.3602608,
          127.3602457,
          127.3602319,
          127.3603016,
          127.3604789,
          127.3603119,
          127.3602447,
          127.3603158,
          127.3604555,
          127.360323
         ],
         "marker": {
          "color": "#B6E880"
         },
         "mode": "markers",
         "name": "25",
         "showlegend": true,
         "subplot": "mapbox",
         "type": "scattermapbox"
        },
        {
         "customdata": [
          [
           36.3751705,
           127.3591307,
           "2019-05-02T17:15:00+09:00"
          ],
          [
           36.3752441,
           127.3590652,
           "2019-05-02T17:30:00+09:00"
          ],
          [
           36.375209,
           127.3590767,
           "2019-05-02T17:45:00+09:00"
          ],
          [
           36.375203,
           127.3590848,
           "2019-05-02T18:00:00+09:00"
          ]
         ],
         "hovertemplate": "labels=29<br>latitude=%{customdata[0]}<br>longitude=%{customdata[1]}<br>datetime=%{customdata[2]}<extra></extra>",
         "lat": [
          36.3751705,
          36.3752441,
          36.375209,
          36.375203
         ],
         "legendgroup": "29",
         "lon": [
          127.3591307,
          127.3590652,
          127.3590767,
          127.3590848
         ],
         "marker": {
          "color": "#FF97FF"
         },
         "mode": "markers",
         "name": "29",
         "showlegend": true,
         "subplot": "mapbox",
         "type": "scattermapbox"
        },
        {
         "customdata": [
          [
           36.3741428,
           127.3607271,
           "2019-05-02T23:30:00+09:00"
          ]
         ],
         "hovertemplate": "labels=34<br>latitude=%{customdata[0]}<br>longitude=%{customdata[1]}<br>datetime=%{customdata[2]}<extra></extra>",
         "lat": [
          36.3741428
         ],
         "legendgroup": "34",
         "lon": [
          127.3607271
         ],
         "marker": {
          "color": "#FECB52"
         },
         "mode": "markers",
         "name": "34",
         "showlegend": true,
         "subplot": "mapbox",
         "type": "scattermapbox"
        },
        {
         "customdata": [
          [
           36.3736649,
           127.3593592,
           "2019-05-03T19:00:00+09:00"
          ]
         ],
         "hovertemplate": "labels=9<br>latitude=%{customdata[0]}<br>longitude=%{customdata[1]}<br>datetime=%{customdata[2]}<extra></extra>",
         "lat": [
          36.3736649
         ],
         "legendgroup": "9",
         "lon": [
          127.3593592
         ],
         "marker": {
          "color": "#636efa"
         },
         "mode": "markers",
         "name": "9",
         "showlegend": true,
         "subplot": "mapbox",
         "type": "scattermapbox"
        },
        {
         "customdata": [
          [
           37.4129015,
           127.1267394,
           "2019-05-06T15:45:00+09:00"
          ]
         ],
         "hovertemplate": "labels=0<br>latitude=%{customdata[0]}<br>longitude=%{customdata[1]}<br>datetime=%{customdata[2]}<extra></extra>",
         "lat": [
          37.4129015
         ],
         "legendgroup": "0",
         "lon": [
          127.1267394
         ],
         "marker": {
          "color": "#EF553B"
         },
         "mode": "markers",
         "name": "0",
         "showlegend": true,
         "subplot": "mapbox",
         "type": "scattermapbox"
        },
        {
         "customdata": [
          [
           36.3735203,
           127.3587,
           "2019-05-06T18:45:00+09:00"
          ]
         ],
         "hovertemplate": "labels=1<br>latitude=%{customdata[0]}<br>longitude=%{customdata[1]}<br>datetime=%{customdata[2]}<extra></extra>",
         "lat": [
          36.3735203
         ],
         "legendgroup": "1",
         "lon": [
          127.3587
         ],
         "marker": {
          "color": "#00cc96"
         },
         "mode": "markers",
         "name": "1",
         "showlegend": true,
         "subplot": "mapbox",
         "type": "scattermapbox"
        }
       ],
       "layout": {
        "template": {
         "data": {
          "histogram2dcontour": [
           {
            "type": "histogram2dcontour",
            "colorbar": {
             "outlinewidth": 0,
             "ticks": ""
            },
            "colorscale": [
             [
              0.0,
              "#0d0887"
             ],
             [
              0.1111111111111111,
              "#46039f"
             ],
             [
              0.2222222222222222,
              "#7201a8"
             ],
             [
              0.3333333333333333,
              "#9c179e"
             ],
             [
              0.4444444444444444,
              "#bd3786"
             ],
             [
              0.5555555555555556,
              "#d8576b"
             ],
             [
              0.6666666666666666,
              "#ed7953"
             ],
             [
              0.7777777777777778,
              "#fb9f3a"
             ],
             [
              0.8888888888888888,
              "#fdca26"
             ],
             [
              1.0,
              "#f0f921"
             ]
            ]
           }
          ],
          "choropleth": [
           {
            "type": "choropleth",
            "colorbar": {
             "outlinewidth": 0,
             "ticks": ""
            }
           }
          ],
          "histogram2d": [
           {
            "type": "histogram2d",
            "colorbar": {
             "outlinewidth": 0,
             "ticks": ""
            },
            "colorscale": [
             [
              0.0,
              "#0d0887"
             ],
             [
              0.1111111111111111,
              "#46039f"
             ],
             [
              0.2222222222222222,
              "#7201a8"
             ],
             [
              0.3333333333333333,
              "#9c179e"
             ],
             [
              0.4444444444444444,
              "#bd3786"
             ],
             [
              0.5555555555555556,
              "#d8576b"
             ],
             [
              0.6666666666666666,
              "#ed7953"
             ],
             [
              0.7777777777777778,
              "#fb9f3a"
             ],
             [
              0.8888888888888888,
              "#fdca26"
             ],
             [
              1.0,
              "#f0f921"
             ]
            ]
           }
          ],
          "heatmap": [
           {
            "type": "heatmap",
            "colorbar": {
             "outlinewidth": 0,
             "ticks": ""
            },
            "colorscale": [
             [
              0.0,
              "#0d0887"
             ],
             [
              0.1111111111111111,
              "#46039f"
             ],
             [
              0.2222222222222222,
              "#7201a8"
             ],
             [
              0.3333333333333333,
              "#9c179e"
             ],
             [
              0.4444444444444444,
              "#bd3786"
             ],
             [
              0.5555555555555556,
              "#d8576b"
             ],
             [
              0.6666666666666666,
              "#ed7953"
             ],
             [
              0.7777777777777778,
              "#fb9f3a"
             ],
             [
              0.8888888888888888,
              "#fdca26"
             ],
             [
              1.0,
              "#f0f921"
             ]
            ]
           }
          ],
          "heatmapgl": [
           {
            "type": "heatmapgl",
            "colorbar": {
             "outlinewidth": 0,
             "ticks": ""
            },
            "colorscale": [
             [
              0.0,
              "#0d0887"
             ],
             [
              0.1111111111111111,
              "#46039f"
             ],
             [
              0.2222222222222222,
              "#7201a8"
             ],
             [
              0.3333333333333333,
              "#9c179e"
             ],
             [
              0.4444444444444444,
              "#bd3786"
             ],
             [
              0.5555555555555556,
              "#d8576b"
             ],
             [
              0.6666666666666666,
              "#ed7953"
             ],
             [
              0.7777777777777778,
              "#fb9f3a"
             ],
             [
              0.8888888888888888,
              "#fdca26"
             ],
             [
              1.0,
              "#f0f921"
             ]
            ]
           }
          ],
          "contourcarpet": [
           {
            "type": "contourcarpet",
            "colorbar": {
             "outlinewidth": 0,
             "ticks": ""
            }
           }
          ],
          "contour": [
           {
            "type": "contour",
            "colorbar": {
             "outlinewidth": 0,
             "ticks": ""
            },
            "colorscale": [
             [
              0.0,
              "#0d0887"
             ],
             [
              0.1111111111111111,
              "#46039f"
             ],
             [
              0.2222222222222222,
              "#7201a8"
             ],
             [
              0.3333333333333333,
              "#9c179e"
             ],
             [
              0.4444444444444444,
              "#bd3786"
             ],
             [
              0.5555555555555556,
              "#d8576b"
             ],
             [
              0.6666666666666666,
              "#ed7953"
             ],
             [
              0.7777777777777778,
              "#fb9f3a"
             ],
             [
              0.8888888888888888,
              "#fdca26"
             ],
             [
              1.0,
              "#f0f921"
             ]
            ]
           }
          ],
          "surface": [
           {
            "type": "surface",
            "colorbar": {
             "outlinewidth": 0,
             "ticks": ""
            },
            "colorscale": [
             [
              0.0,
              "#0d0887"
             ],
             [
              0.1111111111111111,
              "#46039f"
             ],
             [
              0.2222222222222222,
              "#7201a8"
             ],
             [
              0.3333333333333333,
              "#9c179e"
             ],
             [
              0.4444444444444444,
              "#bd3786"
             ],
             [
              0.5555555555555556,
              "#d8576b"
             ],
             [
              0.6666666666666666,
              "#ed7953"
             ],
             [
              0.7777777777777778,
              "#fb9f3a"
             ],
             [
              0.8888888888888888,
              "#fdca26"
             ],
             [
              1.0,
              "#f0f921"
             ]
            ]
           }
          ],
          "mesh3d": [
           {
            "type": "mesh3d",
            "colorbar": {
             "outlinewidth": 0,
             "ticks": ""
            }
           }
          ],
          "scatter": [
           {
            "marker": {
             "line": {
              "color": "#283442"
             }
            },
            "type": "scatter"
           }
          ],
          "parcoords": [
           {
            "type": "parcoords",
            "line": {
             "colorbar": {
              "outlinewidth": 0,
              "ticks": ""
             }
            }
           }
          ],
          "scatterpolargl": [
           {
            "type": "scatterpolargl",
            "marker": {
             "colorbar": {
              "outlinewidth": 0,
              "ticks": ""
             }
            }
           }
          ],
          "bar": [
           {
            "error_x": {
             "color": "#f2f5fa"
            },
            "error_y": {
             "color": "#f2f5fa"
            },
            "marker": {
             "line": {
              "color": "rgb(17,17,17)",
              "width": 0.5
             },
             "pattern": {
              "fillmode": "overlay",
              "size": 10,
              "solidity": 0.2
             }
            },
            "type": "bar"
           }
          ],
          "scattergeo": [
           {
            "type": "scattergeo",
            "marker": {
             "colorbar": {
              "outlinewidth": 0,
              "ticks": ""
             }
            }
           }
          ],
          "scatterpolar": [
           {
            "type": "scatterpolar",
            "marker": {
             "colorbar": {
              "outlinewidth": 0,
              "ticks": ""
             }
            }
           }
          ],
          "histogram": [
           {
            "marker": {
             "pattern": {
              "fillmode": "overlay",
              "size": 10,
              "solidity": 0.2
             }
            },
            "type": "histogram"
           }
          ],
          "scattergl": [
           {
            "marker": {
             "line": {
              "color": "#283442"
             }
            },
            "type": "scattergl"
           }
          ],
          "scatter3d": [
           {
            "type": "scatter3d",
            "line": {
             "colorbar": {
              "outlinewidth": 0,
              "ticks": ""
             }
            },
            "marker": {
             "colorbar": {
              "outlinewidth": 0,
              "ticks": ""
             }
            }
           }
          ],
          "scattermapbox": [
           {
            "type": "scattermapbox",
            "marker": {
             "colorbar": {
              "outlinewidth": 0,
              "ticks": ""
             }
            }
           }
          ],
          "scatterternary": [
           {
            "type": "scatterternary",
            "marker": {
             "colorbar": {
              "outlinewidth": 0,
              "ticks": ""
             }
            }
           }
          ],
          "scattercarpet": [
           {
            "type": "scattercarpet",
            "marker": {
             "colorbar": {
              "outlinewidth": 0,
              "ticks": ""
             }
            }
           }
          ],
          "carpet": [
           {
            "aaxis": {
             "endlinecolor": "#A2B1C6",
             "gridcolor": "#506784",
             "linecolor": "#506784",
             "minorgridcolor": "#506784",
             "startlinecolor": "#A2B1C6"
            },
            "baxis": {
             "endlinecolor": "#A2B1C6",
             "gridcolor": "#506784",
             "linecolor": "#506784",
             "minorgridcolor": "#506784",
             "startlinecolor": "#A2B1C6"
            },
            "type": "carpet"
           }
          ],
          "table": [
           {
            "cells": {
             "fill": {
              "color": "#506784"
             },
             "line": {
              "color": "rgb(17,17,17)"
             }
            },
            "header": {
             "fill": {
              "color": "#2a3f5f"
             },
             "line": {
              "color": "rgb(17,17,17)"
             }
            },
            "type": "table"
           }
          ],
          "barpolar": [
           {
            "marker": {
             "line": {
              "color": "rgb(17,17,17)",
              "width": 0.5
             },
             "pattern": {
              "fillmode": "overlay",
              "size": 10,
              "solidity": 0.2
             }
            },
            "type": "barpolar"
           }
          ],
          "pie": [
           {
            "automargin": true,
            "type": "pie"
           }
          ]
         },
         "layout": {
          "autotypenumbers": "strict",
          "colorway": [
           "#636efa",
           "#EF553B",
           "#00cc96",
           "#ab63fa",
           "#FFA15A",
           "#19d3f3",
           "#FF6692",
           "#B6E880",
           "#FF97FF",
           "#FECB52"
          ],
          "font": {
           "color": "#f2f5fa"
          },
          "hovermode": "closest",
          "hoverlabel": {
           "align": "left"
          },
          "paper_bgcolor": "rgb(17,17,17)",
          "plot_bgcolor": "rgb(17,17,17)",
          "polar": {
           "bgcolor": "rgb(17,17,17)",
           "angularaxis": {
            "gridcolor": "#506784",
            "linecolor": "#506784",
            "ticks": ""
           },
           "radialaxis": {
            "gridcolor": "#506784",
            "linecolor": "#506784",
            "ticks": ""
           }
          },
          "ternary": {
           "bgcolor": "rgb(17,17,17)",
           "aaxis": {
            "gridcolor": "#506784",
            "linecolor": "#506784",
            "ticks": ""
           },
           "baxis": {
            "gridcolor": "#506784",
            "linecolor": "#506784",
            "ticks": ""
           },
           "caxis": {
            "gridcolor": "#506784",
            "linecolor": "#506784",
            "ticks": ""
           }
          },
          "coloraxis": {
           "colorbar": {
            "outlinewidth": 0,
            "ticks": ""
           }
          },
          "colorscale": {
           "sequential": [
            [
             0.0,
             "#0d0887"
            ],
            [
             0.1111111111111111,
             "#46039f"
            ],
            [
             0.2222222222222222,
             "#7201a8"
            ],
            [
             0.3333333333333333,
             "#9c179e"
            ],
            [
             0.4444444444444444,
             "#bd3786"
            ],
            [
             0.5555555555555556,
             "#d8576b"
            ],
            [
             0.6666666666666666,
             "#ed7953"
            ],
            [
             0.7777777777777778,
             "#fb9f3a"
            ],
            [
             0.8888888888888888,
             "#fdca26"
            ],
            [
             1.0,
             "#f0f921"
            ]
           ],
           "sequentialminus": [
            [
             0.0,
             "#0d0887"
            ],
            [
             0.1111111111111111,
             "#46039f"
            ],
            [
             0.2222222222222222,
             "#7201a8"
            ],
            [
             0.3333333333333333,
             "#9c179e"
            ],
            [
             0.4444444444444444,
             "#bd3786"
            ],
            [
             0.5555555555555556,
             "#d8576b"
            ],
            [
             0.6666666666666666,
             "#ed7953"
            ],
            [
             0.7777777777777778,
             "#fb9f3a"
            ],
            [
             0.8888888888888888,
             "#fdca26"
            ],
            [
             1.0,
             "#f0f921"
            ]
           ],
           "diverging": [
            [
             0,
             "#8e0152"
            ],
            [
             0.1,
             "#c51b7d"
            ],
            [
             0.2,
             "#de77ae"
            ],
            [
             0.3,
             "#f1b6da"
            ],
            [
             0.4,
             "#fde0ef"
            ],
            [
             0.5,
             "#f7f7f7"
            ],
            [
             0.6,
             "#e6f5d0"
            ],
            [
             0.7,
             "#b8e186"
            ],
            [
             0.8,
             "#7fbc41"
            ],
            [
             0.9,
             "#4d9221"
            ],
            [
             1,
             "#276419"
            ]
           ]
          },
          "xaxis": {
           "gridcolor": "#283442",
           "linecolor": "#506784",
           "ticks": "",
           "title": {
            "standoff": 15
           },
           "zerolinecolor": "#283442",
           "automargin": true,
           "zerolinewidth": 2
          },
          "yaxis": {
           "gridcolor": "#283442",
           "linecolor": "#506784",
           "ticks": "",
           "title": {
            "standoff": 15
           },
           "zerolinecolor": "#283442",
           "automargin": true,
           "zerolinewidth": 2
          },
          "scene": {
           "xaxis": {
            "backgroundcolor": "rgb(17,17,17)",
            "gridcolor": "#506784",
            "linecolor": "#506784",
            "showbackground": true,
            "ticks": "",
            "zerolinecolor": "#C8D4E3",
            "gridwidth": 2
           },
           "yaxis": {
            "backgroundcolor": "rgb(17,17,17)",
            "gridcolor": "#506784",
            "linecolor": "#506784",
            "showbackground": true,
            "ticks": "",
            "zerolinecolor": "#C8D4E3",
            "gridwidth": 2
           },
           "zaxis": {
            "backgroundcolor": "rgb(17,17,17)",
            "gridcolor": "#506784",
            "linecolor": "#506784",
            "showbackground": true,
            "ticks": "",
            "zerolinecolor": "#C8D4E3",
            "gridwidth": 2
           }
          },
          "shapedefaults": {
           "line": {
            "color": "#f2f5fa"
           }
          },
          "annotationdefaults": {
           "arrowcolor": "#f2f5fa",
           "arrowhead": 0,
           "arrowwidth": 1
          },
          "geo": {
           "bgcolor": "rgb(17,17,17)",
           "landcolor": "rgb(17,17,17)",
           "subunitcolor": "#506784",
           "showland": true,
           "showlakes": true,
           "lakecolor": "rgb(17,17,17)"
          },
          "title": {
           "x": 0.05
          },
          "updatemenudefaults": {
           "bgcolor": "#506784",
           "borderwidth": 0
          },
          "sliderdefaults": {
           "bgcolor": "#C8D4E3",
           "borderwidth": 1,
           "bordercolor": "rgb(17,17,17)",
           "tickwidth": 0
          },
          "mapbox": {
           "style": "dark"
          }
         }
        },
        "mapbox": {
         "domain": {
          "x": [
           0.0,
           1.0
          ],
          "y": [
           0.0,
           1.0
          ]
         },
         "center": {
          "lat": 36.37,
          "lon": 127.36
         },
         "accesstoken": "pk.eyJ1Ijoic2p1dXVuIiwiYSI6ImNsaGQ3dWNzdTBuNGozcmsxMTMyYTlucjgifQ.c-du_cmn7cle9RhrkImX2g\n",
         "zoom": 14,
         "style": "streets"
        },
        "legend": {
         "title": {
          "text": "labels"
         },
         "tracegroupgap": 0
        },
        "margin": {
         "t": 60
        },
        "height": 800,
        "width": 800,
        "title": {
         "text": "Time trace on location"
        }
       },
       "config": {
        "plotlyServerURL": "https://plot.ly"
       }
      },
      "text/html": "<div>                            <div id=\"f145ce3a-039a-4f10-a7f9-3b4807b511d7\" class=\"plotly-graph-div\" style=\"height:800px; width:800px;\"></div>            <script type=\"text/javascript\">                require([\"plotly\"], function(Plotly) {                    window.PLOTLYENV=window.PLOTLYENV || {};                                    if (document.getElementById(\"f145ce3a-039a-4f10-a7f9-3b4807b511d7\")) {                    Plotly.newPlot(                        \"f145ce3a-039a-4f10-a7f9-3b4807b511d7\",                        [{\"customdata\":[[36.3702101,127.3624792,\"2019-04-30T09:00:00+09:00\"],[36.3702156,127.3624675,\"2019-04-30T09:45:00+09:00\"],[36.370349,127.3624272,\"2019-04-30T10:00:00+09:00\"],[36.3705059,127.3624028,\"2019-04-30T10:15:00+09:00\"],[36.370524,127.3625211,\"2019-04-30T11:00:00+09:00\"],[36.3704802,127.3624289,\"2019-04-30T11:30:00+09:00\"],[36.3705059,127.3624966,\"2019-04-30T12:00:00+09:00\"],[36.3704148,127.3623821,\"2019-05-01T13:45:00+09:00\"],[36.3704564,127.362377,\"2019-05-01T14:45:00+09:00\"],[36.3704031,127.3623559,\"2019-05-01T15:00:00+09:00\"]],\"hovertemplate\":\"labels=10<br>latitude=%{customdata[0]}<br>longitude=%{customdata[1]}<br>datetime=%{customdata[2]}<extra></extra>\",\"lat\":[36.3702101,36.3702156,36.370349,36.3705059,36.370524,36.3704802,36.3705059,36.3704148,36.3704564,36.3704031],\"legendgroup\":\"10\",\"lon\":[127.3624792,127.3624675,127.3624272,127.3624028,127.3625211,127.3624289,127.3624966,127.3623821,127.362377,127.3623559],\"marker\":{\"color\":\"#636efa\"},\"mode\":\"markers\",\"name\":\"10\",\"showlegend\":true,\"subplot\":\"mapbox\",\"type\":\"scattermapbox\"},{\"customdata\":[[36.3691596,127.3637164,\"2019-04-30T12:15:00+09:00\"],[36.3691138,127.3636847,\"2019-05-01T13:30:00+09:00\"]],\"hovertemplate\":\"labels=15<br>latitude=%{customdata[0]}<br>longitude=%{customdata[1]}<br>datetime=%{customdata[2]}<extra></extra>\",\"lat\":[36.3691596,36.3691138],\"legendgroup\":\"15\",\"lon\":[127.3637164,127.3636847],\"marker\":{\"color\":\"#00cc96\"},\"mode\":\"markers\",\"name\":\"15\",\"showlegend\":true,\"subplot\":\"mapbox\",\"type\":\"scattermapbox\"},{\"customdata\":[[36.36971,127.3628589,\"2019-04-30T12:30:00+09:00\"]],\"hovertemplate\":\"labels=13<br>latitude=%{customdata[0]}<br>longitude=%{customdata[1]}<br>datetime=%{customdata[2]}<extra></extra>\",\"lat\":[36.36971],\"legendgroup\":\"13\",\"lon\":[127.3628589],\"marker\":{\"color\":\"#ab63fa\"},\"mode\":\"markers\",\"name\":\"13\",\"showlegend\":true,\"subplot\":\"mapbox\",\"type\":\"scattermapbox\"},{\"customdata\":[[36.3736963,127.3572251,\"2019-04-30T12:45:00+09:00\"],[36.373454,127.3582115,\"2019-04-30T13:00:00+09:00\"],[36.3736886,127.3572804,\"2019-04-30T14:30:00+09:00\"],[36.3736053,127.3573199,\"2019-04-30T15:00:00+09:00\"],[36.3736116,127.3572893,\"2019-04-30T15:30:00+09:00\"],[36.3736643,127.3572732,\"2019-04-30T17:15:00+09:00\"],[36.3736575,127.357279,\"2019-04-30T17:30:00+09:00\"],[36.3737339,127.3572887,\"2019-04-30T18:30:00+09:00\"],[36.3737462,127.3574191,\"2019-04-30T18:45:00+09:00\"],[36.3736447,127.3572956,\"2019-04-30T19:30:00+09:00\"],[36.3737466,127.357423,\"2019-05-01T00:15:00+09:00\"],[36.3736033,127.3572978,\"2019-05-01T16:00:00+09:00\"],[36.3736079,127.3572848,\"2019-05-01T19:45:00+09:00\"],[36.3736946,127.3572652,\"2019-05-01T20:00:00+09:00\"],[36.3737102,127.3572709,\"2019-05-01T20:15:00+09:00\"],[36.3736018,127.3572473,\"2019-05-01T20:45:00+09:00\"],[36.373709,127.3572655,\"2019-05-01T21:00:00+09:00\"],[36.3738013,127.3572793,\"2019-05-01T21:15:00+09:00\"],[36.3736893,127.357254,\"2019-05-02T18:30:00+09:00\"],[36.3737488,127.3574303,\"2019-05-02T18:45:00+09:00\"],[36.3736589,127.3572713,\"2019-05-02T19:00:00+09:00\"],[36.3737428,127.3573461,\"2019-05-02T19:15:00+09:00\"],[36.3736542,127.3575808,\"2019-05-03T00:00:00+09:00\"],[36.3738112,127.3574843,\"2019-05-03T00:15:00+09:00\"],[36.373733,127.357472,\"2019-05-03T00:30:00+09:00\"],[36.3736243,127.357277,\"2019-05-03T10:45:00+09:00\"],[36.3736142,127.357282,\"2019-05-03T11:00:00+09:00\"],[36.3738429,127.3570998,\"2019-05-03T11:15:00+09:00\"],[36.3736194,127.3571814,\"2019-05-03T11:30:00+09:00\"],[36.3736658,127.3572633,\"2019-05-03T11:45:00+09:00\"],[36.3737194,127.3572935,\"2019-05-03T12:00:00+09:00\"],[36.3736988,127.3572589,\"2019-05-03T15:00:00+09:00\"],[36.3736988,127.357259,\"2019-05-03T17:15:00+09:00\"],[36.3736663,127.3572632,\"2019-05-03T17:30:00+09:00\"],[36.3736097,127.3572648,\"2019-05-03T17:45:00+09:00\"],[36.3736211,127.3572503,\"2019-05-03T18:00:00+09:00\"],[36.3736466,127.357274,\"2019-05-03T18:15:00+09:00\"],[36.3737461,127.3574213,\"2019-05-03T18:45:00+09:00\"],[36.3735899,127.3571968,\"2019-05-03T19:15:00+09:00\"],[36.373631,127.357283,\"2019-05-03T19:45:00+09:00\"],[36.3737111,127.357283,\"2019-05-03T20:15:00+09:00\"],[36.3737817,127.3575925,\"2019-05-03T20:30:00+09:00\"],[36.3740178,127.3571086,\"2019-05-03T20:45:00+09:00\"],[36.3736975,127.3574537,\"2019-05-03T21:00:00+09:00\"],[36.3736179,127.3572823,\"2019-05-03T21:15:00+09:00\"],[36.3735182,127.3572594,\"2019-05-03T21:45:00+09:00\"],[36.3736753,127.3572507,\"2019-05-06T19:00:00+09:00\"],[36.3736667,127.357263,\"2019-05-06T19:15:00+09:00\"]],\"hovertemplate\":\"labels=7<br>latitude=%{customdata[0]}<br>longitude=%{customdata[1]}<br>datetime=%{customdata[2]}<extra></extra>\",\"lat\":[36.3736963,36.373454,36.3736886,36.3736053,36.3736116,36.3736643,36.3736575,36.3737339,36.3737462,36.3736447,36.3737466,36.3736033,36.3736079,36.3736946,36.3737102,36.3736018,36.373709,36.3738013,36.3736893,36.3737488,36.3736589,36.3737428,36.3736542,36.3738112,36.373733,36.3736243,36.3736142,36.3738429,36.3736194,36.3736658,36.3737194,36.3736988,36.3736988,36.3736663,36.3736097,36.3736211,36.3736466,36.3737461,36.3735899,36.373631,36.3737111,36.3737817,36.3740178,36.3736975,36.3736179,36.3735182,36.3736753,36.3736667],\"legendgroup\":\"7\",\"lon\":[127.3572251,127.3582115,127.3572804,127.3573199,127.3572893,127.3572732,127.357279,127.3572887,127.3574191,127.3572956,127.357423,127.3572978,127.3572848,127.3572652,127.3572709,127.3572473,127.3572655,127.3572793,127.357254,127.3574303,127.3572713,127.3573461,127.3575808,127.3574843,127.357472,127.357277,127.357282,127.3570998,127.3571814,127.3572633,127.3572935,127.3572589,127.357259,127.3572632,127.3572648,127.3572503,127.357274,127.3574213,127.3571968,127.357283,127.357283,127.3575925,127.3571086,127.3574537,127.3572823,127.3572594,127.3572507,127.357263],\"marker\":{\"color\":\"#FFA15A\"},\"mode\":\"markers\",\"name\":\"7\",\"showlegend\":true,\"subplot\":\"mapbox\",\"type\":\"scattermapbox\"},{\"customdata\":[[36.3732452,127.3629563,\"2019-04-30T13:15:00+09:00\"],[36.3732324,127.3629643,\"2019-04-30T13:30:00+09:00\"],[36.3732271,127.3629452,\"2019-04-30T13:45:00+09:00\"],[36.3731994,127.362887,\"2019-04-30T14:00:00+09:00\"],[36.373227,127.3629264,\"2019-05-02T13:15:00+09:00\"],[36.3732752,127.3629054,\"2019-05-02T13:45:00+09:00\"],[36.3732723,127.3629563,\"2019-05-02T14:00:00+09:00\"]],\"hovertemplate\":\"labels=23<br>latitude=%{customdata[0]}<br>longitude=%{customdata[1]}<br>datetime=%{customdata[2]}<extra></extra>\",\"lat\":[36.3732452,36.3732324,36.3732271,36.3731994,36.373227,36.3732752,36.3732723],\"legendgroup\":\"23\",\"lon\":[127.3629563,127.3629643,127.3629452,127.362887,127.3629264,127.3629054,127.3629563],\"marker\":{\"color\":\"#19d3f3\"},\"mode\":\"markers\",\"name\":\"23\",\"showlegend\":true,\"subplot\":\"mapbox\",\"type\":\"scattermapbox\"},{\"customdata\":[[36.3735861,127.3592217,\"2019-04-30T14:15:00+09:00\"],[36.3737159,127.3591081,\"2019-04-30T17:45:00+09:00\"],[36.3737044,127.3590911,\"2019-04-30T18:00:00+09:00\"],[36.3737525,127.3591,\"2019-05-02T18:15:00+09:00\"],[36.3736738,127.3590995,\"2019-05-04T12:00:00+09:00\"],[36.3737306,127.3590958,\"2019-05-04T12:30:00+09:00\"]],\"hovertemplate\":\"labels=8<br>latitude=%{customdata[0]}<br>longitude=%{customdata[1]}<br>datetime=%{customdata[2]}<extra></extra>\",\"lat\":[36.3735861,36.3737159,36.3737044,36.3737525,36.3736738,36.3737306],\"legendgroup\":\"8\",\"lon\":[127.3592217,127.3591081,127.3590911,127.3591,127.3590995,127.3590958],\"marker\":{\"color\":\"#FF6692\"},\"mode\":\"markers\",\"name\":\"8\",\"showlegend\":true,\"subplot\":\"mapbox\",\"type\":\"scattermapbox\"},{\"customdata\":[[36.3742829,127.3604741,\"2019-05-02T14:15:00+09:00\"],[36.3742888,127.3602822,\"2019-05-02T15:45:00+09:00\"],[36.3743932,127.3602406,\"2019-05-02T20:15:00+09:00\"],[36.3743436,127.3602608,\"2019-05-02T20:30:00+09:00\"],[36.3742808,127.3602457,\"2019-05-02T21:00:00+09:00\"],[36.3743372,127.3602319,\"2019-05-02T21:15:00+09:00\"],[36.3743409,127.3603016,\"2019-05-02T21:30:00+09:00\"],[36.3743968,127.3604789,\"2019-05-02T21:45:00+09:00\"],[36.374345,127.3603119,\"2019-05-02T22:45:00+09:00\"],[36.374343,127.3602447,\"2019-05-02T23:15:00+09:00\"],[36.3740891,127.3603158,\"2019-05-02T23:45:00+09:00\"],[36.3740674,127.3604555,\"2019-05-03T00:45:00+09:00\"],[36.3742852,127.360323,\"2019-05-03T02:00:00+09:00\"]],\"hovertemplate\":\"labels=25<br>latitude=%{customdata[0]}<br>longitude=%{customdata[1]}<br>datetime=%{customdata[2]}<extra></extra>\",\"lat\":[36.3742829,36.3742888,36.3743932,36.3743436,36.3742808,36.3743372,36.3743409,36.3743968,36.374345,36.374343,36.3740891,36.3740674,36.3742852],\"legendgroup\":\"25\",\"lon\":[127.3604741,127.3602822,127.3602406,127.3602608,127.3602457,127.3602319,127.3603016,127.3604789,127.3603119,127.3602447,127.3603158,127.3604555,127.360323],\"marker\":{\"color\":\"#B6E880\"},\"mode\":\"markers\",\"name\":\"25\",\"showlegend\":true,\"subplot\":\"mapbox\",\"type\":\"scattermapbox\"},{\"customdata\":[[36.3751705,127.3591307,\"2019-05-02T17:15:00+09:00\"],[36.3752441,127.3590652,\"2019-05-02T17:30:00+09:00\"],[36.375209,127.3590767,\"2019-05-02T17:45:00+09:00\"],[36.375203,127.3590848,\"2019-05-02T18:00:00+09:00\"]],\"hovertemplate\":\"labels=29<br>latitude=%{customdata[0]}<br>longitude=%{customdata[1]}<br>datetime=%{customdata[2]}<extra></extra>\",\"lat\":[36.3751705,36.3752441,36.375209,36.375203],\"legendgroup\":\"29\",\"lon\":[127.3591307,127.3590652,127.3590767,127.3590848],\"marker\":{\"color\":\"#FF97FF\"},\"mode\":\"markers\",\"name\":\"29\",\"showlegend\":true,\"subplot\":\"mapbox\",\"type\":\"scattermapbox\"},{\"customdata\":[[36.3741428,127.3607271,\"2019-05-02T23:30:00+09:00\"]],\"hovertemplate\":\"labels=34<br>latitude=%{customdata[0]}<br>longitude=%{customdata[1]}<br>datetime=%{customdata[2]}<extra></extra>\",\"lat\":[36.3741428],\"legendgroup\":\"34\",\"lon\":[127.3607271],\"marker\":{\"color\":\"#FECB52\"},\"mode\":\"markers\",\"name\":\"34\",\"showlegend\":true,\"subplot\":\"mapbox\",\"type\":\"scattermapbox\"},{\"customdata\":[[36.3736649,127.3593592,\"2019-05-03T19:00:00+09:00\"]],\"hovertemplate\":\"labels=9<br>latitude=%{customdata[0]}<br>longitude=%{customdata[1]}<br>datetime=%{customdata[2]}<extra></extra>\",\"lat\":[36.3736649],\"legendgroup\":\"9\",\"lon\":[127.3593592],\"marker\":{\"color\":\"#636efa\"},\"mode\":\"markers\",\"name\":\"9\",\"showlegend\":true,\"subplot\":\"mapbox\",\"type\":\"scattermapbox\"},{\"customdata\":[[37.4129015,127.1267394,\"2019-05-06T15:45:00+09:00\"]],\"hovertemplate\":\"labels=0<br>latitude=%{customdata[0]}<br>longitude=%{customdata[1]}<br>datetime=%{customdata[2]}<extra></extra>\",\"lat\":[37.4129015],\"legendgroup\":\"0\",\"lon\":[127.1267394],\"marker\":{\"color\":\"#EF553B\"},\"mode\":\"markers\",\"name\":\"0\",\"showlegend\":true,\"subplot\":\"mapbox\",\"type\":\"scattermapbox\"},{\"customdata\":[[36.3735203,127.3587,\"2019-05-06T18:45:00+09:00\"]],\"hovertemplate\":\"labels=1<br>latitude=%{customdata[0]}<br>longitude=%{customdata[1]}<br>datetime=%{customdata[2]}<extra></extra>\",\"lat\":[36.3735203],\"legendgroup\":\"1\",\"lon\":[127.3587],\"marker\":{\"color\":\"#00cc96\"},\"mode\":\"markers\",\"name\":\"1\",\"showlegend\":true,\"subplot\":\"mapbox\",\"type\":\"scattermapbox\"}],                        {\"template\":{\"data\":{\"histogram2dcontour\":[{\"type\":\"histogram2dcontour\",\"colorbar\":{\"outlinewidth\":0,\"ticks\":\"\"},\"colorscale\":[[0.0,\"#0d0887\"],[0.1111111111111111,\"#46039f\"],[0.2222222222222222,\"#7201a8\"],[0.3333333333333333,\"#9c179e\"],[0.4444444444444444,\"#bd3786\"],[0.5555555555555556,\"#d8576b\"],[0.6666666666666666,\"#ed7953\"],[0.7777777777777778,\"#fb9f3a\"],[0.8888888888888888,\"#fdca26\"],[1.0,\"#f0f921\"]]}],\"choropleth\":[{\"type\":\"choropleth\",\"colorbar\":{\"outlinewidth\":0,\"ticks\":\"\"}}],\"histogram2d\":[{\"type\":\"histogram2d\",\"colorbar\":{\"outlinewidth\":0,\"ticks\":\"\"},\"colorscale\":[[0.0,\"#0d0887\"],[0.1111111111111111,\"#46039f\"],[0.2222222222222222,\"#7201a8\"],[0.3333333333333333,\"#9c179e\"],[0.4444444444444444,\"#bd3786\"],[0.5555555555555556,\"#d8576b\"],[0.6666666666666666,\"#ed7953\"],[0.7777777777777778,\"#fb9f3a\"],[0.8888888888888888,\"#fdca26\"],[1.0,\"#f0f921\"]]}],\"heatmap\":[{\"type\":\"heatmap\",\"colorbar\":{\"outlinewidth\":0,\"ticks\":\"\"},\"colorscale\":[[0.0,\"#0d0887\"],[0.1111111111111111,\"#46039f\"],[0.2222222222222222,\"#7201a8\"],[0.3333333333333333,\"#9c179e\"],[0.4444444444444444,\"#bd3786\"],[0.5555555555555556,\"#d8576b\"],[0.6666666666666666,\"#ed7953\"],[0.7777777777777778,\"#fb9f3a\"],[0.8888888888888888,\"#fdca26\"],[1.0,\"#f0f921\"]]}],\"heatmapgl\":[{\"type\":\"heatmapgl\",\"colorbar\":{\"outlinewidth\":0,\"ticks\":\"\"},\"colorscale\":[[0.0,\"#0d0887\"],[0.1111111111111111,\"#46039f\"],[0.2222222222222222,\"#7201a8\"],[0.3333333333333333,\"#9c179e\"],[0.4444444444444444,\"#bd3786\"],[0.5555555555555556,\"#d8576b\"],[0.6666666666666666,\"#ed7953\"],[0.7777777777777778,\"#fb9f3a\"],[0.8888888888888888,\"#fdca26\"],[1.0,\"#f0f921\"]]}],\"contourcarpet\":[{\"type\":\"contourcarpet\",\"colorbar\":{\"outlinewidth\":0,\"ticks\":\"\"}}],\"contour\":[{\"type\":\"contour\",\"colorbar\":{\"outlinewidth\":0,\"ticks\":\"\"},\"colorscale\":[[0.0,\"#0d0887\"],[0.1111111111111111,\"#46039f\"],[0.2222222222222222,\"#7201a8\"],[0.3333333333333333,\"#9c179e\"],[0.4444444444444444,\"#bd3786\"],[0.5555555555555556,\"#d8576b\"],[0.6666666666666666,\"#ed7953\"],[0.7777777777777778,\"#fb9f3a\"],[0.8888888888888888,\"#fdca26\"],[1.0,\"#f0f921\"]]}],\"surface\":[{\"type\":\"surface\",\"colorbar\":{\"outlinewidth\":0,\"ticks\":\"\"},\"colorscale\":[[0.0,\"#0d0887\"],[0.1111111111111111,\"#46039f\"],[0.2222222222222222,\"#7201a8\"],[0.3333333333333333,\"#9c179e\"],[0.4444444444444444,\"#bd3786\"],[0.5555555555555556,\"#d8576b\"],[0.6666666666666666,\"#ed7953\"],[0.7777777777777778,\"#fb9f3a\"],[0.8888888888888888,\"#fdca26\"],[1.0,\"#f0f921\"]]}],\"mesh3d\":[{\"type\":\"mesh3d\",\"colorbar\":{\"outlinewidth\":0,\"ticks\":\"\"}}],\"scatter\":[{\"marker\":{\"line\":{\"color\":\"#283442\"}},\"type\":\"scatter\"}],\"parcoords\":[{\"type\":\"parcoords\",\"line\":{\"colorbar\":{\"outlinewidth\":0,\"ticks\":\"\"}}}],\"scatterpolargl\":[{\"type\":\"scatterpolargl\",\"marker\":{\"colorbar\":{\"outlinewidth\":0,\"ticks\":\"\"}}}],\"bar\":[{\"error_x\":{\"color\":\"#f2f5fa\"},\"error_y\":{\"color\":\"#f2f5fa\"},\"marker\":{\"line\":{\"color\":\"rgb(17,17,17)\",\"width\":0.5},\"pattern\":{\"fillmode\":\"overlay\",\"size\":10,\"solidity\":0.2}},\"type\":\"bar\"}],\"scattergeo\":[{\"type\":\"scattergeo\",\"marker\":{\"colorbar\":{\"outlinewidth\":0,\"ticks\":\"\"}}}],\"scatterpolar\":[{\"type\":\"scatterpolar\",\"marker\":{\"colorbar\":{\"outlinewidth\":0,\"ticks\":\"\"}}}],\"histogram\":[{\"marker\":{\"pattern\":{\"fillmode\":\"overlay\",\"size\":10,\"solidity\":0.2}},\"type\":\"histogram\"}],\"scattergl\":[{\"marker\":{\"line\":{\"color\":\"#283442\"}},\"type\":\"scattergl\"}],\"scatter3d\":[{\"type\":\"scatter3d\",\"line\":{\"colorbar\":{\"outlinewidth\":0,\"ticks\":\"\"}},\"marker\":{\"colorbar\":{\"outlinewidth\":0,\"ticks\":\"\"}}}],\"scattermapbox\":[{\"type\":\"scattermapbox\",\"marker\":{\"colorbar\":{\"outlinewidth\":0,\"ticks\":\"\"}}}],\"scatterternary\":[{\"type\":\"scatterternary\",\"marker\":{\"colorbar\":{\"outlinewidth\":0,\"ticks\":\"\"}}}],\"scattercarpet\":[{\"type\":\"scattercarpet\",\"marker\":{\"colorbar\":{\"outlinewidth\":0,\"ticks\":\"\"}}}],\"carpet\":[{\"aaxis\":{\"endlinecolor\":\"#A2B1C6\",\"gridcolor\":\"#506784\",\"linecolor\":\"#506784\",\"minorgridcolor\":\"#506784\",\"startlinecolor\":\"#A2B1C6\"},\"baxis\":{\"endlinecolor\":\"#A2B1C6\",\"gridcolor\":\"#506784\",\"linecolor\":\"#506784\",\"minorgridcolor\":\"#506784\",\"startlinecolor\":\"#A2B1C6\"},\"type\":\"carpet\"}],\"table\":[{\"cells\":{\"fill\":{\"color\":\"#506784\"},\"line\":{\"color\":\"rgb(17,17,17)\"}},\"header\":{\"fill\":{\"color\":\"#2a3f5f\"},\"line\":{\"color\":\"rgb(17,17,17)\"}},\"type\":\"table\"}],\"barpolar\":[{\"marker\":{\"line\":{\"color\":\"rgb(17,17,17)\",\"width\":0.5},\"pattern\":{\"fillmode\":\"overlay\",\"size\":10,\"solidity\":0.2}},\"type\":\"barpolar\"}],\"pie\":[{\"automargin\":true,\"type\":\"pie\"}]},\"layout\":{\"autotypenumbers\":\"strict\",\"colorway\":[\"#636efa\",\"#EF553B\",\"#00cc96\",\"#ab63fa\",\"#FFA15A\",\"#19d3f3\",\"#FF6692\",\"#B6E880\",\"#FF97FF\",\"#FECB52\"],\"font\":{\"color\":\"#f2f5fa\"},\"hovermode\":\"closest\",\"hoverlabel\":{\"align\":\"left\"},\"paper_bgcolor\":\"rgb(17,17,17)\",\"plot_bgcolor\":\"rgb(17,17,17)\",\"polar\":{\"bgcolor\":\"rgb(17,17,17)\",\"angularaxis\":{\"gridcolor\":\"#506784\",\"linecolor\":\"#506784\",\"ticks\":\"\"},\"radialaxis\":{\"gridcolor\":\"#506784\",\"linecolor\":\"#506784\",\"ticks\":\"\"}},\"ternary\":{\"bgcolor\":\"rgb(17,17,17)\",\"aaxis\":{\"gridcolor\":\"#506784\",\"linecolor\":\"#506784\",\"ticks\":\"\"},\"baxis\":{\"gridcolor\":\"#506784\",\"linecolor\":\"#506784\",\"ticks\":\"\"},\"caxis\":{\"gridcolor\":\"#506784\",\"linecolor\":\"#506784\",\"ticks\":\"\"}},\"coloraxis\":{\"colorbar\":{\"outlinewidth\":0,\"ticks\":\"\"}},\"colorscale\":{\"sequential\":[[0.0,\"#0d0887\"],[0.1111111111111111,\"#46039f\"],[0.2222222222222222,\"#7201a8\"],[0.3333333333333333,\"#9c179e\"],[0.4444444444444444,\"#bd3786\"],[0.5555555555555556,\"#d8576b\"],[0.6666666666666666,\"#ed7953\"],[0.7777777777777778,\"#fb9f3a\"],[0.8888888888888888,\"#fdca26\"],[1.0,\"#f0f921\"]],\"sequentialminus\":[[0.0,\"#0d0887\"],[0.1111111111111111,\"#46039f\"],[0.2222222222222222,\"#7201a8\"],[0.3333333333333333,\"#9c179e\"],[0.4444444444444444,\"#bd3786\"],[0.5555555555555556,\"#d8576b\"],[0.6666666666666666,\"#ed7953\"],[0.7777777777777778,\"#fb9f3a\"],[0.8888888888888888,\"#fdca26\"],[1.0,\"#f0f921\"]],\"diverging\":[[0,\"#8e0152\"],[0.1,\"#c51b7d\"],[0.2,\"#de77ae\"],[0.3,\"#f1b6da\"],[0.4,\"#fde0ef\"],[0.5,\"#f7f7f7\"],[0.6,\"#e6f5d0\"],[0.7,\"#b8e186\"],[0.8,\"#7fbc41\"],[0.9,\"#4d9221\"],[1,\"#276419\"]]},\"xaxis\":{\"gridcolor\":\"#283442\",\"linecolor\":\"#506784\",\"ticks\":\"\",\"title\":{\"standoff\":15},\"zerolinecolor\":\"#283442\",\"automargin\":true,\"zerolinewidth\":2},\"yaxis\":{\"gridcolor\":\"#283442\",\"linecolor\":\"#506784\",\"ticks\":\"\",\"title\":{\"standoff\":15},\"zerolinecolor\":\"#283442\",\"automargin\":true,\"zerolinewidth\":2},\"scene\":{\"xaxis\":{\"backgroundcolor\":\"rgb(17,17,17)\",\"gridcolor\":\"#506784\",\"linecolor\":\"#506784\",\"showbackground\":true,\"ticks\":\"\",\"zerolinecolor\":\"#C8D4E3\",\"gridwidth\":2},\"yaxis\":{\"backgroundcolor\":\"rgb(17,17,17)\",\"gridcolor\":\"#506784\",\"linecolor\":\"#506784\",\"showbackground\":true,\"ticks\":\"\",\"zerolinecolor\":\"#C8D4E3\",\"gridwidth\":2},\"zaxis\":{\"backgroundcolor\":\"rgb(17,17,17)\",\"gridcolor\":\"#506784\",\"linecolor\":\"#506784\",\"showbackground\":true,\"ticks\":\"\",\"zerolinecolor\":\"#C8D4E3\",\"gridwidth\":2}},\"shapedefaults\":{\"line\":{\"color\":\"#f2f5fa\"}},\"annotationdefaults\":{\"arrowcolor\":\"#f2f5fa\",\"arrowhead\":0,\"arrowwidth\":1},\"geo\":{\"bgcolor\":\"rgb(17,17,17)\",\"landcolor\":\"rgb(17,17,17)\",\"subunitcolor\":\"#506784\",\"showland\":true,\"showlakes\":true,\"lakecolor\":\"rgb(17,17,17)\"},\"title\":{\"x\":0.05},\"updatemenudefaults\":{\"bgcolor\":\"#506784\",\"borderwidth\":0},\"sliderdefaults\":{\"bgcolor\":\"#C8D4E3\",\"borderwidth\":1,\"bordercolor\":\"rgb(17,17,17)\",\"tickwidth\":0},\"mapbox\":{\"style\":\"dark\"}}},\"mapbox\":{\"domain\":{\"x\":[0.0,1.0],\"y\":[0.0,1.0]},\"center\":{\"lat\":36.37,\"lon\":127.36},\"accesstoken\":\"pk.eyJ1Ijoic2p1dXVuIiwiYSI6ImNsaGQ3dWNzdTBuNGozcmsxMTMyYTlucjgifQ.c-du_cmn7cle9RhrkImX2g\\n\",\"zoom\":14,\"style\":\"streets\"},\"legend\":{\"title\":{\"text\":\"labels\"},\"tracegroupgap\":0},\"margin\":{\"t\":60},\"height\":800,\"width\":800,\"title\":{\"text\":\"Time trace on location\"}},                        {\"responsive\": true}                    ).then(function(){\n                            \nvar gd = document.getElementById('f145ce3a-039a-4f10-a7f9-3b4807b511d7');\nvar x = new MutationObserver(function (mutations, observer) {{\n        var display = window.getComputedStyle(gd).display;\n        if (!display || display === 'none') {{\n            console.log([gd, 'removed!']);\n            Plotly.purge(gd);\n            observer.disconnect();\n        }}\n}});\n\n// Listen for the removal of the full notebook cells\nvar notebookContainer = gd.closest('#notebook-container');\nif (notebookContainer) {{\n    x.observe(notebookContainer, {childList: true});\n}}\n\n// Listen for the clearing of the current output cell\nvar outputEl = gd.closest('.output');\nif (outputEl) {{\n    x.observe(outputEl, {childList: true});\n}}\n\n                        })                };                });            </script>        </div>"
     },
     "metadata": {},
     "output_type": "display_data"
    }
   ],
   "source": [
    "import plotly.express as px\n",
    "\n",
    "px.set_mapbox_access_token(open(\"../.mapbox_token\").read())\n",
    "\n",
    "fig = px.scatter_mapbox(\n",
    "    resampled_df,\n",
    "    lat=\"latitude\",\n",
    "    lon=\"longitude\",\n",
    "    color=\"labels\",\n",
    "    hover_data=[\"latitude\", \"longitude\", \"datetime\"],\n",
    "    # If you want animation, please uncomment this line\n",
    "    # animation_frame=resampled_df.datetime.astype(str),\n",
    "    center={'lat': 36.37 , 'lon': 127.36},\n",
    "    zoom=14,\n",
    "    width=800,\n",
    "    height=800\n",
    ")\n",
    "fig.update_layout(title=\"Time trace on location\", mapbox_style=\"streets\")\n",
    "# fig.update_layout(mapbox_bounds={\"west\": 127.35, \"east\": 127.37, \"south\": 36.36, \"north\": 36.38})\n",
    "\n",
    "fig.show()"
   ]
  },
  {
   "cell_type": "markdown",
   "metadata": {},
   "source": [
    "## Define routine\n",
    "\n",
    "Using clustering, define routines"
   ]
  },
  {
   "cell_type": "code",
   "execution_count": 11,
   "metadata": {},
   "outputs": [],
   "source": [
    "ROUTINE_LABELS = {\n",
    "    10: \"CLASS\",\n",
    "    7: \"INDOOR\",\n",
    "    8: \"MEAL\",\n",
    "    9: \"MEAL\",\n",
    "    25: \"STUDY\",\n",
    "    23: \"CLASS\",\n",
    "    15: \"MEAL\",\n",
    "    29: \"EXERCISE\",\n",
    "    13: \"STUDY\"\n",
    "}"
   ]
  },
  {
   "cell_type": "code",
   "execution_count": 13,
   "metadata": {},
   "outputs": [
    {
     "data": {
      "text/plain": "                   datetime      timestamp   longitude   latitude labels   \n0 2019-04-30 09:00:00+09:00  1556582713087  127.362479   36.37021     10  \\\n2 2019-04-30 09:30:00+09:00           None        None       None   None   \n3 2019-04-30 09:45:00+09:00  1556585347204  127.362467  36.370216     10   \n4 2019-04-30 10:00:00+09:00  1556586774094  127.362427  36.370349     10   \n5 2019-04-30 10:15:00+09:00  1556586945903  127.362403  36.370506     10   \n\n  routine  \n0   CLASS  \n2     NaN  \n3   CLASS  \n4   CLASS  \n5   CLASS  ",
      "text/html": "<div>\n<style scoped>\n    .dataframe tbody tr th:only-of-type {\n        vertical-align: middle;\n    }\n\n    .dataframe tbody tr th {\n        vertical-align: top;\n    }\n\n    .dataframe thead th {\n        text-align: right;\n    }\n</style>\n<table border=\"1\" class=\"dataframe\">\n  <thead>\n    <tr style=\"text-align: right;\">\n      <th></th>\n      <th>datetime</th>\n      <th>timestamp</th>\n      <th>longitude</th>\n      <th>latitude</th>\n      <th>labels</th>\n      <th>routine</th>\n    </tr>\n  </thead>\n  <tbody>\n    <tr>\n      <th>0</th>\n      <td>2019-04-30 09:00:00+09:00</td>\n      <td>1556582713087</td>\n      <td>127.362479</td>\n      <td>36.37021</td>\n      <td>10</td>\n      <td>CLASS</td>\n    </tr>\n    <tr>\n      <th>2</th>\n      <td>2019-04-30 09:30:00+09:00</td>\n      <td>None</td>\n      <td>None</td>\n      <td>None</td>\n      <td>None</td>\n      <td>NaN</td>\n    </tr>\n    <tr>\n      <th>3</th>\n      <td>2019-04-30 09:45:00+09:00</td>\n      <td>1556585347204</td>\n      <td>127.362467</td>\n      <td>36.370216</td>\n      <td>10</td>\n      <td>CLASS</td>\n    </tr>\n    <tr>\n      <th>4</th>\n      <td>2019-04-30 10:00:00+09:00</td>\n      <td>1556586774094</td>\n      <td>127.362427</td>\n      <td>36.370349</td>\n      <td>10</td>\n      <td>CLASS</td>\n    </tr>\n    <tr>\n      <th>5</th>\n      <td>2019-04-30 10:15:00+09:00</td>\n      <td>1556586945903</td>\n      <td>127.362403</td>\n      <td>36.370506</td>\n      <td>10</td>\n      <td>CLASS</td>\n    </tr>\n  </tbody>\n</table>\n</div>"
     },
     "execution_count": 13,
     "metadata": {},
     "output_type": "execute_result"
    }
   ],
   "source": [
    "resampled_df['routine'] = resampled_df['labels'].map(ROUTINE_LABELS)\n",
    "resampled_df.head()"
   ]
  },
  {
   "cell_type": "code",
   "execution_count": 14,
   "metadata": {},
   "outputs": [
    {
     "data": {
      "text/plain": "                     datetime      timestamp   longitude   latitude labels   \n0   2019-04-30 09:00:00+09:00  1556582713087  127.362479   36.37021     10  \\\n2   2019-04-30 09:30:00+09:00           None        None       None   None   \n3   2019-04-30 09:45:00+09:00  1556585347204  127.362467  36.370216     10   \n4   2019-04-30 10:00:00+09:00  1556586774094  127.362427  36.370349     10   \n5   2019-04-30 10:15:00+09:00  1556586945903  127.362403  36.370506     10   \n..                        ...            ...         ...        ...    ...   \n600 2019-05-06 15:00:00+09:00           None        None       None   None   \n603 2019-05-06 15:45:00+09:00  1557125170469  127.126739  37.412901      0   \n615 2019-05-06 18:45:00+09:00  1557135900000    127.3587   36.37352      1   \n616 2019-05-06 19:00:00+09:00  1557137207851  127.357251  36.373675      7   \n617 2019-05-06 19:15:00+09:00  1557138135806  127.357263  36.373667      7   \n\n    routine  \n0     CLASS  \n2       NaN  \n3     CLASS  \n4     CLASS  \n5     CLASS  \n..      ...  \n600     NaN  \n603     NaN  \n615     NaN  \n616  INDOOR  \n617  INDOOR  \n\n[572 rows x 6 columns]",
      "text/html": "<div>\n<style scoped>\n    .dataframe tbody tr th:only-of-type {\n        vertical-align: middle;\n    }\n\n    .dataframe tbody tr th {\n        vertical-align: top;\n    }\n\n    .dataframe thead th {\n        text-align: right;\n    }\n</style>\n<table border=\"1\" class=\"dataframe\">\n  <thead>\n    <tr style=\"text-align: right;\">\n      <th></th>\n      <th>datetime</th>\n      <th>timestamp</th>\n      <th>longitude</th>\n      <th>latitude</th>\n      <th>labels</th>\n      <th>routine</th>\n    </tr>\n  </thead>\n  <tbody>\n    <tr>\n      <th>0</th>\n      <td>2019-04-30 09:00:00+09:00</td>\n      <td>1556582713087</td>\n      <td>127.362479</td>\n      <td>36.37021</td>\n      <td>10</td>\n      <td>CLASS</td>\n    </tr>\n    <tr>\n      <th>2</th>\n      <td>2019-04-30 09:30:00+09:00</td>\n      <td>None</td>\n      <td>None</td>\n      <td>None</td>\n      <td>None</td>\n      <td>NaN</td>\n    </tr>\n    <tr>\n      <th>3</th>\n      <td>2019-04-30 09:45:00+09:00</td>\n      <td>1556585347204</td>\n      <td>127.362467</td>\n      <td>36.370216</td>\n      <td>10</td>\n      <td>CLASS</td>\n    </tr>\n    <tr>\n      <th>4</th>\n      <td>2019-04-30 10:00:00+09:00</td>\n      <td>1556586774094</td>\n      <td>127.362427</td>\n      <td>36.370349</td>\n      <td>10</td>\n      <td>CLASS</td>\n    </tr>\n    <tr>\n      <th>5</th>\n      <td>2019-04-30 10:15:00+09:00</td>\n      <td>1556586945903</td>\n      <td>127.362403</td>\n      <td>36.370506</td>\n      <td>10</td>\n      <td>CLASS</td>\n    </tr>\n    <tr>\n      <th>...</th>\n      <td>...</td>\n      <td>...</td>\n      <td>...</td>\n      <td>...</td>\n      <td>...</td>\n      <td>...</td>\n    </tr>\n    <tr>\n      <th>600</th>\n      <td>2019-05-06 15:00:00+09:00</td>\n      <td>None</td>\n      <td>None</td>\n      <td>None</td>\n      <td>None</td>\n      <td>NaN</td>\n    </tr>\n    <tr>\n      <th>603</th>\n      <td>2019-05-06 15:45:00+09:00</td>\n      <td>1557125170469</td>\n      <td>127.126739</td>\n      <td>37.412901</td>\n      <td>0</td>\n      <td>NaN</td>\n    </tr>\n    <tr>\n      <th>615</th>\n      <td>2019-05-06 18:45:00+09:00</td>\n      <td>1557135900000</td>\n      <td>127.3587</td>\n      <td>36.37352</td>\n      <td>1</td>\n      <td>NaN</td>\n    </tr>\n    <tr>\n      <th>616</th>\n      <td>2019-05-06 19:00:00+09:00</td>\n      <td>1557137207851</td>\n      <td>127.357251</td>\n      <td>36.373675</td>\n      <td>7</td>\n      <td>INDOOR</td>\n    </tr>\n    <tr>\n      <th>617</th>\n      <td>2019-05-06 19:15:00+09:00</td>\n      <td>1557138135806</td>\n      <td>127.357263</td>\n      <td>36.373667</td>\n      <td>7</td>\n      <td>INDOOR</td>\n    </tr>\n  </tbody>\n</table>\n<p>572 rows × 6 columns</p>\n</div>"
     },
     "execution_count": 14,
     "metadata": {},
     "output_type": "execute_result"
    }
   ],
   "source": [
    "resampled_df"
   ]
  },
  {
   "cell_type": "markdown",
   "metadata": {},
   "source": [
    "## Return dataframe\n",
    "\n",
    "Make dataframe for routine.\n",
    "It will be stored in `csv` directory.\n",
    "\n",
    "---\n",
    "\n",
    "DataFrame columns\n",
    "\n",
    "- timestamp\n",
    "- user_id\n",
    "- logitude\n",
    "- latitude\n",
    "- routine\n",
    "- start_at\n",
    "- end_at\n",
    "- weekday"
   ]
  },
  {
   "cell_type": "code",
   "execution_count": 15,
   "metadata": {},
   "outputs": [
    {
     "data": {
      "text/plain": "                longitude   latitude routine                  start_at   \ntimestamp                                                                \n1556582713087  127.362479   36.37021   CLASS 2019-04-30 09:00:00+09:00  \\\n1556585347204  127.362467  36.370216   CLASS 2019-04-30 09:45:00+09:00   \n1556586774094  127.362427  36.370349   CLASS 2019-04-30 10:00:00+09:00   \n1556586945903  127.362403  36.370506   CLASS 2019-04-30 10:15:00+09:00   \n1556589943395  127.362521  36.370524   CLASS 2019-04-30 11:00:00+09:00   \n\n              user_id                    end_at  weekday  \ntimestamp                                                 \n1556582713087   P3029 2019-04-30 09:15:00+09:00        1  \n1556585347204   P3029 2019-04-30 10:00:00+09:00        1  \n1556586774094   P3029 2019-04-30 10:15:00+09:00        1  \n1556586945903   P3029 2019-04-30 10:30:00+09:00        1  \n1556589943395   P3029 2019-04-30 11:15:00+09:00        1  ",
      "text/html": "<div>\n<style scoped>\n    .dataframe tbody tr th:only-of-type {\n        vertical-align: middle;\n    }\n\n    .dataframe tbody tr th {\n        vertical-align: top;\n    }\n\n    .dataframe thead th {\n        text-align: right;\n    }\n</style>\n<table border=\"1\" class=\"dataframe\">\n  <thead>\n    <tr style=\"text-align: right;\">\n      <th></th>\n      <th>longitude</th>\n      <th>latitude</th>\n      <th>routine</th>\n      <th>start_at</th>\n      <th>user_id</th>\n      <th>end_at</th>\n      <th>weekday</th>\n    </tr>\n    <tr>\n      <th>timestamp</th>\n      <th></th>\n      <th></th>\n      <th></th>\n      <th></th>\n      <th></th>\n      <th></th>\n      <th></th>\n    </tr>\n  </thead>\n  <tbody>\n    <tr>\n      <th>1556582713087</th>\n      <td>127.362479</td>\n      <td>36.37021</td>\n      <td>CLASS</td>\n      <td>2019-04-30 09:00:00+09:00</td>\n      <td>P3029</td>\n      <td>2019-04-30 09:15:00+09:00</td>\n      <td>1</td>\n    </tr>\n    <tr>\n      <th>1556585347204</th>\n      <td>127.362467</td>\n      <td>36.370216</td>\n      <td>CLASS</td>\n      <td>2019-04-30 09:45:00+09:00</td>\n      <td>P3029</td>\n      <td>2019-04-30 10:00:00+09:00</td>\n      <td>1</td>\n    </tr>\n    <tr>\n      <th>1556586774094</th>\n      <td>127.362427</td>\n      <td>36.370349</td>\n      <td>CLASS</td>\n      <td>2019-04-30 10:00:00+09:00</td>\n      <td>P3029</td>\n      <td>2019-04-30 10:15:00+09:00</td>\n      <td>1</td>\n    </tr>\n    <tr>\n      <th>1556586945903</th>\n      <td>127.362403</td>\n      <td>36.370506</td>\n      <td>CLASS</td>\n      <td>2019-04-30 10:15:00+09:00</td>\n      <td>P3029</td>\n      <td>2019-04-30 10:30:00+09:00</td>\n      <td>1</td>\n    </tr>\n    <tr>\n      <th>1556589943395</th>\n      <td>127.362521</td>\n      <td>36.370524</td>\n      <td>CLASS</td>\n      <td>2019-04-30 11:00:00+09:00</td>\n      <td>P3029</td>\n      <td>2019-04-30 11:15:00+09:00</td>\n      <td>1</td>\n    </tr>\n  </tbody>\n</table>\n</div>"
     },
     "execution_count": 15,
     "metadata": {},
     "output_type": "execute_result"
    }
   ],
   "source": [
    "result_df = resampled_df[resampled_df['routine'].notnull()] \\\n",
    "    [['timestamp', 'longitude', 'latitude', 'routine', 'datetime']] \\\n",
    "    .rename(columns={'datetime': 'start_at'}) \\\n",
    "    .set_index('timestamp')\n",
    "result_df['user_id'] = USER_ID\n",
    "result_df['end_at'] = result_df['start_at'] + pd.Timedelta(minutes=15)\n",
    "result_df['weekday'] = result_df['start_at'].dt.dayofweek\n",
    "result_df.head()"
   ]
  },
  {
   "cell_type": "code",
   "execution_count": 17,
   "metadata": {},
   "outputs": [],
   "source": [
    "result_df.to_csv(f'../csv/routines_raw/{USER_ID}-location.csv', index=False)"
   ]
  },
  {
   "cell_type": "code",
   "execution_count": null,
   "metadata": {},
   "outputs": [],
   "source": []
  }
 ],
 "metadata": {
  "kernelspec": {
   "display_name": "Python 3 (ipykernel)",
   "language": "python",
   "name": "python3"
  },
  "language_info": {
   "codemirror_mode": {
    "name": "ipython",
    "version": 3
   },
   "file_extension": ".py",
   "mimetype": "text/x-python",
   "name": "python",
   "nbconvert_exporter": "python",
   "pygments_lexer": "ipython3",
   "version": "3.9.16"
  }
 },
 "nbformat": 4,
 "nbformat_minor": 1
}
